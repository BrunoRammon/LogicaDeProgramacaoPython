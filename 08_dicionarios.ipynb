{
 "cells": [
  {
   "cell_type": "markdown",
   "metadata": {
    "id": "6c_oKJuZ9Qp5",
    "tags": []
   },
   "source": [
    "## Lógica de programação II - Dicionários\n",
    "\n",
    "Na aula de hoje, iremos explorar os seguintes tópicos em Python:\n",
    "- Dicionários\n"
   ]
  },
  {
   "cell_type": "markdown",
   "metadata": {
    "id": "1HUp71Tj9WbW"
   },
   "source": [
    "### Dicionários\n",
    "\n",
    "Uma outra estrutura de dados bem importante em Python são os **dicionários**.\n",
    "\n",
    "O dicionário também é uma **coleção de dados**. \n",
    "\n",
    "A diferença é que um dicionário é definido a partir de **dois elementos**: uma **chave** e um **valor**.\n",
    "\n",
    "- A **chave** é uma string ou int que é utilizada como se fosse um índice, identificando os respectivos valores.\n",
    "\n",
    "- O **valor** pode ser qualquer dado: um int, um float, uma str, um bool, uma lista, uma tupla, outro dicionário...\n",
    "\n"
   ]
  },
  {
   "cell_type": "markdown",
   "metadata": {
    "id": "bcGKF2w4wh5y"
   },
   "source": [
    "Dicionários são indicados **entre chaves {}** segundo a estrutura:\n",
    "```python\n",
    "dicionario = {\"chave\": valor}\n",
    "```"
   ]
  },
  {
   "cell_type": "code",
   "execution_count": 1,
   "metadata": {
    "colab": {
     "base_uri": "https://localhost:8080/"
    },
    "executionInfo": {
     "elapsed": 3,
     "status": "ok",
     "timestamp": 1665180418634,
     "user": {
      "displayName": "Gilberto Kaihami",
      "userId": "07651446941847976228"
     },
     "user_tz": 180
    },
    "id": "1DvgGEEH8KQ1",
    "outputId": "784c0ff3-e1f9-4a53-93c7-11908a166b92"
   },
   "outputs": [
    {
     "data": {
      "text/plain": [
       "{'nome': 'Fulano', 'idade': 32, 'cidade': 'BH', 'filhos': 0, 'altura': 1.42}"
      ]
     },
     "execution_count": 1,
     "metadata": {},
     "output_type": "execute_result"
    }
   ],
   "source": [
    "# Definindo um dicionário\n",
    "# Formato\n",
    "# {\n",
    "#     \"chave\": valor,\n",
    "#     \"chave\": valor,\n",
    "#     \"chave\": valor,\n",
    "# }\n",
    "# Valores de um dicionário pode ser qualquer objeto!\n",
    "dicionario_do_fulano = {\n",
    "    'nome': 'Fulano',\n",
    "    'idade': 32,\n",
    "    'cidade': 'BH',\n",
    "    'filhos': 0,\n",
    "    'altura': 1.42\n",
    "}\n",
    "dicionario_do_fulano"
   ]
  },
  {
   "cell_type": "markdown",
   "metadata": {
    "id": "vQ9brwtMz-bL"
   },
   "source": [
    "Podemos acessar os valores do dicionário a partir das chaves"
   ]
  },
  {
   "cell_type": "code",
   "execution_count": 2,
   "metadata": {
    "colab": {
     "base_uri": "https://localhost:8080/",
     "height": 35
    },
    "executionInfo": {
     "elapsed": 3,
     "status": "ok",
     "timestamp": 1665180420113,
     "user": {
      "displayName": "Gilberto Kaihami",
      "userId": "07651446941847976228"
     },
     "user_tz": 180
    },
    "id": "O-nKlTdsw6pi",
    "outputId": "306e3071-542d-496d-c4ec-efc6cd0104d2"
   },
   "outputs": [
    {
     "data": {
      "application/vnd.google.colaboratory.intrinsic+json": {
       "type": "string"
      },
      "text/plain": [
       "'BH'"
      ]
     },
     "execution_count": 2,
     "metadata": {},
     "output_type": "execute_result"
    }
   ],
   "source": [
    "dicionario_do_fulano['cidade']"
   ]
  },
  {
   "cell_type": "code",
   "execution_count": 3,
   "metadata": {
    "colab": {
     "base_uri": "https://localhost:8080/",
     "height": 35
    },
    "executionInfo": {
     "elapsed": 3,
     "status": "ok",
     "timestamp": 1665180421331,
     "user": {
      "displayName": "Gilberto Kaihami",
      "userId": "07651446941847976228"
     },
     "user_tz": 180
    },
    "id": "LisVE95I0DmJ",
    "outputId": "4750cef8-8661-430d-dbbf-6f3f587e6e35"
   },
   "outputs": [
    {
     "data": {
      "application/vnd.google.colaboratory.intrinsic+json": {
       "type": "string"
      },
      "text/plain": [
       "'Fulano'"
      ]
     },
     "execution_count": 3,
     "metadata": {},
     "output_type": "execute_result"
    }
   ],
   "source": [
    "dicionario_do_fulano['nome']"
   ]
  },
  {
   "cell_type": "code",
   "execution_count": 4,
   "metadata": {
    "executionInfo": {
     "elapsed": 408,
     "status": "ok",
     "timestamp": 1665180424529,
     "user": {
      "displayName": "Gilberto Kaihami",
      "userId": "07651446941847976228"
     },
     "user_tz": 180
    },
    "id": "yxtpucQ40FEy"
   },
   "outputs": [],
   "source": [
    "# Criando um dicionário de cadastros\n",
    "cadastro = {\n",
    "    'nomes': ['Joãozinho', 'Mariazinha'],\n",
    "    'idades': [32, 25],\n",
    "    'cidades': ['Maua', 'Santo André'],\n",
    "    'filhos': [0, 0],\n",
    "    'alturas': [1.80, 1.65]\n",
    "}"
   ]
  },
  {
   "cell_type": "code",
   "execution_count": 5,
   "metadata": {
    "colab": {
     "base_uri": "https://localhost:8080/"
    },
    "executionInfo": {
     "elapsed": 2,
     "status": "ok",
     "timestamp": 1665180425473,
     "user": {
      "displayName": "Gilberto Kaihami",
      "userId": "07651446941847976228"
     },
     "user_tz": 180
    },
    "id": "QGrvD1b70GfE",
    "outputId": "4f963d7e-4ce4-4428-dd90-62414b80cccd"
   },
   "outputs": [
    {
     "data": {
      "text/plain": [
       "{'nomes': ['Joãozinho', 'Mariazinha'],\n",
       " 'idades': [32, 25],\n",
       " 'cidades': ['Maua', 'Santo André'],\n",
       " 'filhos': [0, 0],\n",
       " 'alturas': [1.8, 1.65]}"
      ]
     },
     "execution_count": 5,
     "metadata": {},
     "output_type": "execute_result"
    }
   ],
   "source": [
    "cadastro"
   ]
  },
  {
   "cell_type": "code",
   "execution_count": 6,
   "metadata": {
    "colab": {
     "base_uri": "https://localhost:8080/"
    },
    "executionInfo": {
     "elapsed": 2,
     "status": "ok",
     "timestamp": 1665180426867,
     "user": {
      "displayName": "Gilberto Kaihami",
      "userId": "07651446941847976228"
     },
     "user_tz": 180
    },
    "id": "RlfAMx870LAx",
    "outputId": "2accba47-8bb3-4ccf-c941-a46876dbd263"
   },
   "outputs": [
    {
     "data": {
      "text/plain": [
       "['Joãozinho', 'Mariazinha']"
      ]
     },
     "execution_count": 6,
     "metadata": {},
     "output_type": "execute_result"
    }
   ],
   "source": [
    "cadastro['nomes']"
   ]
  },
  {
   "cell_type": "code",
   "execution_count": 7,
   "metadata": {
    "colab": {
     "base_uri": "https://localhost:8080/"
    },
    "executionInfo": {
     "elapsed": 2,
     "status": "ok",
     "timestamp": 1665180428750,
     "user": {
      "displayName": "Gilberto Kaihami",
      "userId": "07651446941847976228"
     },
     "user_tz": 180
    },
    "id": "vOqmdL5clllr",
    "outputId": "ad56c1c4-dac1-4c38-e271-8e229fdca12c"
   },
   "outputs": [
    {
     "data": {
      "text/plain": [
       "[1.8, 1.65]"
      ]
     },
     "execution_count": 7,
     "metadata": {},
     "output_type": "execute_result"
    }
   ],
   "source": [
    "cadastro['alturas']"
   ]
  },
  {
   "cell_type": "markdown",
   "metadata": {
    "id": "mpgq6sQH0RG7"
   },
   "source": [
    "Poderíamos, ao invés de um dicionário, usar uma lista de listas, como abaixo. \n",
    "\n",
    "Porém, neste caso, fica bem menos intuitivo quando queremos selecionar os elementos que representam nomes ou cidades, porque somos obrigado a usar números para indexar, ao invés das chaves."
   ]
  },
  {
   "cell_type": "code",
   "execution_count": 8,
   "metadata": {
    "executionInfo": {
     "elapsed": 376,
     "status": "ok",
     "timestamp": 1665180435291,
     "user": {
      "displayName": "Gilberto Kaihami",
      "userId": "07651446941847976228"
     },
     "user_tz": 180
    },
    "id": "ZioDAVHkl3FY"
   },
   "outputs": [],
   "source": [
    "cadastro = {\n",
    "    'nomes': ['Joãozinho', 'Mariazinha'],\n",
    "    'idades': [32, 25],\n",
    "    'cidades': ['Maua', 'Santo André'],\n",
    "    'filhos': [0, 0],\n",
    "    'alturas': [1.80, 1.65]\n",
    "}"
   ]
  },
  {
   "cell_type": "code",
   "execution_count": 9,
   "metadata": {
    "executionInfo": {
     "elapsed": 1,
     "status": "ok",
     "timestamp": 1665180438324,
     "user": {
      "displayName": "Gilberto Kaihami",
      "userId": "07651446941847976228"
     },
     "user_tz": 180
    },
    "id": "QfHgva-S0L7I"
   },
   "outputs": [],
   "source": [
    "nomes = ['Joãozinho', 'Mariazinha']\n",
    "idades = [32, 25]\n",
    "alturas = [1.80, 1.65]"
   ]
  },
  {
   "cell_type": "code",
   "execution_count": 10,
   "metadata": {
    "executionInfo": {
     "elapsed": 1,
     "status": "ok",
     "timestamp": 1665180439634,
     "user": {
      "displayName": "Gilberto Kaihami",
      "userId": "07651446941847976228"
     },
     "user_tz": 180
    },
    "id": "ZLw7uvsk0TGS"
   },
   "outputs": [],
   "source": [
    "cadastro_listas = [\n",
    "    nomes,\n",
    "    idades,\n",
    "    alturas\n",
    "]"
   ]
  },
  {
   "cell_type": "code",
   "execution_count": 11,
   "metadata": {
    "colab": {
     "base_uri": "https://localhost:8080/"
    },
    "executionInfo": {
     "elapsed": 2,
     "status": "ok",
     "timestamp": 1665180441194,
     "user": {
      "displayName": "Gilberto Kaihami",
      "userId": "07651446941847976228"
     },
     "user_tz": 180
    },
    "id": "TWJgOKLI0UPc",
    "outputId": "60bdb1fb-bdfe-44ce-a76a-f0d8a097e4c4"
   },
   "outputs": [
    {
     "data": {
      "text/plain": [
       "[['Joãozinho', 'Mariazinha'], [32, 25], [1.8, 1.65]]"
      ]
     },
     "execution_count": 11,
     "metadata": {},
     "output_type": "execute_result"
    }
   ],
   "source": [
    "cadastro_listas"
   ]
  },
  {
   "cell_type": "code",
   "execution_count": 12,
   "metadata": {
    "colab": {
     "base_uri": "https://localhost:8080/"
    },
    "executionInfo": {
     "elapsed": 1,
     "status": "ok",
     "timestamp": 1665180442526,
     "user": {
      "displayName": "Gilberto Kaihami",
      "userId": "07651446941847976228"
     },
     "user_tz": 180
    },
    "id": "eb6K7hvo0VxI",
    "outputId": "ea23fa50-d0b4-443c-e5c5-d6f17a3f1c15"
   },
   "outputs": [
    {
     "data": {
      "text/plain": [
       "1.8"
      ]
     },
     "execution_count": 12,
     "metadata": {},
     "output_type": "execute_result"
    }
   ],
   "source": [
    "# Pegando altura do Joãozinho utilizando listas de listas\n",
    "cadastro_listas[2][0]"
   ]
  },
  {
   "cell_type": "code",
   "execution_count": 13,
   "metadata": {
    "colab": {
     "base_uri": "https://localhost:8080/"
    },
    "executionInfo": {
     "elapsed": 2,
     "status": "ok",
     "timestamp": 1665180443912,
     "user": {
      "displayName": "Gilberto Kaihami",
      "userId": "07651446941847976228"
     },
     "user_tz": 180
    },
    "id": "t2FoZT3cmi3Y",
    "outputId": "daa29c89-6a2b-4d19-9b53-93ba14be8d77"
   },
   "outputs": [
    {
     "data": {
      "text/plain": [
       "1.8"
      ]
     },
     "execution_count": 13,
     "metadata": {},
     "output_type": "execute_result"
    }
   ],
   "source": [
    "# Pegando a altura de Joãozinho com dicionários\n",
    "cadastro['alturas'][0]"
   ]
  },
  {
   "cell_type": "markdown",
   "metadata": {
    "id": "NpZisa5H0kZL"
   },
   "source": [
    "Para adicionar elementos ao dicionário, não precisamos de uma função pronta (como o append das listas). \n",
    "\n",
    "Basta definir a nova chave como uma variável, e atribuir um novo valor a ela:\n"
   ]
  },
  {
   "cell_type": "code",
   "execution_count": 14,
   "metadata": {
    "colab": {
     "base_uri": "https://localhost:8080/"
    },
    "executionInfo": {
     "elapsed": 2,
     "status": "ok",
     "timestamp": 1665180447933,
     "user": {
      "displayName": "Gilberto Kaihami",
      "userId": "07651446941847976228"
     },
     "user_tz": 180
    },
    "id": "-vZ-tkF60XgT",
    "outputId": "b48c627f-cdd8-4fd8-fd50-8d9b690ff623"
   },
   "outputs": [
    {
     "data": {
      "text/plain": [
       "{'nomes': ['Joãozinho', 'Mariazinha'],\n",
       " 'idades': [32, 25],\n",
       " 'cidades': ['Maua', 'Santo André'],\n",
       " 'filhos': [0, 0],\n",
       " 'alturas': [1.8, 1.65]}"
      ]
     },
     "execution_count": 14,
     "metadata": {},
     "output_type": "execute_result"
    }
   ],
   "source": [
    "cadastro"
   ]
  },
  {
   "cell_type": "code",
   "execution_count": 15,
   "metadata": {
    "executionInfo": {
     "elapsed": 1,
     "status": "ok",
     "timestamp": 1665180449467,
     "user": {
      "displayName": "Gilberto Kaihami",
      "userId": "07651446941847976228"
     },
     "user_tz": 180
    },
    "id": "8DgO2Jqq0icN"
   },
   "outputs": [],
   "source": [
    "# Adicionando uma nova chave no dicionário `cadastro`\n",
    "cadastro['pets'] = ['Bia', 'Luiza']"
   ]
  },
  {
   "cell_type": "code",
   "execution_count": 16,
   "metadata": {
    "colab": {
     "base_uri": "https://localhost:8080/"
    },
    "executionInfo": {
     "elapsed": 2,
     "status": "ok",
     "timestamp": 1665180451661,
     "user": {
      "displayName": "Gilberto Kaihami",
      "userId": "07651446941847976228"
     },
     "user_tz": 180
    },
    "id": "FWNzuDo40oPg",
    "outputId": "fe7ddb94-4783-4546-bd3b-0c73b802956a"
   },
   "outputs": [
    {
     "data": {
      "text/plain": [
       "{'nomes': ['Joãozinho', 'Mariazinha'],\n",
       " 'idades': [32, 25],\n",
       " 'cidades': ['Maua', 'Santo André'],\n",
       " 'filhos': [0, 0],\n",
       " 'alturas': [1.8, 1.65],\n",
       " 'pets': ['Bia', 'Luiza']}"
      ]
     },
     "execution_count": 16,
     "metadata": {},
     "output_type": "execute_result"
    }
   ],
   "source": [
    "cadastro"
   ]
  },
  {
   "cell_type": "code",
   "execution_count": 17,
   "metadata": {
    "executionInfo": {
     "elapsed": 1,
     "status": "ok",
     "timestamp": 1665180452944,
     "user": {
      "displayName": "Gilberto Kaihami",
      "userId": "07651446941847976228"
     },
     "user_tz": 180
    },
    "id": "PXojn4WL0pk6"
   },
   "outputs": [],
   "source": [
    "# Realizar a mesma operação com a lista de listas\n",
    "cadastro_listas.append(['Bia', 'Luiza'])\n"
   ]
  },
  {
   "cell_type": "code",
   "execution_count": 18,
   "metadata": {
    "colab": {
     "base_uri": "https://localhost:8080/"
    },
    "executionInfo": {
     "elapsed": 375,
     "status": "ok",
     "timestamp": 1665180453851,
     "user": {
      "displayName": "Gilberto Kaihami",
      "userId": "07651446941847976228"
     },
     "user_tz": 180
    },
    "id": "pEMvJr7p0z8r",
    "outputId": "8bbc4e03-3233-4413-9892-5d93f3a5e442"
   },
   "outputs": [
    {
     "data": {
      "text/plain": [
       "[['Joãozinho', 'Mariazinha'], [32, 25], [1.8, 1.65], ['Bia', 'Luiza']]"
      ]
     },
     "execution_count": 18,
     "metadata": {},
     "output_type": "execute_result"
    }
   ],
   "source": [
    "# Automaticamente o elemento criado é adicionado no fim da lista!\n",
    "cadastro_listas"
   ]
  },
  {
   "cell_type": "markdown",
   "metadata": {
    "id": "ybUJo-eP677u"
   },
   "source": [
    "**Drops**\n",
    "\n",
    "Adicione o par chave-valor \"cor\": \"azul: no dicionário `carro` abaixo"
   ]
  },
  {
   "cell_type": "code",
   "execution_count": 19,
   "metadata": {
    "colab": {
     "base_uri": "https://localhost:8080/"
    },
    "executionInfo": {
     "elapsed": 2,
     "status": "ok",
     "timestamp": 1665180455816,
     "user": {
      "displayName": "Gilberto Kaihami",
      "userId": "07651446941847976228"
     },
     "user_tz": 180
    },
    "id": "D2814o1q67fR",
    "outputId": "a5653ad5-d53f-4b91-da96-a1ef554d58a1"
   },
   "outputs": [
    {
     "name": "stdout",
     "output_type": "stream",
     "text": [
      "{'marca': 'Toyota', 'modelo': 'Yaris', 'ano': 1964, 'cor': 'azul'}\n"
     ]
    }
   ],
   "source": [
    "carro = {\n",
    "    'marca': \"Toyota\",\n",
    "    'modelo': \"Yaris\",\n",
    "    \"ano\": 1964\n",
    "}\n",
    "carro['cor'] = 'azul' # PREENCHA AQUI!\n",
    "\n",
    "print(carro)"
   ]
  },
  {
   "cell_type": "markdown",
   "metadata": {
    "id": "csxv7X_A05pd"
   },
   "source": [
    "__Para apagar uma chave, utilize o \"pop\"__"
   ]
  },
  {
   "cell_type": "code",
   "execution_count": 20,
   "metadata": {
    "colab": {
     "base_uri": "https://localhost:8080/"
    },
    "executionInfo": {
     "elapsed": 2,
     "status": "ok",
     "timestamp": 1665180457306,
     "user": {
      "displayName": "Gilberto Kaihami",
      "userId": "07651446941847976228"
     },
     "user_tz": 180
    },
    "id": "dCFwhScu0-Hb",
    "outputId": "abc28204-777c-4c78-be2b-b346db791f5a"
   },
   "outputs": [
    {
     "data": {
      "text/plain": [
       "{'nomes': ['Joãozinho', 'Mariazinha'],\n",
       " 'idades': [32, 25],\n",
       " 'cidades': ['Maua', 'Santo André'],\n",
       " 'filhos': [0, 0],\n",
       " 'alturas': [1.8, 1.65],\n",
       " 'pets': ['Bia', 'Luiza']}"
      ]
     },
     "execution_count": 20,
     "metadata": {},
     "output_type": "execute_result"
    }
   ],
   "source": [
    "cadastro"
   ]
  },
  {
   "cell_type": "code",
   "execution_count": 21,
   "metadata": {
    "executionInfo": {
     "elapsed": 1,
     "status": "ok",
     "timestamp": 1665180457705,
     "user": {
      "displayName": "Gilberto Kaihami",
      "userId": "07651446941847976228"
     },
     "user_tz": 180
    },
    "id": "BsqwvdV-01Ak"
   },
   "outputs": [],
   "source": [
    "pets = cadastro.pop('pets')"
   ]
  },
  {
   "cell_type": "code",
   "execution_count": 22,
   "metadata": {
    "colab": {
     "base_uri": "https://localhost:8080/"
    },
    "executionInfo": {
     "elapsed": 397,
     "status": "ok",
     "timestamp": 1665180459114,
     "user": {
      "displayName": "Gilberto Kaihami",
      "userId": "07651446941847976228"
     },
     "user_tz": 180
    },
    "id": "R3UwlMt-o4Vk",
    "outputId": "fb8bcd3b-a98c-4bfc-d888-f283d3721444"
   },
   "outputs": [
    {
     "data": {
      "text/plain": [
       "['Bia', 'Luiza']"
      ]
     },
     "execution_count": 22,
     "metadata": {},
     "output_type": "execute_result"
    }
   ],
   "source": [
    "pets"
   ]
  },
  {
   "cell_type": "code",
   "execution_count": 23,
   "metadata": {
    "colab": {
     "base_uri": "https://localhost:8080/"
    },
    "executionInfo": {
     "elapsed": 2,
     "status": "ok",
     "timestamp": 1665180459114,
     "user": {
      "displayName": "Gilberto Kaihami",
      "userId": "07651446941847976228"
     },
     "user_tz": 180
    },
    "id": "MlBpUK5C08Ny",
    "outputId": "113ab1dd-1171-49d6-e925-2e5b521d168d"
   },
   "outputs": [
    {
     "data": {
      "text/plain": [
       "{'nomes': ['Joãozinho', 'Mariazinha'],\n",
       " 'idades': [32, 25],\n",
       " 'cidades': ['Maua', 'Santo André'],\n",
       " 'filhos': [0, 0],\n",
       " 'alturas': [1.8, 1.65]}"
      ]
     },
     "execution_count": 23,
     "metadata": {},
     "output_type": "execute_result"
    }
   ],
   "source": [
    "cadastro"
   ]
  },
  {
   "cell_type": "markdown",
   "metadata": {
    "id": "BJNGUVJU1CtN"
   },
   "source": [
    "__Ou, utilize o \"del\"__"
   ]
  },
  {
   "cell_type": "code",
   "execution_count": 24,
   "metadata": {
    "colab": {
     "base_uri": "https://localhost:8080/"
    },
    "executionInfo": {
     "elapsed": 3,
     "status": "ok",
     "timestamp": 1665180460598,
     "user": {
      "displayName": "Gilberto Kaihami",
      "userId": "07651446941847976228"
     },
     "user_tz": 180
    },
    "id": "vxYS7YY809pE",
    "outputId": "3fa201bc-7d2f-4fd3-f372-13951a042500"
   },
   "outputs": [
    {
     "name": "stdout",
     "output_type": "stream",
     "text": [
      "{'nomes': ['Joãozinho', 'Mariazinha'], 'idades': [32, 25], 'cidades': ['Maua', 'Santo André'], 'filhos': [0, 0], 'alturas': [1.8, 1.65], 'pets': ['Bia', 'Luiza']}\n",
      "Dicionário após o `del`\n"
     ]
    },
    {
     "data": {
      "text/plain": [
       "{'nomes': ['Joãozinho', 'Mariazinha'],\n",
       " 'idades': [32, 25],\n",
       " 'cidades': ['Maua', 'Santo André'],\n",
       " 'filhos': [0, 0],\n",
       " 'alturas': [1.8, 1.65]}"
      ]
     },
     "execution_count": 24,
     "metadata": {},
     "output_type": "execute_result"
    }
   ],
   "source": [
    "cadastro['pets'] = pets\n",
    "print(cadastro)\n",
    "del cadastro['pets']\n",
    "print('Dicionário após o `del`')\n",
    "cadastro"
   ]
  },
  {
   "cell_type": "markdown",
   "metadata": {
    "id": "ZJXTqfEr7Nd3"
   },
   "source": [
    "**Drops**\n",
    "\n",
    "Remova o campo (chave) \"modelo\" do dicionário `carro` abaixo"
   ]
  },
  {
   "cell_type": "code",
   "execution_count": 25,
   "metadata": {
    "colab": {
     "base_uri": "https://localhost:8080/"
    },
    "executionInfo": {
     "elapsed": 2,
     "status": "ok",
     "timestamp": 1665180462059,
     "user": {
      "displayName": "Gilberto Kaihami",
      "userId": "07651446941847976228"
     },
     "user_tz": 180
    },
    "id": "jQGi_TEM7M1G",
    "outputId": "7b2f0919-3d92-4f9b-f67a-28cd71f04d8c"
   },
   "outputs": [
    {
     "name": "stdout",
     "output_type": "stream",
     "text": [
      "{'marca': 'Toyota', 'ano': 1964}\n"
     ]
    }
   ],
   "source": [
    "carro = {\n",
    "    'marca': \"Toyota\",\n",
    "    'modelo': \"Yaris\",\n",
    "    \"ano\": 1964\n",
    "}\n",
    "# carro.pop('modelo')\n",
    "del carro['modelo']\n",
    "\n",
    "print(carro)"
   ]
  },
  {
   "cell_type": "markdown",
   "metadata": {
    "id": "12x-17pt1MK-"
   },
   "source": [
    "Alterar os valores também é possível:\n",
    "\n",
    "Posso também alterar elementos individuais dos valores, os indexando\n",
    "\n",
    "(Lembre-se que, neste caso, os valores são listas! Então, devo indexá-las para alterar seus elementos!)"
   ]
  },
  {
   "cell_type": "code",
   "execution_count": 26,
   "metadata": {
    "executionInfo": {
     "elapsed": 2,
     "status": "ok",
     "timestamp": 1665180463667,
     "user": {
      "displayName": "Gilberto Kaihami",
      "userId": "07651446941847976228"
     },
     "user_tz": 180
    },
    "id": "e5GyDPf91JN8"
   },
   "outputs": [],
   "source": [
    "cadastro['cidades'] = ['Paris', 'Londres']"
   ]
  },
  {
   "cell_type": "code",
   "execution_count": 27,
   "metadata": {
    "colab": {
     "base_uri": "https://localhost:8080/"
    },
    "executionInfo": {
     "elapsed": 2,
     "status": "ok",
     "timestamp": 1665180463667,
     "user": {
      "displayName": "Gilberto Kaihami",
      "userId": "07651446941847976228"
     },
     "user_tz": 180
    },
    "id": "tmxvbrea1RbQ",
    "outputId": "5919f817-2326-4f1d-bc4f-ef18031277c0"
   },
   "outputs": [
    {
     "data": {
      "text/plain": [
       "{'nomes': ['Joãozinho', 'Mariazinha'],\n",
       " 'idades': [32, 25],\n",
       " 'cidades': ['Paris', 'Londres'],\n",
       " 'filhos': [0, 0],\n",
       " 'alturas': [1.8, 1.65]}"
      ]
     },
     "execution_count": 27,
     "metadata": {},
     "output_type": "execute_result"
    }
   ],
   "source": [
    "cadastro"
   ]
  },
  {
   "cell_type": "code",
   "execution_count": 28,
   "metadata": {
    "colab": {
     "base_uri": "https://localhost:8080/"
    },
    "executionInfo": {
     "elapsed": 2,
     "status": "ok",
     "timestamp": 1665180464087,
     "user": {
      "displayName": "Gilberto Kaihami",
      "userId": "07651446941847976228"
     },
     "user_tz": 180
    },
    "id": "-i6nv5XH1SkB",
    "outputId": "e2b36a79-ae22-45b9-983f-326b0fe8a082"
   },
   "outputs": [
    {
     "data": {
      "text/plain": [
       "{'nomes': ['Joãozinho', 'Mariazinha'],\n",
       " 'idades': [32, 25],\n",
       " 'cidades': 1,\n",
       " 'filhos': [0, 0],\n",
       " 'alturas': [1.8, 1.65]}"
      ]
     },
     "execution_count": 28,
     "metadata": {},
     "output_type": "execute_result"
    }
   ],
   "source": [
    "# Alteração indevida de valor\n",
    "cadastro['cidades'] = 1\n",
    "cadastro"
   ]
  },
  {
   "cell_type": "code",
   "execution_count": 29,
   "metadata": {
    "colab": {
     "base_uri": "https://localhost:8080/"
    },
    "executionInfo": {
     "elapsed": 2,
     "status": "ok",
     "timestamp": 1665180464489,
     "user": {
      "displayName": "Gilberto Kaihami",
      "userId": "07651446941847976228"
     },
     "user_tz": 180
    },
    "id": "yMlIT0kD1USt",
    "outputId": "ce987b23-a10d-403f-d102-b295bb1fff3e"
   },
   "outputs": [
    {
     "data": {
      "text/plain": [
       "{'nomes': ['Joãozinho', 'Mariazinha'],\n",
       " 'idades': [32, 25],\n",
       " 'cidades': ['Paris', 'Londres'],\n",
       " 'filhos': [0, 0],\n",
       " 'alturas': [1.8, 1.65]}"
      ]
     },
     "execution_count": 29,
     "metadata": {},
     "output_type": "execute_result"
    }
   ],
   "source": [
    "cadastro['cidades'] = ['Paris', 'Londres']\n",
    "cadastro"
   ]
  },
  {
   "cell_type": "code",
   "execution_count": 30,
   "metadata": {
    "executionInfo": {
     "elapsed": 1,
     "status": "ok",
     "timestamp": 1665180464874,
     "user": {
      "displayName": "Gilberto Kaihami",
      "userId": "07651446941847976228"
     },
     "user_tz": 180
    },
    "id": "V_M-miNK1V7I"
   },
   "outputs": [],
   "source": [
    "cadastro['cidades'][0] = 'São Paulo'"
   ]
  },
  {
   "cell_type": "code",
   "execution_count": 31,
   "metadata": {
    "colab": {
     "base_uri": "https://localhost:8080/"
    },
    "executionInfo": {
     "elapsed": 2,
     "status": "ok",
     "timestamp": 1665180465837,
     "user": {
      "displayName": "Gilberto Kaihami",
      "userId": "07651446941847976228"
     },
     "user_tz": 180
    },
    "id": "Sc3sH_Er1XNx",
    "outputId": "cfae574f-fcea-4ea2-82c4-df4a7b981c20"
   },
   "outputs": [
    {
     "data": {
      "text/plain": [
       "{'nomes': ['Joãozinho', 'Mariazinha'],\n",
       " 'idades': [32, 25],\n",
       " 'cidades': ['São Paulo', 'Londres'],\n",
       " 'filhos': [0, 0],\n",
       " 'alturas': [1.8, 1.65]}"
      ]
     },
     "execution_count": 31,
     "metadata": {},
     "output_type": "execute_result"
    }
   ],
   "source": [
    "cadastro"
   ]
  },
  {
   "cell_type": "code",
   "execution_count": 32,
   "metadata": {
    "colab": {
     "base_uri": "https://localhost:8080/"
    },
    "executionInfo": {
     "elapsed": 3,
     "status": "ok",
     "timestamp": 1665180466662,
     "user": {
      "displayName": "Gilberto Kaihami",
      "userId": "07651446941847976228"
     },
     "user_tz": 180
    },
    "id": "FAl3AkBQ1YR_",
    "outputId": "97f5a196-8382-4207-a02d-597fcacafc3f"
   },
   "outputs": [
    {
     "data": {
      "text/plain": [
       "{'nomes': ['Joãozinho', 'Mariazinha'],\n",
       " 'idades': [32, 25],\n",
       " 'cidades': ['São Paulo', 'Londres'],\n",
       " 'filhos': [0, 0],\n",
       " 'alturas': [1.8, 1.65],\n",
       " 'trabalho': ('Dentista', 'Cientista de Dados')}"
      ]
     },
     "execution_count": 32,
     "metadata": {},
     "output_type": "execute_result"
    }
   ],
   "source": [
    "cadastro['trabalho'] = ('Dentista', 'Cientista de Dados')\n",
    "cadastro"
   ]
  },
  {
   "cell_type": "code",
   "execution_count": 33,
   "metadata": {
    "colab": {
     "base_uri": "https://localhost:8080/",
     "height": 166
    },
    "executionInfo": {
     "elapsed": 3,
     "status": "error",
     "timestamp": 1665180466663,
     "user": {
      "displayName": "Gilberto Kaihami",
      "userId": "07651446941847976228"
     },
     "user_tz": 180
    },
    "id": "COTHUf0o1Z1h",
    "outputId": "8ec9eaa1-4df0-4597-da5d-146a4fe5adff"
   },
   "outputs": [
    {
     "ename": "TypeError",
     "evalue": "ignored",
     "output_type": "error",
     "traceback": [
      "\u001b[0;31m---------------------------------------------------------------------------\u001b[0m",
      "\u001b[0;31mTypeError\u001b[0m                                 Traceback (most recent call last)",
      "\u001b[0;32m<ipython-input-33-907701b7b3eb>\u001b[0m in \u001b[0;36m<module>\u001b[0;34m\u001b[0m\n\u001b[0;32m----> 1\u001b[0;31m \u001b[0mcadastro\u001b[0m\u001b[0;34m[\u001b[0m\u001b[0;34m'trabalho'\u001b[0m\u001b[0;34m]\u001b[0m\u001b[0;34m[\u001b[0m\u001b[0;36m0\u001b[0m\u001b[0;34m]\u001b[0m \u001b[0;34m=\u001b[0m \u001b[0;34m'Engenheiro'\u001b[0m\u001b[0;34m\u001b[0m\u001b[0;34m\u001b[0m\u001b[0m\n\u001b[0m",
      "\u001b[0;31mTypeError\u001b[0m: 'tuple' object does not support item assignment"
     ]
    }
   ],
   "source": [
    "cadastro['trabalho'][0] = 'Engenheiro'"
   ]
  },
  {
   "cell_type": "code",
   "execution_count": 34,
   "metadata": {
    "colab": {
     "base_uri": "https://localhost:8080/"
    },
    "executionInfo": {
     "elapsed": 2,
     "status": "ok",
     "timestamp": 1665180467048,
     "user": {
      "displayName": "Gilberto Kaihami",
      "userId": "07651446941847976228"
     },
     "user_tz": 180
    },
    "id": "ijVUCMX51bjJ",
    "outputId": "1b14928d-d825-433d-fa1c-3be92f7863ac"
   },
   "outputs": [
    {
     "name": "stdout",
     "output_type": "stream",
     "text": [
      "{'nomes': ['Joãozinho', 'Mariazinha'], 'idades': [32, 25], 'cidades': ['São Paulo', 'Londres'], 'filhos': [0, 0], 'alturas': [1.8, 1.65], 'trabalho': ('Dentista', 'Cientista de Dados')}\n"
     ]
    }
   ],
   "source": [
    "print(cadastro)"
   ]
  },
  {
   "cell_type": "markdown",
   "metadata": {
    "id": "tAbWt3BE6a07"
   },
   "source": [
    "**Drops**\n",
    "\n",
    "Modifique o ano de fabricação (campo `ano`) de 1964 para 2020 no dicionário abaixo"
   ]
  },
  {
   "cell_type": "code",
   "execution_count": 35,
   "metadata": {
    "colab": {
     "base_uri": "https://localhost:8080/"
    },
    "executionInfo": {
     "elapsed": 534,
     "status": "ok",
     "timestamp": 1665180472301,
     "user": {
      "displayName": "Gilberto Kaihami",
      "userId": "07651446941847976228"
     },
     "user_tz": 180
    },
    "id": "d32XGfjp6aPE",
    "outputId": "d8d464f5-2119-493e-f69e-0f5a20701476"
   },
   "outputs": [
    {
     "name": "stdout",
     "output_type": "stream",
     "text": [
      "{'marca': 'Toyota', 'modelo': 'Yaris', 'ano': 2020}\n"
     ]
    }
   ],
   "source": [
    "carro = {\n",
    "    'marca': \"Toyota\",\n",
    "    'modelo': \"Yaris\",\n",
    "    \"ano\": 1964\n",
    "}\n",
    "carro['ano'] = 2020 # PREENCHA AQUI!\n",
    "\n",
    "print(carro)"
   ]
  },
  {
   "cell_type": "markdown",
   "metadata": {
    "id": "-dE3qaO61jke"
   },
   "source": [
    "Para adicionar novos elementos aos valores (que são listas), usamos o append:"
   ]
  },
  {
   "cell_type": "code",
   "execution_count": 36,
   "metadata": {
    "colab": {
     "base_uri": "https://localhost:8080/"
    },
    "executionInfo": {
     "elapsed": 638,
     "status": "ok",
     "timestamp": 1665180477043,
     "user": {
      "displayName": "Gilberto Kaihami",
      "userId": "07651446941847976228"
     },
     "user_tz": 180
    },
    "id": "pLYPaNIPr8Lw",
    "outputId": "ab0023c5-b7b6-469f-8470-e63b9af8aa39"
   },
   "outputs": [
    {
     "data": {
      "text/plain": [
       "{'nomes': ['Joãozinho', 'Mariazinha'],\n",
       " 'idades': [32, 25],\n",
       " 'cidades': ['São Paulo', 'Londres'],\n",
       " 'filhos': [0, 0],\n",
       " 'alturas': [1.8, 1.65],\n",
       " 'trabalho': ('Dentista', 'Cientista de Dados')}"
      ]
     },
     "execution_count": 36,
     "metadata": {},
     "output_type": "execute_result"
    }
   ],
   "source": [
    "cadastro"
   ]
  },
  {
   "cell_type": "code",
   "execution_count": 37,
   "metadata": {
    "colab": {
     "base_uri": "https://localhost:8080/"
    },
    "executionInfo": {
     "elapsed": 2,
     "status": "ok",
     "timestamp": 1665180478814,
     "user": {
      "displayName": "Gilberto Kaihami",
      "userId": "07651446941847976228"
     },
     "user_tz": 180
    },
    "id": "BTAN_yWv1fIY",
    "outputId": "bb8447df-3b29-4e3d-c801-c605a37993c1"
   },
   "outputs": [
    {
     "data": {
      "text/plain": [
       "{'nomes': ['Joãozinho', 'Mariazinha'],\n",
       " 'idades': [32, 25],\n",
       " 'cidades': ['São Paulo', 'Londres'],\n",
       " 'filhos': [0, 0],\n",
       " 'alturas': [1.8, 1.65],\n",
       " 'trabalho': ['Dentista', 'Cientista de Dados']}"
      ]
     },
     "execution_count": 37,
     "metadata": {},
     "output_type": "execute_result"
    }
   ],
   "source": [
    "cadastro['trabalho'] = ['Dentista', 'Cientista de Dados']\n",
    "cadastro"
   ]
  },
  {
   "cell_type": "code",
   "execution_count": 38,
   "metadata": {
    "executionInfo": {
     "elapsed": 527,
     "status": "ok",
     "timestamp": 1665180486232,
     "user": {
      "displayName": "Gilberto Kaihami",
      "userId": "07651446941847976228"
     },
     "user_tz": 180
    },
    "id": "8xOpD4VX1k5K"
   },
   "outputs": [],
   "source": [
    "cadastro['nomes'].append('Fulano')\n",
    "cadastro['idades'].append(22)\n",
    "cadastro['cidades'].append('Rio')\n",
    "cadastro['filhos'].append(3)\n",
    "cadastro['alturas'].append(1.75)\n",
    "cadastro['trabalho'].append('Engenheiro')"
   ]
  },
  {
   "cell_type": "code",
   "execution_count": 39,
   "metadata": {
    "colab": {
     "base_uri": "https://localhost:8080/"
    },
    "executionInfo": {
     "elapsed": 2,
     "status": "ok",
     "timestamp": 1665180487737,
     "user": {
      "displayName": "Gilberto Kaihami",
      "userId": "07651446941847976228"
     },
     "user_tz": 180
    },
    "id": "mgykVg3_sk6l",
    "outputId": "87d4a643-f1ee-4e8a-bfae-1f2964cdf21d"
   },
   "outputs": [
    {
     "data": {
      "text/plain": [
       "{'nomes': ['Joãozinho', 'Mariazinha', 'Fulano'],\n",
       " 'idades': [32, 25, 22],\n",
       " 'cidades': ['São Paulo', 'Londres', 'Rio'],\n",
       " 'filhos': [0, 0, 3],\n",
       " 'alturas': [1.8, 1.65, 1.75],\n",
       " 'trabalho': ['Dentista', 'Cientista de Dados', 'Engenheiro']}"
      ]
     },
     "execution_count": 39,
     "metadata": {},
     "output_type": "execute_result"
    }
   ],
   "source": [
    "cadastro"
   ]
  },
  {
   "cell_type": "code",
   "execution_count": 40,
   "metadata": {
    "colab": {
     "base_uri": "https://localhost:8080/"
    },
    "executionInfo": {
     "elapsed": 1,
     "status": "ok",
     "timestamp": 1665180489737,
     "user": {
      "displayName": "Gilberto Kaihami",
      "userId": "07651446941847976228"
     },
     "user_tz": 180
    },
    "id": "pzMtlBBlsr03",
    "outputId": "34b06d0f-c38b-424b-8a61-e516efb7e590"
   },
   "outputs": [
    {
     "name": "stdout",
     "output_type": "stream",
     "text": [
      "Mariazinha 25\n"
     ]
    }
   ],
   "source": [
    "nome, idade = cadastro['nomes'][1], cadastro['idades'][1]\n",
    "print(nome, idade)"
   ]
  },
  {
   "cell_type": "markdown",
   "metadata": {
    "id": "QU1JDj161oSe"
   },
   "source": [
    "Dicionários podem ser percorridos com um for. \n",
    "\n",
    "Ao fazer isso, **as chaves serão percorridas** \n",
    "\n",
    "Porém, a partir da chave obtém-se o valor:"
   ]
  },
  {
   "cell_type": "code",
   "execution_count": 41,
   "metadata": {
    "colab": {
     "base_uri": "https://localhost:8080/"
    },
    "executionInfo": {
     "elapsed": 7,
     "status": "ok",
     "timestamp": 1665180490912,
     "user": {
      "displayName": "Gilberto Kaihami",
      "userId": "07651446941847976228"
     },
     "user_tz": 180
    },
    "id": "HzbJGz-s1m79",
    "outputId": "a723806d-72e1-4692-bb2f-62b54ea40a94"
   },
   "outputs": [
    {
     "data": {
      "text/plain": [
       "{'nomes': ['Joãozinho', 'Mariazinha', 'Fulano'],\n",
       " 'idades': [32, 25, 22],\n",
       " 'cidades': ['São Paulo', 'Londres', 'Rio'],\n",
       " 'filhos': [0, 0, 3],\n",
       " 'alturas': [1.8, 1.65, 1.75],\n",
       " 'trabalho': ['Dentista', 'Cientista de Dados', 'Engenheiro']}"
      ]
     },
     "execution_count": 41,
     "metadata": {},
     "output_type": "execute_result"
    }
   ],
   "source": [
    "cadastro"
   ]
  },
  {
   "cell_type": "code",
   "execution_count": 42,
   "metadata": {
    "colab": {
     "base_uri": "https://localhost:8080/"
    },
    "executionInfo": {
     "elapsed": 450,
     "status": "ok",
     "timestamp": 1665180494450,
     "user": {
      "displayName": "Gilberto Kaihami",
      "userId": "07651446941847976228"
     },
     "user_tz": 180
    },
    "id": "f7F4fj-81qPm",
    "outputId": "4cb60d4f-e8ff-4490-a7a2-283003b3b27c"
   },
   "outputs": [
    {
     "name": "stdout",
     "output_type": "stream",
     "text": [
      "nomes\n",
      "idades\n",
      "cidades\n",
      "filhos\n",
      "alturas\n",
      "trabalho\n"
     ]
    }
   ],
   "source": [
    "for chave in cadastro:\n",
    "  print(chave)"
   ]
  },
  {
   "cell_type": "code",
   "execution_count": 43,
   "metadata": {
    "colab": {
     "base_uri": "https://localhost:8080/"
    },
    "executionInfo": {
     "elapsed": 2,
     "status": "ok",
     "timestamp": 1665180495557,
     "user": {
      "displayName": "Gilberto Kaihami",
      "userId": "07651446941847976228"
     },
     "user_tz": 180
    },
    "id": "gEDb7xYU1rh3",
    "outputId": "49bb900e-0361-49f3-e476-e37118ad51d7"
   },
   "outputs": [
    {
     "data": {
      "text/plain": [
       "['Joãozinho', 'Mariazinha', 'Fulano']"
      ]
     },
     "execution_count": 43,
     "metadata": {},
     "output_type": "execute_result"
    }
   ],
   "source": [
    "cadastro['nomes']"
   ]
  },
  {
   "cell_type": "code",
   "execution_count": 44,
   "metadata": {
    "colab": {
     "base_uri": "https://localhost:8080/"
    },
    "executionInfo": {
     "elapsed": 1,
     "status": "ok",
     "timestamp": 1665180497229,
     "user": {
      "displayName": "Gilberto Kaihami",
      "userId": "07651446941847976228"
     },
     "user_tz": 180
    },
    "id": "GGQ7TmiW1tmb",
    "outputId": "337adef4-1026-4d95-d936-5edf6956d795"
   },
   "outputs": [
    {
     "name": "stdout",
     "output_type": "stream",
     "text": [
      "chave=nomes, valor=['Joãozinho', 'Mariazinha', 'Fulano']\n",
      "chave=idades, valor=[32, 25, 22]\n",
      "chave=cidades, valor=['São Paulo', 'Londres', 'Rio']\n",
      "chave=filhos, valor=[0, 0, 3]\n",
      "chave=alturas, valor=[1.8, 1.65, 1.75]\n",
      "chave=trabalho, valor=['Dentista', 'Cientista de Dados', 'Engenheiro']\n"
     ]
    }
   ],
   "source": [
    "for chave in cadastro:\n",
    "  print(f'chave={chave}, valor={cadastro[chave]}')"
   ]
  },
  {
   "cell_type": "code",
   "execution_count": 45,
   "metadata": {
    "colab": {
     "base_uri": "https://localhost:8080/"
    },
    "executionInfo": {
     "elapsed": 2,
     "status": "ok",
     "timestamp": 1665180498578,
     "user": {
      "displayName": "Gilberto Kaihami",
      "userId": "07651446941847976228"
     },
     "user_tz": 180
    },
    "id": "NucmTQ1D1u8j",
    "outputId": "d30e0eb0-02fc-49a8-b372-65813cfa9f94"
   },
   "outputs": [
    {
     "name": "stdout",
     "output_type": "stream",
     "text": [
      "chave= nomes\n",
      "index: 0 valor: Joãozinho\n",
      "index: 1 valor: Mariazinha\n",
      "index: 2 valor: Fulano\n",
      "--------------------------------\n",
      "chave= idades\n",
      "index: 0 valor: 32\n",
      "index: 1 valor: 25\n",
      "index: 2 valor: 22\n",
      "--------------------------------\n",
      "chave= cidades\n",
      "index: 0 valor: São Paulo\n",
      "index: 1 valor: Londres\n",
      "index: 2 valor: Rio\n",
      "--------------------------------\n",
      "chave= filhos\n",
      "index: 0 valor: 0\n",
      "index: 1 valor: 0\n",
      "index: 2 valor: 3\n",
      "--------------------------------\n",
      "chave= alturas\n",
      "index: 0 valor: 1.8\n",
      "index: 1 valor: 1.65\n",
      "index: 2 valor: 1.75\n",
      "--------------------------------\n",
      "chave= trabalho\n",
      "index: 0 valor: Dentista\n",
      "index: 1 valor: Cientista de Dados\n",
      "index: 2 valor: Engenheiro\n",
      "--------------------------------\n"
     ]
    }
   ],
   "source": [
    "for chave in cadastro:\n",
    "  print('chave=', chave)\n",
    "  for i, elemento in enumerate(cadastro[chave]):\n",
    "    print('index:', i, 'valor:', elemento)\n",
    "  print('-'*32)"
   ]
  },
  {
   "cell_type": "code",
   "execution_count": 46,
   "metadata": {
    "colab": {
     "base_uri": "https://localhost:8080/"
    },
    "executionInfo": {
     "elapsed": 2,
     "status": "ok",
     "timestamp": 1665180500087,
     "user": {
      "displayName": "Gilberto Kaihami",
      "userId": "07651446941847976228"
     },
     "user_tz": 180
    },
    "id": "_bsXdLqTvd9l",
    "outputId": "7a3e62d0-0c14-4cb5-802a-82061b178e8d"
   },
   "outputs": [
    {
     "data": {
      "text/plain": [
       "{'nomes': ['Joãozinho', 'Mariazinha', 'Fulano'],\n",
       " 'idades': [32, 25, 22],\n",
       " 'cidades': ['São Paulo', 'Londres', 'Rio'],\n",
       " 'filhos': [0, 0, 3],\n",
       " 'alturas': [1.8, 1.65, 1.75],\n",
       " 'trabalho': ['Dentista', 'Cientista de Dados', 'Engenheiro']}"
      ]
     },
     "execution_count": 46,
     "metadata": {},
     "output_type": "execute_result"
    }
   ],
   "source": [
    "cadastro"
   ]
  },
  {
   "cell_type": "code",
   "execution_count": 47,
   "metadata": {
    "executionInfo": {
     "elapsed": 1,
     "status": "ok",
     "timestamp": 1665180501419,
     "user": {
      "displayName": "Gilberto Kaihami",
      "userId": "07651446941847976228"
     },
     "user_tz": 180
    },
    "id": "7SoE5oIIvlkz"
   },
   "outputs": [],
   "source": [
    "cadastro['numero_cadastros'] = len(cadastro['nomes'])"
   ]
  },
  {
   "cell_type": "code",
   "execution_count": 48,
   "metadata": {
    "colab": {
     "base_uri": "https://localhost:8080/"
    },
    "executionInfo": {
     "elapsed": 2,
     "status": "ok",
     "timestamp": 1665180502284,
     "user": {
      "displayName": "Gilberto Kaihami",
      "userId": "07651446941847976228"
     },
     "user_tz": 180
    },
    "id": "EUcomgFpvpu7",
    "outputId": "751df5ff-50d1-4d4c-824e-81fa44309c62"
   },
   "outputs": [
    {
     "data": {
      "text/plain": [
       "{'nomes': ['Joãozinho', 'Mariazinha', 'Fulano'],\n",
       " 'idades': [32, 25, 22],\n",
       " 'cidades': ['São Paulo', 'Londres', 'Rio'],\n",
       " 'filhos': [0, 0, 3],\n",
       " 'alturas': [1.8, 1.65, 1.75],\n",
       " 'trabalho': ['Dentista', 'Cientista de Dados', 'Engenheiro'],\n",
       " 'numero_cadastros': 3}"
      ]
     },
     "execution_count": 48,
     "metadata": {},
     "output_type": "execute_result"
    }
   ],
   "source": [
    "cadastro"
   ]
  },
  {
   "cell_type": "code",
   "execution_count": 49,
   "metadata": {
    "colab": {
     "base_uri": "https://localhost:8080/"
    },
    "executionInfo": {
     "elapsed": 2,
     "status": "ok",
     "timestamp": 1665180502676,
     "user": {
      "displayName": "Gilberto Kaihami",
      "userId": "07651446941847976228"
     },
     "user_tz": 180
    },
    "id": "MtXWFYbzvy4-",
    "outputId": "d5cb8489-c0ff-434d-e70a-359e8264ef12"
   },
   "outputs": [
    {
     "name": "stdout",
     "output_type": "stream",
     "text": [
      "chave= nomes\n",
      "index: 0 valor: Joãozinho\n",
      "index: 1 valor: Mariazinha\n",
      "index: 2 valor: Fulano\n",
      "--------------------------------\n",
      "chave= idades\n",
      "index: 0 valor: 32\n",
      "index: 1 valor: 25\n",
      "index: 2 valor: 22\n",
      "--------------------------------\n",
      "chave= cidades\n",
      "index: 0 valor: São Paulo\n",
      "index: 1 valor: Londres\n",
      "index: 2 valor: Rio\n",
      "--------------------------------\n",
      "chave= filhos\n",
      "index: 0 valor: 0\n",
      "index: 1 valor: 0\n",
      "index: 2 valor: 3\n",
      "--------------------------------\n",
      "chave= alturas\n",
      "index: 0 valor: 1.8\n",
      "index: 1 valor: 1.65\n",
      "index: 2 valor: 1.75\n",
      "--------------------------------\n",
      "chave= trabalho\n",
      "index: 0 valor: Dentista\n",
      "index: 1 valor: Cientista de Dados\n",
      "index: 2 valor: Engenheiro\n",
      "--------------------------------\n",
      "chave= numero_cadastros\n",
      "O número é: 3\n",
      "--------------------------------\n"
     ]
    }
   ],
   "source": [
    "for chave in cadastro:\n",
    "  print('chave=', chave)\n",
    "  valor = cadastro[chave]\n",
    "  if isinstance(valor, (tuple, list)):\n",
    "    for i, elemento in enumerate(cadastro[chave]):\n",
    "      print('index:', i, 'valor:', elemento)\n",
    "  elif isinstance(valor, (int, float)):\n",
    "    print('O número é:', valor)\n",
    "  elif isinstance(valor, str):\n",
    "    print('A string é:', valor)\n",
    "  print('-'*32)"
   ]
  },
  {
   "cell_type": "markdown",
   "metadata": {
    "id": "UDkFOm6j2M1o"
   },
   "source": [
    "Uma utilidade disso é para pegar os dados respectivos de cada elemento do cadastro:"
   ]
  },
  {
   "cell_type": "code",
   "execution_count": 50,
   "metadata": {
    "colab": {
     "base_uri": "https://localhost:8080/"
    },
    "executionInfo": {
     "elapsed": 1,
     "status": "ok",
     "timestamp": 1665180504399,
     "user": {
      "displayName": "Gilberto Kaihami",
      "userId": "07651446941847976228"
     },
     "user_tz": 180
    },
    "id": "hZUlReQq2HH0",
    "outputId": "b0f5684d-cee6-4967-ff9e-4619944736b9"
   },
   "outputs": [
    {
     "data": {
      "text/plain": [
       "{'nomes': ['Joãozinho', 'Mariazinha', 'Fulano'],\n",
       " 'idades': [32, 25, 22],\n",
       " 'cidades': ['São Paulo', 'Londres', 'Rio'],\n",
       " 'filhos': [0, 0, 3],\n",
       " 'alturas': [1.8, 1.65, 1.75],\n",
       " 'trabalho': ['Dentista', 'Cientista de Dados', 'Engenheiro']}"
      ]
     },
     "execution_count": 50,
     "metadata": {},
     "output_type": "execute_result"
    }
   ],
   "source": [
    "cadastro.pop('numero_cadastros')\n",
    "cadastro"
   ]
  },
  {
   "cell_type": "code",
   "execution_count": 51,
   "metadata": {
    "colab": {
     "base_uri": "https://localhost:8080/"
    },
    "executionInfo": {
     "elapsed": 3,
     "status": "ok",
     "timestamp": 1665180505259,
     "user": {
      "displayName": "Gilberto Kaihami",
      "userId": "07651446941847976228"
     },
     "user_tz": 180
    },
    "id": "wyRmp4fN_DMv",
    "outputId": "d06e3695-8a33-4cac-eac2-aea55bb55a1a"
   },
   "outputs": [
    {
     "data": {
      "text/plain": [
       "2"
      ]
     },
     "execution_count": 51,
     "metadata": {},
     "output_type": "execute_result"
    }
   ],
   "source": [
    "cadastro['nomes'].index('Fulano')"
   ]
  },
  {
   "cell_type": "code",
   "execution_count": 52,
   "metadata": {
    "colab": {
     "base_uri": "https://localhost:8080/"
    },
    "executionInfo": {
     "elapsed": 3,
     "status": "ok",
     "timestamp": 1665180505260,
     "user": {
      "displayName": "Gilberto Kaihami",
      "userId": "07651446941847976228"
     },
     "user_tz": 180
    },
    "id": "Wz34UJrQ2QwI",
    "outputId": "d7752b89-ec54-42c2-df9f-e2b1fbab450a"
   },
   "outputs": [
    {
     "data": {
      "text/plain": [
       "0"
      ]
     },
     "execution_count": 52,
     "metadata": {},
     "output_type": "execute_result"
    }
   ],
   "source": [
    "cadastro['filhos'].index(0)"
   ]
  },
  {
   "cell_type": "code",
   "execution_count": 55,
   "metadata": {
    "colab": {
     "base_uri": "https://localhost:8080/"
    },
    "executionInfo": {
     "elapsed": 391,
     "status": "ok",
     "timestamp": 1665180637008,
     "user": {
      "displayName": "Gilberto Kaihami",
      "userId": "07651446941847976228"
     },
     "user_tz": 180
    },
    "id": "pJXyUoMF2Xmh",
    "outputId": "4b52fead-c272-46e9-a2b4-18dc0064f531"
   },
   "outputs": [
    {
     "name": "stdout",
     "output_type": "stream",
     "text": [
      "chave nomes\n",
      "valor Joãozinho\n",
      "chave idades\n",
      "valor 32\n",
      "chave cidades\n",
      "valor São Paulo\n",
      "chave filhos\n",
      "valor 0\n",
      "chave alturas\n",
      "valor 1.8\n",
      "chave trabalho\n",
      "valor Dentista\n"
     ]
    }
   ],
   "source": [
    "nome = 'Joãozinho'\n",
    "dados = []\n",
    "index = cadastro['nomes'].index(nome)\n",
    "for chave in cadastro:\n",
    "  print(\"chave\", chave)\n",
    "  valor = cadastro[chave][index]\n",
    "  print(\"valor\", valor)\n",
    "  dados.append(valor)\n"
   ]
  },
  {
   "cell_type": "code",
   "execution_count": 56,
   "metadata": {
    "colab": {
     "base_uri": "https://localhost:8080/"
    },
    "executionInfo": {
     "elapsed": 2,
     "status": "ok",
     "timestamp": 1665180637404,
     "user": {
      "displayName": "Gilberto Kaihami",
      "userId": "07651446941847976228"
     },
     "user_tz": 180
    },
    "id": "YAQFG1ce2wb-",
    "outputId": "b77a6246-0beb-499a-9934-23d6c3a1d02e"
   },
   "outputs": [
    {
     "data": {
      "text/plain": [
       "['Joãozinho', 32, 'São Paulo', 0, 1.8, 'Dentista']"
      ]
     },
     "execution_count": 56,
     "metadata": {},
     "output_type": "execute_result"
    }
   ],
   "source": [
    "dados"
   ]
  },
  {
   "cell_type": "code",
   "execution_count": 60,
   "metadata": {
    "executionInfo": {
     "elapsed": 1,
     "status": "ok",
     "timestamp": 1665180793208,
     "user": {
      "displayName": "Gilberto Kaihami",
      "userId": "07651446941847976228"
     },
     "user_tz": 180
    },
    "id": "nm-ZQN5h2yzK"
   },
   "outputs": [],
   "source": [
    "def pega_dados(cadastro, campo, valor):\n",
    "  dados = []\n",
    "  index = cadastro[campo].index(valor)\n",
    "  for chave in cadastro:\n",
    "    valor = cadastro[chave][index]\n",
    "    dados.append(valor)\n",
    "  return tuple(dados)"
   ]
  },
  {
   "cell_type": "code",
   "execution_count": 62,
   "metadata": {
    "executionInfo": {
     "elapsed": 1,
     "status": "ok",
     "timestamp": 1665180820866,
     "user": {
      "displayName": "Gilberto Kaihami",
      "userId": "07651446941847976228"
     },
     "user_tz": 180
    },
    "id": "Jc6nUSo023Eq"
   },
   "outputs": [],
   "source": [
    "resultado = pega_dados(cadastro, 'nomes', 'Fulano')"
   ]
  },
  {
   "cell_type": "code",
   "execution_count": 63,
   "metadata": {
    "colab": {
     "base_uri": "https://localhost:8080/"
    },
    "executionInfo": {
     "elapsed": 2,
     "status": "ok",
     "timestamp": 1665180824446,
     "user": {
      "displayName": "Gilberto Kaihami",
      "userId": "07651446941847976228"
     },
     "user_tz": 180
    },
    "id": "u3OpuZYw24B3",
    "outputId": "78415a54-735d-4e81-beae-59b52772a80a"
   },
   "outputs": [
    {
     "data": {
      "text/plain": [
       "('Fulano', 22, 'Rio', 3, 1.75, 'Engenheiro')"
      ]
     },
     "execution_count": 63,
     "metadata": {},
     "output_type": "execute_result"
    }
   ],
   "source": [
    "resultado"
   ]
  },
  {
   "cell_type": "markdown",
   "metadata": {
    "id": "cB2rvA08271h"
   },
   "source": [
    "Mas também é possível acessar apenas os valores do dicionário com o método `values()`"
   ]
  },
  {
   "cell_type": "code",
   "execution_count": 72,
   "metadata": {
    "colab": {
     "base_uri": "https://localhost:8080/"
    },
    "executionInfo": {
     "elapsed": 2,
     "status": "ok",
     "timestamp": 1665181027625,
     "user": {
      "displayName": "Gilberto Kaihami",
      "userId": "07651446941847976228"
     },
     "user_tz": 180
    },
    "id": "Ji8-f5Fh251K",
    "outputId": "ba614cfe-9fb0-4020-8316-6a77d199a087"
   },
   "outputs": [
    {
     "name": "stdout",
     "output_type": "stream",
     "text": [
      "('Fulano', 22, 'Rio', 3, 1.75, 'Engenheiro')\n"
     ]
    }
   ],
   "source": [
    "nome = 'Fulano'\n",
    "dados = []\n",
    "index = cadastro['nomes'].index(nome)\n",
    "\n",
    "for valor in cadastro.values():\n",
    "  dados.append(valor[index])\n",
    "  \n",
    "dados = tuple(dados)\n",
    "print(dados)\n"
   ]
  },
  {
   "cell_type": "code",
   "execution_count": 73,
   "metadata": {
    "executionInfo": {
     "elapsed": 1,
     "status": "ok",
     "timestamp": 1665181079960,
     "user": {
      "displayName": "Gilberto Kaihami",
      "userId": "07651446941847976228"
     },
     "user_tz": 180
    },
    "id": "TIDL9pAv2-Oc"
   },
   "outputs": [],
   "source": []
  },
  {
   "cell_type": "markdown",
   "metadata": {
    "id": "1N_AZ1Gu3JR2"
   },
   "source": [
    "É possível obter chaves e valores separadamente.\n",
    "\n",
    "Para isso, usamos os métodos `keys()` e `values()`. "
   ]
  },
  {
   "cell_type": "code",
   "execution_count": 75,
   "metadata": {
    "colab": {
     "base_uri": "https://localhost:8080/"
    },
    "executionInfo": {
     "elapsed": 2,
     "status": "ok",
     "timestamp": 1665181139207,
     "user": {
      "displayName": "Gilberto Kaihami",
      "userId": "07651446941847976228"
     },
     "user_tz": 180
    },
    "id": "3jWUFaL63CXJ",
    "outputId": "ff7330ae-0f29-43c8-8bf1-32b5e5fa43ee"
   },
   "outputs": [
    {
     "name": "stdout",
     "output_type": "stream",
     "text": [
      "chaves: dict_keys(['nomes', 'idades', 'cidades', 'filhos', 'alturas', 'trabalho'])\n",
      "--------------------------------\n",
      "valores: dict_values([['Joãozinho', 'Mariazinha', 'Fulano'], [32, 25, 22], ['São Paulo', 'Londres', 'Rio'], [0, 0, 3], [1.8, 1.65, 1.75], ['Dentista', 'Cientista de Dados', 'Engenheiro']])\n"
     ]
    }
   ],
   "source": [
    "print('chaves:', cadastro.keys())\n",
    "\n",
    "print('-'*32)\n",
    "\n",
    "print('valores:', cadastro.values())"
   ]
  },
  {
   "cell_type": "markdown",
   "metadata": {
    "id": "k2rhkbaX3Np6"
   },
   "source": [
    "E esses valores podem ser transformados em listas com a função `list()`"
   ]
  },
  {
   "cell_type": "code",
   "execution_count": 82,
   "metadata": {
    "colab": {
     "base_uri": "https://localhost:8080/"
    },
    "executionInfo": {
     "elapsed": 1,
     "status": "ok",
     "timestamp": 1665181351254,
     "user": {
      "displayName": "Gilberto Kaihami",
      "userId": "07651446941847976228"
     },
     "user_tz": 180
    },
    "id": "A0BFLvWY3LHO",
    "outputId": "0b1f54a0-825a-493a-f423-485de12f2553"
   },
   "outputs": [
    {
     "name": "stdout",
     "output_type": "stream",
     "text": [
      "chaves: ['nomes', 'idades', 'cidades', 'filhos', 'alturas', 'trabalho']\n",
      "--------------------------------\n",
      "valores: [['Joãozinho', 'Mariazinha', 'Fulano'], [32, 25, 22], ['São Paulo', 'Londres', 'Rio'], [0, 0, 3], [1.8, 1.65, 1.75], ['Dentista', 'Cientista de Dados', 'Engenheiro']]\n"
     ]
    }
   ],
   "source": [
    "print('chaves:', list(cadastro.keys()))\n",
    "\n",
    "print('-'*32)\n",
    "\n",
    "print('valores:', list(cadastro.values()))"
   ]
  },
  {
   "cell_type": "code",
   "execution_count": 87,
   "metadata": {
    "colab": {
     "base_uri": "https://localhost:8080/"
    },
    "executionInfo": {
     "elapsed": 2,
     "status": "ok",
     "timestamp": 1665181563317,
     "user": {
      "displayName": "Gilberto Kaihami",
      "userId": "07651446941847976228"
     },
     "user_tz": 180
    },
    "id": "ZZ1TUKcKjjCY",
    "outputId": "6e8d9500-1c68-4cb1-95ac-e50fa762f614"
   },
   "outputs": [
    {
     "name": "stdout",
     "output_type": "stream",
     "text": [
      "item=('nomes', ['Joãozinho', 'Mariazinha', 'Fulano'])\n",
      "--------------------------------\n",
      "item=('idades', [32, 25, 22])\n",
      "--------------------------------\n",
      "item=('cidades', ['São Paulo', 'Londres', 'Rio'])\n",
      "--------------------------------\n",
      "item=('filhos', [0, 0, 3])\n",
      "--------------------------------\n",
      "item=('alturas', [1.8, 1.65, 1.75])\n",
      "--------------------------------\n",
      "item=('trabalho', ['Dentista', 'Cientista de Dados', 'Engenheiro'])\n",
      "--------------------------------\n"
     ]
    }
   ],
   "source": [
    "# dict.items() retorna uma tupla\n",
    "for item in cadastro.items():\n",
    "  print(f'item={item}')\n",
    "  print('-'*32)"
   ]
  },
  {
   "cell_type": "code",
   "execution_count": 89,
   "metadata": {
    "colab": {
     "base_uri": "https://localhost:8080/"
    },
    "executionInfo": {
     "elapsed": 380,
     "status": "ok",
     "timestamp": 1665181602627,
     "user": {
      "displayName": "Gilberto Kaihami",
      "userId": "07651446941847976228"
     },
     "user_tz": 180
    },
    "id": "eOcxizfR3evB",
    "outputId": "8f5a342f-87ac-4c7e-a670-720d9171a1d7"
   },
   "outputs": [
    {
     "name": "stdout",
     "output_type": "stream",
     "text": [
      "chave=nomes\n",
      "valor=['Joãozinho', 'Mariazinha', 'Fulano']\n",
      "--------------------------------\n",
      "chave=idades\n",
      "valor=[32, 25, 22]\n",
      "--------------------------------\n",
      "chave=cidades\n",
      "valor=['São Paulo', 'Londres', 'Rio']\n",
      "--------------------------------\n",
      "chave=filhos\n",
      "valor=[0, 0, 3]\n",
      "--------------------------------\n",
      "chave=alturas\n",
      "valor=[1.8, 1.65, 1.75]\n",
      "--------------------------------\n",
      "chave=trabalho\n",
      "valor=['Dentista', 'Cientista de Dados', 'Engenheiro']\n",
      "--------------------------------\n"
     ]
    }
   ],
   "source": [
    "# Desempacotando a tupla proveniente do `dict.items()` em (<chave>, <valor>)\n",
    "for k, v in cadastro.items():\n",
    "  print(f'chave={k}')\n",
    "  print(f'valor={v}')\n",
    "  print('-'*32)\n"
   ]
  },
  {
   "cell_type": "code",
   "execution_count": 91,
   "metadata": {
    "colab": {
     "base_uri": "https://localhost:8080/"
    },
    "executionInfo": {
     "elapsed": 1,
     "status": "ok",
     "timestamp": 1665181680387,
     "user": {
      "displayName": "Gilberto Kaihami",
      "userId": "07651446941847976228"
     },
     "user_tz": 180
    },
    "id": "nh_11QvO3inl",
    "outputId": "c4113fca-8ef3-40ae-ba7c-5069c72a32f6"
   },
   "outputs": [
    {
     "name": "stdout",
     "output_type": "stream",
     "text": [
      "chave=nomes\n",
      "primeiro Joãozinho\n",
      "segundo Mariazinha\n",
      "terceiro Fulano\n",
      "--------------------------------\n",
      "chave=idades\n",
      "primeiro 32\n",
      "segundo 25\n",
      "terceiro 22\n",
      "--------------------------------\n",
      "chave=cidades\n",
      "primeiro São Paulo\n",
      "segundo Londres\n",
      "terceiro Rio\n",
      "--------------------------------\n",
      "chave=filhos\n",
      "primeiro 0\n",
      "segundo 0\n",
      "terceiro 3\n",
      "--------------------------------\n",
      "chave=alturas\n",
      "primeiro 1.8\n",
      "segundo 1.65\n",
      "terceiro 1.75\n",
      "--------------------------------\n",
      "chave=trabalho\n",
      "primeiro Dentista\n",
      "segundo Cientista de Dados\n",
      "terceiro Engenheiro\n",
      "--------------------------------\n"
     ]
    }
   ],
   "source": [
    "for k, (primeiro, segundo, terceiro) in cadastro.items():\n",
    "  print(f'chave={k}')\n",
    "  print('primeiro',primeiro)\n",
    "  print('segundo',segundo)\n",
    "  print('terceiro',terceiro)\n",
    "  print('-'*32)\n"
   ]
  },
  {
   "cell_type": "code",
   "execution_count": 94,
   "metadata": {
    "colab": {
     "base_uri": "https://localhost:8080/"
    },
    "executionInfo": {
     "elapsed": 2,
     "status": "ok",
     "timestamp": 1665181741370,
     "user": {
      "displayName": "Gilberto Kaihami",
      "userId": "07651446941847976228"
     },
     "user_tz": 180
    },
    "id": "ZVJnJK_gkAUu",
    "outputId": "06c9072d-4a47-428e-8057-68846f0b0c90"
   },
   "outputs": [
    {
     "name": "stdout",
     "output_type": "stream",
     "text": [
      "chave=nomes\n",
      "primeiro Joãozinho\n",
      "resto ['Mariazinha', 'Fulano']\n",
      "--------------------------------\n",
      "chave=idades\n",
      "primeiro 32\n",
      "resto [25, 22]\n",
      "--------------------------------\n",
      "chave=cidades\n",
      "primeiro São Paulo\n",
      "resto ['Londres', 'Rio']\n",
      "--------------------------------\n",
      "chave=filhos\n",
      "primeiro 0\n",
      "resto [0, 3]\n",
      "--------------------------------\n",
      "chave=alturas\n",
      "primeiro 1.8\n",
      "resto [1.65, 1.75]\n",
      "--------------------------------\n",
      "chave=trabalho\n",
      "primeiro Dentista\n",
      "resto ['Cientista de Dados', 'Engenheiro']\n",
      "--------------------------------\n"
     ]
    }
   ],
   "source": [
    "for k, (primeiro, *resto) in cadastro.items():\n",
    "  print(f'chave={k}')\n",
    "  print('primeiro',primeiro)\n",
    "  print('resto', resto)\n",
    "  print('-'*32)"
   ]
  },
  {
   "cell_type": "code",
   "execution_count": 99,
   "metadata": {
    "colab": {
     "base_uri": "https://localhost:8080/"
    },
    "executionInfo": {
     "elapsed": 399,
     "status": "ok",
     "timestamp": 1665181937874,
     "user": {
      "displayName": "Gilberto Kaihami",
      "userId": "07651446941847976228"
     },
     "user_tz": 180
    },
    "id": "E8dUQkRxjfrO",
    "outputId": "a53719f2-d1e7-4a41-d2a8-d251418867ba"
   },
   "outputs": [
    {
     "data": {
      "text/plain": [
       "[('nomes', 'Joãozinho'),\n",
       " ('idades', 32),\n",
       " ('cidades', 'São Paulo'),\n",
       " ('filhos', 0),\n",
       " ('alturas', 1.8),\n",
       " ('trabalho', 'Dentista')]"
      ]
     },
     "execution_count": 99,
     "metadata": {},
     "output_type": "execute_result"
    }
   ],
   "source": [
    "nome = 'Joãozinho'\n",
    "index = cadastro['nomes'].index(nome)\n",
    "dados_lista = []\n",
    "for chave, valor in cadastro.items():\n",
    "  dados_lista.append((chave, valor[index]))\n",
    "\n",
    "dados_lista"
   ]
  },
  {
   "cell_type": "code",
   "execution_count": 100,
   "metadata": {
    "colab": {
     "base_uri": "https://localhost:8080/"
    },
    "executionInfo": {
     "elapsed": 3,
     "status": "ok",
     "timestamp": 1665181938327,
     "user": {
      "displayName": "Gilberto Kaihami",
      "userId": "07651446941847976228"
     },
     "user_tz": 180
    },
    "id": "4wqPXWL8knNj",
    "outputId": "c1db1129-bf04-4d2d-bae8-4362e48b0047"
   },
   "outputs": [
    {
     "name": "stdout",
     "output_type": "stream",
     "text": [
      "{'nomes': 'Joãozinho'}\n",
      "--------------------------------\n",
      "{'nomes': 'Joãozinho', 'idades': 32}\n",
      "--------------------------------\n",
      "{'nomes': 'Joãozinho', 'idades': 32, 'cidades': 'São Paulo'}\n",
      "--------------------------------\n",
      "{'nomes': 'Joãozinho', 'idades': 32, 'cidades': 'São Paulo', 'filhos': 0}\n",
      "--------------------------------\n",
      "{'nomes': 'Joãozinho', 'idades': 32, 'cidades': 'São Paulo', 'filhos': 0, 'alturas': 1.8}\n",
      "--------------------------------\n",
      "{'nomes': 'Joãozinho', 'idades': 32, 'cidades': 'São Paulo', 'filhos': 0, 'alturas': 1.8, 'trabalho': 'Dentista'}\n",
      "--------------------------------\n"
     ]
    },
    {
     "data": {
      "text/plain": [
       "{'nomes': 'Joãozinho',\n",
       " 'idades': 32,\n",
       " 'cidades': 'São Paulo',\n",
       " 'filhos': 0,\n",
       " 'alturas': 1.8,\n",
       " 'trabalho': 'Dentista'}"
      ]
     },
     "execution_count": 100,
     "metadata": {},
     "output_type": "execute_result"
    }
   ],
   "source": [
    "nome = 'Joãozinho'\n",
    "index = cadastro['nomes'].index(nome)\n",
    "dados_dict = {}\n",
    "for chave, valor in cadastro.items():\n",
    "  dados_dict[chave] = valor[index]\n",
    "  print(dados_dict)\n",
    "  print('-'*32)\n",
    "\n",
    "dados_dict"
   ]
  },
  {
   "cell_type": "code",
   "execution_count": 102,
   "metadata": {
    "colab": {
     "base_uri": "https://localhost:8080/"
    },
    "executionInfo": {
     "elapsed": 2,
     "status": "ok",
     "timestamp": 1665181964624,
     "user": {
      "displayName": "Gilberto Kaihami",
      "userId": "07651446941847976228"
     },
     "user_tz": 180
    },
    "id": "eRjsdIKtk3-E",
    "outputId": "20a61cf0-4a7f-4d0c-a960-89be248b2b2f"
   },
   "outputs": [
    {
     "data": {
      "text/plain": [
       "32"
      ]
     },
     "execution_count": 102,
     "metadata": {},
     "output_type": "execute_result"
    }
   ],
   "source": [
    "dados_lista[1][1]"
   ]
  },
  {
   "cell_type": "code",
   "execution_count": 103,
   "metadata": {
    "colab": {
     "base_uri": "https://localhost:8080/"
    },
    "executionInfo": {
     "elapsed": 1,
     "status": "ok",
     "timestamp": 1665181976977,
     "user": {
      "displayName": "Gilberto Kaihami",
      "userId": "07651446941847976228"
     },
     "user_tz": 180
    },
    "id": "NUU_3CpKlGIF",
    "outputId": "9093871e-d6c5-4abd-f28c-345f211d14af"
   },
   "outputs": [
    {
     "data": {
      "text/plain": [
       "32"
      ]
     },
     "execution_count": 103,
     "metadata": {},
     "output_type": "execute_result"
    }
   ],
   "source": [
    "dados_dict['idades']"
   ]
  },
  {
   "cell_type": "markdown",
   "metadata": {
    "id": "7taUk-qH3pFj"
   },
   "source": [
    "**Verificando a existência de uma chave**\n",
    "\n",
    "Queremos adicionar uma nova chave no dicionário acima. Por exemplo renda.\n",
    "Há como inserir os três salários ao mesmo tempo como vimos acima.\n",
    "Mas por outro lado, podemos inserir de forma sequencial, um valor de cada vez\n",
    "\n",
    "Como realizar tal operação?"
   ]
  },
  {
   "cell_type": "code",
   "execution_count": 104,
   "metadata": {
    "colab": {
     "base_uri": "https://localhost:8080/"
    },
    "executionInfo": {
     "elapsed": 394,
     "status": "ok",
     "timestamp": 1665182056632,
     "user": {
      "displayName": "Gilberto Kaihami",
      "userId": "07651446941847976228"
     },
     "user_tz": 180
    },
    "id": "5KVUvZfu3jxv",
    "outputId": "6abce753-c3c6-418f-b193-58b321ee6f39"
   },
   "outputs": [
    {
     "data": {
      "text/plain": [
       "{'nomes': ['Joãozinho', 'Mariazinha', 'Fulano'],\n",
       " 'idades': [32, 25, 22],\n",
       " 'cidades': ['São Paulo', 'Londres', 'Rio'],\n",
       " 'filhos': [0, 0, 3],\n",
       " 'alturas': [1.8, 1.65, 1.75],\n",
       " 'trabalho': ['Dentista', 'Cientista de Dados', 'Engenheiro']}"
      ]
     },
     "execution_count": 104,
     "metadata": {},
     "output_type": "execute_result"
    }
   ],
   "source": [
    "cadastro"
   ]
  },
  {
   "cell_type": "code",
   "execution_count": 124,
   "metadata": {
    "colab": {
     "base_uri": "https://localhost:8080/"
    },
    "executionInfo": {
     "elapsed": 9964,
     "status": "ok",
     "timestamp": 1665182708800,
     "user": {
      "displayName": "Gilberto Kaihami",
      "userId": "07651446941847976228"
     },
     "user_tz": 180
    },
    "id": "RqJH8w5Q4HVz",
    "outputId": "6cff50cf-bd59-4974-c004-67ae48cc56f2"
   },
   "outputs": [
    {
     "name": "stdout",
     "output_type": "stream",
     "text": [
      "Insira a renda de Joãozinho: 1500\n",
      "Insira a renda de Mariazinha: 3000\n",
      "Insira a renda de Fulano: 4500\n"
     ]
    }
   ],
   "source": [
    "# Cadastro de renda\n",
    "for nome in cadastro['nomes']:\n",
    "  renda = float(input(f'Insira a renda de {nome}: '))\n",
    "  cadastro['rendas'] = renda"
   ]
  },
  {
   "cell_type": "code",
   "execution_count": 125,
   "metadata": {
    "colab": {
     "base_uri": "https://localhost:8080/"
    },
    "executionInfo": {
     "elapsed": 514,
     "status": "ok",
     "timestamp": 1665182711128,
     "user": {
      "displayName": "Gilberto Kaihami",
      "userId": "07651446941847976228"
     },
     "user_tz": 180
    },
    "id": "mZzCL2YO4seH",
    "outputId": "46402a5d-2e05-45cd-e01e-93cab0806950"
   },
   "outputs": [
    {
     "data": {
      "text/plain": [
       "{'nomes': ['Joãozinho', 'Mariazinha', 'Fulano'],\n",
       " 'idades': [32, 25, 22],\n",
       " 'cidades': ['São Paulo', 'Londres', 'Rio'],\n",
       " 'filhos': [0, 0, 3],\n",
       " 'alturas': [1.8, 1.65, 1.75],\n",
       " 'trabalho': ['Dentista', 'Cientista de Dados', 'Engenheiro'],\n",
       " 'rendas': 4500.0}"
      ]
     },
     "execution_count": 125,
     "metadata": {},
     "output_type": "execute_result"
    }
   ],
   "source": [
    "cadastro"
   ]
  },
  {
   "cell_type": "markdown",
   "metadata": {
    "id": "ZxwJH0Wd48KQ"
   },
   "source": [
    "No exemplo acima, temos um erro, o campo `rendas` ficou apenas com um valor!\n",
    "\n",
    "O comportamento que esperavamos era uma lista de valores, representando um valor por pessoa.\n",
    "\n",
    "**O primeiro passo consiste em verificar se uma chave existe no dicionário**"
   ]
  },
  {
   "cell_type": "code",
   "execution_count": 127,
   "metadata": {
    "colab": {
     "base_uri": "https://localhost:8080/"
    },
    "executionInfo": {
     "elapsed": 405,
     "status": "ok",
     "timestamp": 1665182792353,
     "user": {
      "displayName": "Gilberto Kaihami",
      "userId": "07651446941847976228"
     },
     "user_tz": 180
    },
    "id": "zA1I4FOdl8-6",
    "outputId": "4877653f-7411-4410-aef6-bc8f126c59ad"
   },
   "outputs": [
    {
     "data": {
      "text/plain": [
       "4500.0"
      ]
     },
     "execution_count": 127,
     "metadata": {},
     "output_type": "execute_result"
    }
   ],
   "source": [
    "cadastro.pop('rendas')"
   ]
  },
  {
   "cell_type": "code",
   "execution_count": 128,
   "metadata": {
    "colab": {
     "base_uri": "https://localhost:8080/"
    },
    "executionInfo": {
     "elapsed": 1,
     "status": "ok",
     "timestamp": 1665182792783,
     "user": {
      "displayName": "Gilberto Kaihami",
      "userId": "07651446941847976228"
     },
     "user_tz": 180
    },
    "id": "SG3czGhkl_Ye",
    "outputId": "b71811d0-5cf4-4c4c-efc6-3564ad5f4d7c"
   },
   "outputs": [
    {
     "data": {
      "text/plain": [
       "{'nomes': ['Joãozinho', 'Mariazinha', 'Fulano'],\n",
       " 'idades': [32, 25, 22],\n",
       " 'cidades': ['São Paulo', 'Londres', 'Rio'],\n",
       " 'filhos': [0, 0, 3],\n",
       " 'alturas': [1.8, 1.65, 1.75],\n",
       " 'trabalho': ['Dentista', 'Cientista de Dados', 'Engenheiro']}"
      ]
     },
     "execution_count": 128,
     "metadata": {},
     "output_type": "execute_result"
    }
   ],
   "source": [
    "cadastro"
   ]
  },
  {
   "cell_type": "code",
   "execution_count": 129,
   "metadata": {
    "colab": {
     "base_uri": "https://localhost:8080/"
    },
    "executionInfo": {
     "elapsed": 2,
     "status": "ok",
     "timestamp": 1665182794816,
     "user": {
      "displayName": "Gilberto Kaihami",
      "userId": "07651446941847976228"
     },
     "user_tz": 180
    },
    "id": "Lvtp8AGa5KBM",
    "outputId": "9c33b730-bc7a-4644-ee65-58a369d521a3"
   },
   "outputs": [
    {
     "name": "stdout",
     "output_type": "stream",
     "text": [
      "True\n",
      "False\n"
     ]
    }
   ],
   "source": [
    "# Quando perguntamos se uma chave está presente na chaves de um dicionário\n",
    "# Retornamos um booleano (True/False)\n",
    "# No caso de `nomes` retorna...\n",
    "print('nomes' in cadastro.keys())\n",
    "# No caso de `rendas` retorna...\n",
    "print('rendas' in cadastro.keys())"
   ]
  },
  {
   "cell_type": "code",
   "execution_count": 130,
   "metadata": {
    "colab": {
     "base_uri": "https://localhost:8080/"
    },
    "executionInfo": {
     "elapsed": 8596,
     "status": "ok",
     "timestamp": 1665182805593,
     "user": {
      "displayName": "Gilberto Kaihami",
      "userId": "07651446941847976228"
     },
     "user_tz": 180
    },
    "id": "NVt_CLNS52VU",
    "outputId": "196cb322-ac46-4e9f-ac90-ba68dffe9b32"
   },
   "outputs": [
    {
     "name": "stdout",
     "output_type": "stream",
     "text": [
      "Insira a renda de Joãozinho: 1500\n",
      "Insira a renda de Mariazinha: 3000\n",
      "Insira a renda de Fulano: 4500\n"
     ]
    },
    {
     "data": {
      "text/plain": [
       "{'nomes': ['Joãozinho', 'Mariazinha', 'Fulano'],\n",
       " 'idades': [32, 25, 22],\n",
       " 'cidades': ['São Paulo', 'Londres', 'Rio'],\n",
       " 'filhos': [0, 0, 3],\n",
       " 'alturas': [1.8, 1.65, 1.75],\n",
       " 'trabalho': ['Dentista', 'Cientista de Dados', 'Engenheiro'],\n",
       " 'rendas': [1500.0, 3000.0, 4500.0]}"
      ]
     },
     "execution_count": 130,
     "metadata": {},
     "output_type": "execute_result"
    }
   ],
   "source": [
    "# cadastro de renda\n",
    "for nome in cadastro['nomes']:\n",
    "  renda = float(input(f'Insira a renda de {nome}: '))\n",
    "\n",
    "  if 'rendas' in cadastro.keys(): # True or False -> Se True entra no `if`\n",
    "    # Adicionando um valor para a chave `rendas\n",
    "    cadastro['rendas'].append(renda)\n",
    "  else: # Se False entra aqui\n",
    "    # Criando uma chave `rendas` com o primeiro valor sendo uma lista com um único elemento\n",
    "    cadastro['rendas'] = [renda]\n",
    "\n",
    "cadastro\n"
   ]
  },
  {
   "cell_type": "code",
   "execution_count": 131,
   "metadata": {
    "colab": {
     "base_uri": "https://localhost:8080/"
    },
    "executionInfo": {
     "elapsed": 7718,
     "status": "ok",
     "timestamp": 1665182860294,
     "user": {
      "displayName": "Gilberto Kaihami",
      "userId": "07651446941847976228"
     },
     "user_tz": 180
    },
    "id": "NcYUckJIoXUe",
    "outputId": "a3afe7ac-6f19-4c2b-9782-3e981ca76d47"
   },
   "outputs": [
    {
     "name": "stdout",
     "output_type": "stream",
     "text": [
      "Insira a renda de Joãozinho: 3000\n",
      "Insira a renda de Mariazinha: 6000\n",
      "Insira a renda de Fulano: 9000\n"
     ]
    },
    {
     "data": {
      "text/plain": [
       "{'nomes': ['Joãozinho', 'Mariazinha', 'Fulano'],\n",
       " 'idades': [32, 25, 22],\n",
       " 'cidades': ['São Paulo', 'Londres', 'Rio'],\n",
       " 'filhos': [0, 0, 3],\n",
       " 'alturas': [1.8, 1.65, 1.75],\n",
       " 'trabalho': ['Dentista', 'Cientista de Dados', 'Engenheiro'],\n",
       " 'rendas': [3000.0, 6000.0, 9000.0]}"
      ]
     },
     "execution_count": 131,
     "metadata": {},
     "output_type": "execute_result"
    }
   ],
   "source": [
    "# cadastro de renda\n",
    "lista_rendas = []\n",
    "for nome in cadastro['nomes']:\n",
    "  renda = float(input(f'Insira a renda de {nome}: '))\n",
    "  lista_rendas.append(renda)\n",
    "\n",
    "cadastro['rendas'] = lista_rendas\n",
    "\n",
    "cadastro\n"
   ]
  },
  {
   "cell_type": "markdown",
   "metadata": {
    "id": "CpbAUaEO7o6M"
   },
   "source": [
    "Outra forma de acessar os valores do dicionário é utilizando o método `get`"
   ]
  },
  {
   "cell_type": "code",
   "execution_count": 132,
   "metadata": {
    "colab": {
     "base_uri": "https://localhost:8080/"
    },
    "executionInfo": {
     "elapsed": 4,
     "status": "ok",
     "timestamp": 1665182934481,
     "user": {
      "displayName": "Gilberto Kaihami",
      "userId": "07651446941847976228"
     },
     "user_tz": 180
    },
    "id": "ZxViAjXi7oOS",
    "outputId": "21eaef1d-da39-4933-db95-a0b3b56eed39"
   },
   "outputs": [
    {
     "data": {
      "text/plain": [
       "['Joãozinho', 'Mariazinha', 'Fulano']"
      ]
     },
     "execution_count": 132,
     "metadata": {},
     "output_type": "execute_result"
    }
   ],
   "source": [
    "cadastro['nomes']"
   ]
  },
  {
   "cell_type": "code",
   "execution_count": 133,
   "metadata": {
    "colab": {
     "base_uri": "https://localhost:8080/"
    },
    "executionInfo": {
     "elapsed": 393,
     "status": "ok",
     "timestamp": 1665182948694,
     "user": {
      "displayName": "Gilberto Kaihami",
      "userId": "07651446941847976228"
     },
     "user_tz": 180
    },
    "id": "F0HhcSmn7noA",
    "outputId": "d39030ad-b4d7-4a8c-de46-ea917f2327a3"
   },
   "outputs": [
    {
     "data": {
      "text/plain": [
       "['Joãozinho', 'Mariazinha', 'Fulano']"
      ]
     },
     "execution_count": 133,
     "metadata": {},
     "output_type": "execute_result"
    }
   ],
   "source": [
    "cadastro.get('nomes')"
   ]
  },
  {
   "cell_type": "markdown",
   "metadata": {
    "id": "B9Mb_FCv75pS"
   },
   "source": [
    "A vantagem do método `get` é quando tentamos acessar uma chave que não está presente no dicionário"
   ]
  },
  {
   "cell_type": "code",
   "execution_count": 134,
   "metadata": {
    "colab": {
     "base_uri": "https://localhost:8080/",
     "height": 166
    },
    "executionInfo": {
     "elapsed": 3,
     "status": "error",
     "timestamp": 1665182974056,
     "user": {
      "displayName": "Gilberto Kaihami",
      "userId": "07651446941847976228"
     },
     "user_tz": 180
    },
    "id": "bPiy5E5F75Jf",
    "outputId": "10885243-d346-4490-ce0d-53ec077bbe35"
   },
   "outputs": [
    {
     "ename": "KeyError",
     "evalue": "ignored",
     "output_type": "error",
     "traceback": [
      "\u001b[0;31m---------------------------------------------------------------------------\u001b[0m",
      "\u001b[0;31mKeyError\u001b[0m                                  Traceback (most recent call last)",
      "\u001b[0;32m<ipython-input-134-e97a724c7dc9>\u001b[0m in \u001b[0;36m<module>\u001b[0;34m\u001b[0m\n\u001b[0;32m----> 1\u001b[0;31m \u001b[0mcadastro\u001b[0m\u001b[0;34m[\u001b[0m\u001b[0;34m'pets'\u001b[0m\u001b[0;34m]\u001b[0m\u001b[0;34m\u001b[0m\u001b[0;34m\u001b[0m\u001b[0m\n\u001b[0m",
      "\u001b[0;31mKeyError\u001b[0m: 'pets'"
     ]
    }
   ],
   "source": [
    "cadastro['pets']"
   ]
  },
  {
   "cell_type": "code",
   "execution_count": 139,
   "metadata": {
    "colab": {
     "base_uri": "https://localhost:8080/"
    },
    "executionInfo": {
     "elapsed": 2,
     "status": "ok",
     "timestamp": 1665183210270,
     "user": {
      "displayName": "Gilberto Kaihami",
      "userId": "07651446941847976228"
     },
     "user_tz": 180
    },
    "id": "uaXNrlA-o80k",
    "outputId": "fb378285-236a-4024-c15a-131dc944469e"
   },
   "outputs": [
    {
     "name": "stdout",
     "output_type": "stream",
     "text": [
      "None\n"
     ]
    }
   ],
   "source": [
    "print(cadastro.get('pets'))"
   ]
  },
  {
   "cell_type": "markdown",
   "metadata": {
    "id": "-z4uVNai8NJT"
   },
   "source": [
    "A estrutura do `get` é `get(<chave>, <default>)`\n",
    "\n",
    "Ou seja, podemos definir um valor padrão caso a chave não esteja presente"
   ]
  },
  {
   "cell_type": "code",
   "execution_count": 141,
   "metadata": {
    "colab": {
     "base_uri": "https://localhost:8080/"
    },
    "executionInfo": {
     "elapsed": 2,
     "status": "ok",
     "timestamp": 1665183266988,
     "user": {
      "displayName": "Gilberto Kaihami",
      "userId": "07651446941847976228"
     },
     "user_tz": 180
    },
    "id": "RrV3i8Q5qBFJ",
    "outputId": "ea9c71c7-5da1-426c-a02a-42643891d866"
   },
   "outputs": [
    {
     "data": {
      "text/plain": [
       "['Joãozinho', 'Mariazinha', 'Fulano']"
      ]
     },
     "execution_count": 141,
     "metadata": {},
     "output_type": "execute_result"
    }
   ],
   "source": [
    "cadastro.get('nomes')"
   ]
  },
  {
   "cell_type": "code",
   "execution_count": null,
   "metadata": {
    "id": "CYMFjdgRqKzG"
   },
   "outputs": [],
   "source": [
    "cadastro.get('pets', [])"
   ]
  },
  {
   "cell_type": "markdown",
   "metadata": {
    "id": "6bPagFIe8fl7"
   },
   "source": [
    "**Drops**\n",
    "\n",
    "Utilize o método `get` de dicionário para imprimir o valor da chave \"cor\" de ambos os dicionários (carro_toyota, carro_ford), e caso a chave não esteja presente retorne o valor preto."
   ]
  },
  {
   "cell_type": "code",
   "execution_count": 151,
   "metadata": {
    "colab": {
     "base_uri": "https://localhost:8080/"
    },
    "executionInfo": {
     "elapsed": 374,
     "status": "ok",
     "timestamp": 1665183749758,
     "user": {
      "displayName": "Gilberto Kaihami",
      "userId": "07651446941847976228"
     },
     "user_tz": 180
    },
    "id": "0Sc9tDuh8ZqM",
    "outputId": "e0791b74-fe52-4b46-ccba-1f6935440f7f"
   },
   "outputs": [
    {
     "name": "stdout",
     "output_type": "stream",
     "text": [
      "toyota preto\n",
      "ford amarelo\n"
     ]
    }
   ],
   "source": [
    "carro_toyota = {\n",
    "    \"modelo\": \"Yaris\",\n",
    "    \"marca\": \"Toyota\",\n",
    "    \"ano\": 2020\n",
    "}\n",
    "\n",
    "carro_ford = {\n",
    "    \"modelo\": \"Mustang\",\n",
    "    \"marca\": \"Ford\",\n",
    "    \"ano\": 1964,\n",
    "    \"cor\": \"amarelo\"\n",
    "}\n",
    "\n",
    "print('toyota', carro_toyota.get('cor', 'preto'))\n",
    "print('ford', carro_ford.get('cor', 'preto'))"
   ]
  },
  {
   "cell_type": "markdown",
   "metadata": {
    "id": "PuHnBV8irdre"
   },
   "source": [
    "**Atualização de dicionários**"
   ]
  },
  {
   "cell_type": "code",
   "execution_count": 165,
   "metadata": {
    "executionInfo": {
     "elapsed": 514,
     "status": "ok",
     "timestamp": 1665184478587,
     "user": {
      "displayName": "Gilberto Kaihami",
      "userId": "07651446941847976228"
     },
     "user_tz": 180
    },
    "id": "fxK0VHOIrh8I"
   },
   "outputs": [],
   "source": [
    "carro_1 = {\n",
    "    \"modelo\": \"Yaris\",\n",
    "    \"marca\": \"Toyota\",\n",
    "    \"ano\": 2020\n",
    "}\n",
    "\n",
    "carro_2 = {\n",
    "    \"cor\": \"amarelo\"\n",
    "}\n"
   ]
  },
  {
   "cell_type": "code",
   "execution_count": 166,
   "metadata": {
    "executionInfo": {
     "elapsed": 2,
     "status": "ok",
     "timestamp": 1665184479126,
     "user": {
      "displayName": "Gilberto Kaihami",
      "userId": "07651446941847976228"
     },
     "user_tz": 180
    },
    "id": "rO5w-MforgYf"
   },
   "outputs": [],
   "source": [
    "# Utilizamos o metodo `update` para atualizar o primeiro dicionário (da esquerda)\n",
    "carro_1.update(carro_2)"
   ]
  },
  {
   "cell_type": "code",
   "execution_count": 167,
   "metadata": {
    "colab": {
     "base_uri": "https://localhost:8080/"
    },
    "executionInfo": {
     "elapsed": 2,
     "status": "ok",
     "timestamp": 1665184479126,
     "user": {
      "displayName": "Gilberto Kaihami",
      "userId": "07651446941847976228"
     },
     "user_tz": 180
    },
    "id": "N2aDjlp3rgK0",
    "outputId": "e47deac2-3939-4d20-ddb9-e7752fe57c76"
   },
   "outputs": [
    {
     "data": {
      "text/plain": [
       "{'modelo': 'Yaris', 'marca': 'Toyota', 'ano': 2020, 'cor': 'amarelo'}"
      ]
     },
     "execution_count": 167,
     "metadata": {},
     "output_type": "execute_result"
    }
   ],
   "source": [
    "carro_1"
   ]
  },
  {
   "cell_type": "code",
   "execution_count": 171,
   "metadata": {
    "executionInfo": {
     "elapsed": 386,
     "status": "ok",
     "timestamp": 1665184582102,
     "user": {
      "displayName": "Gilberto Kaihami",
      "userId": "07651446941847976228"
     },
     "user_tz": 180
    },
    "id": "ONj58fPXukzf"
   },
   "outputs": [],
   "source": [
    "carro_1 = {\n",
    "    \"modelo\": \"Yaris\",\n",
    "    \"marca\": \"Toyota\",\n",
    "    \"ano\": 2020\n",
    "}\n",
    "\n",
    "carro_2 = {\n",
    "    \"cor\": \"amarelo\",\n",
    "    \"ano\": 2016\n",
    "}\n"
   ]
  },
  {
   "cell_type": "code",
   "execution_count": 172,
   "metadata": {
    "executionInfo": {
     "elapsed": 1,
     "status": "ok",
     "timestamp": 1665184582493,
     "user": {
      "displayName": "Gilberto Kaihami",
      "userId": "07651446941847976228"
     },
     "user_tz": 180
    },
    "id": "ALFOAau3uuL5"
   },
   "outputs": [],
   "source": [
    "# Neste caso o `ano` existe nos dois dicionários\n",
    "# o valor dos campos com mesma chave são substituidos pelos valores do dicionário da direita\n",
    "carro_1.update(carro_2)"
   ]
  },
  {
   "cell_type": "code",
   "execution_count": 173,
   "metadata": {
    "colab": {
     "base_uri": "https://localhost:8080/"
    },
    "executionInfo": {
     "elapsed": 2,
     "status": "ok",
     "timestamp": 1665184582494,
     "user": {
      "displayName": "Gilberto Kaihami",
      "userId": "07651446941847976228"
     },
     "user_tz": 180
    },
    "id": "t6zS3xfDuw31",
    "outputId": "b128c209-2673-4e4f-9880-e378b6e2394c"
   },
   "outputs": [
    {
     "data": {
      "text/plain": [
       "{'modelo': 'Yaris', 'marca': 'Toyota', 'ano': 2016, 'cor': 'amarelo'}"
      ]
     },
     "execution_count": 173,
     "metadata": {},
     "output_type": "execute_result"
    }
   ],
   "source": [
    "carro_1"
   ]
  },
  {
   "cell_type": "markdown",
   "metadata": {
    "id": "V-qLMw7eAsQg"
   },
   "source": [
    "**Desafio**\n",
    "Modifique a função cadastrar_usuario abaixo em que serão coletados as seguintes informações a partir da entrada da pessoa usuária:\n",
    "\n",
    "- CPF (essa será a chave)\n",
    "- Nome\n",
    "- Idade\n",
    "- Sexo\n",
    "- Renda\n",
    "- Estado\n",
    "\n",
    "1-) Agora crie uma função que permita descobrir a idade média de pessoas cadastradas pelo sexo (para manter simples, masculino e feminino, representado por m e f, respectivamente (output: (('m', media_masc), ('f', media_fem))).\n",
    "\n",
    "2-) Crie uma função que mostre a quantidade de pessoas por sexo (output: (('m', qtd_masc), ('f', qtd_fem))).\n",
    "\n",
    "\n",
    "3-) Crie uma função que filtre os dados por estado (output: cadastros filtrado)\n",
    "\n",
    "4-) Crie uma função que permita deletar um cadastro por CPF (output: cadastros)\n",
    "\n",
    "\n",
    "```\n",
    "\n",
    "def cadastrar_usuario():\n",
    "  continuar_cadastro = True\n",
    "\n",
    "  cadastros = {}\n",
    "  while continuar_cadastro:\n",
    "    ...\n",
    "\n",
    "def calcule_media_idade_por_sexo():\n",
    "  ...\n",
    "\n",
    "def conte_quantidade_por_sexo():\n",
    "  ...\n",
    "\n",
    "def filtre_dados():\n",
    "  ...\n",
    "\n",
    "def delete_cadastro():\n",
    "  ...\n",
    "```"
   ]
  },
  {
   "cell_type": "code",
   "execution_count": 174,
   "metadata": {
    "executionInfo": {
     "elapsed": 1,
     "status": "ok",
     "timestamp": 1665184844922,
     "user": {
      "displayName": "Gilberto Kaihami",
      "userId": "07651446941847976228"
     },
     "user_tz": 180
    },
    "id": "T5yBNAEL56Pl"
   },
   "outputs": [],
   "source": [
    "def cadastrar_usuario():\n",
    "  continuar_cadastro = True\n",
    "\n",
    "  cadastros = {}\n",
    "  while continuar_cadastro:\n",
    "    ...\n",
    "\n",
    "def calcule_media_idade_por_sexo():\n",
    "  ...\n",
    "\n",
    "def conte_quantidade_por_sexo():\n",
    "  ...\n",
    "\n",
    "def filtre_dados():\n",
    "  ...\n",
    "\n",
    "def delete_cadastro():\n",
    "  ..."
   ]
  },
  {
   "cell_type": "code",
   "execution_count": null,
   "metadata": {
    "id": "6aYxIyk4BrMO"
   },
   "outputs": [],
   "source": []
  },
  {
   "cell_type": "markdown",
   "metadata": {
    "id": "EmoT0RZlBsd4"
   },
   "source": [
    "**Desafio**\n",
    "\n",
    "Escreva um programa que pergunte uma string para a pessoa usuária e retorne um dicionário cujas chaves são os caracteres da string de entrada e os valores a ocorrência de cada caracter na string.\n",
    "\n",
    "Por exemplo:\n",
    "\n",
    "Na string `language` o programa deve retornar o dicionário:\n",
    "\n",
    "```python\n",
    "{'l': 1, 'a': 2, 'n': 1, 'g': 2, 'e': 1}\n",
    "```"
   ]
  },
  {
   "cell_type": "code",
   "execution_count": null,
   "metadata": {
    "id": "8kc_yvSmCR5Y"
   },
   "outputs": [],
   "source": []
  },
  {
   "cell_type": "code",
   "execution_count": null,
   "metadata": {
    "id": "yngUZ4bCBrqV"
   },
   "outputs": [],
   "source": []
  },
  {
   "cell_type": "markdown",
   "metadata": {
    "id": "Qwwm-peiCSKf"
   },
   "source": [
    "**Desafio**\n",
    "\n",
    "Escreva um programa que aceite um inteiro (k) e retorne um dicionário em que a chave é um inteiro de 1 até o valor (k) e os valores são o fatorial desses (1!, 2!, ..., k!).\n",
    "\n",
    "Por exemplo:  \n",
    "Entrada k=1\n",
    "```\n",
    "{1: 1!}\n",
    "```\n",
    "\n",
    "Entrada k=2\n",
    "```\n",
    "{1: 1!,\n",
    " 2: 2!}\n",
    "```\n",
    "\n",
    "Entrada k=5\n",
    "```\n",
    "{1: 1!,\n",
    " 2: 2!,\n",
    " 3: 3!,\n",
    " 4: 4!,\n",
    " 5: 5!}\n",
    "```"
   ]
  },
  {
   "cell_type": "code",
   "execution_count": null,
   "metadata": {
    "id": "ra5dHeI7DId2"
   },
   "outputs": [],
   "source": []
  },
  {
   "cell_type": "markdown",
   "metadata": {
    "id": "AWuaSDNgDVN9"
   },
   "source": [
    "Considere que temos um dicionário de tamanho N.\n",
    "\n",
    "Com os nomes sendo as chaves e as notas sendo os valores\n",
    "\n",
    "```\n",
    "{'Alex': [10, 5, 3],\n",
    " 'Maria': [5, 7, 6.5],\n",
    " ...}\n",
    "```\n",
    "Escreva um programa que pegue esse dicionário e retorne um novo dicionário com as chaves sendo os nomes dos estudantes e os valores a média de suas notas:\n",
    "\n",
    "```\n",
    "{'Alex': 6.0,\n",
    " 'Maria': 6.16\n",
    " ...\n",
    "```\n"
   ]
  },
  {
   "cell_type": "markdown",
   "metadata": {
    "tags": []
   },
   "source": [
    "# Questão 1\n",
    "Crie um dicionário cujas chaves são os meses do ano e os valores são a duração (em dias) de cada mês."
   ]
  },
  {
   "cell_type": "code",
   "execution_count": 1,
   "metadata": {
    "tags": []
   },
   "outputs": [],
   "source": [
    "months = {'January':31,'February':28,'March':31,'April':30,'May':31,'June':30,'July':31,'August':31,'September':30,'October':31,'November':30,'December':31}"
   ]
  },
  {
   "cell_type": "markdown",
   "metadata": {
    "tags": []
   },
   "source": [
    "# Questão 2\n",
    "Enunciado\n",
    "\n",
    "Imprima as chaves seguidas dos seus valores para dicionário criado no exercício anterior.\n",
    "\n",
    "Exemplo:\n",
    "\n",
    "Janeiro - 31\n",
    "\n",
    "Fevereiro - 28\n",
    "\n",
    "Março - 31\n",
    "\n",
    "Etc..."
   ]
  },
  {
   "cell_type": "code",
   "execution_count": 3,
   "metadata": {},
   "outputs": [
    {
     "name": "stdout",
     "output_type": "stream",
     "text": [
      "January - 31\n",
      "February - 28\n",
      "March - 31\n",
      "April - 30\n",
      "May - 31\n",
      "June - 30\n",
      "July - 31\n",
      "August - 31\n",
      "September - 30\n",
      "October - 31\n",
      "November - 30\n",
      "December - 31\n"
     ]
    }
   ],
   "source": [
    "for key in months:\n",
    "    print(f'{key} - {months[key]}')"
   ]
  },
  {
   "cell_type": "markdown",
   "metadata": {
    "tags": []
   },
   "source": [
    "# Questão 3\n",
    "Crie um dicionário para as seguintes relações:\n",
    "\n",
    "‘Banana’: 3.0\n",
    "\n",
    "‘Cebola’: 4.0\n",
    "\n",
    "‘Maçã’: 5.7\n",
    "\n",
    "‘Abacaxi’: 8.0"
   ]
  },
  {
   "cell_type": "code",
   "execution_count": 4,
   "metadata": {},
   "outputs": [],
   "source": [
    "price = {'Banana': 3.0,'Cebola': 4.0,'Maçã': 5.7,'Abacaxi': 8.0}"
   ]
  },
  {
   "cell_type": "markdown",
   "metadata": {
    "tags": []
   },
   "source": [
    "# Questão 4\n",
    "Altere o valor da chave ‘Maçã’ no dicionário do exercício anterior para 8.6.\n"
   ]
  },
  {
   "cell_type": "code",
   "execution_count": 5,
   "metadata": {},
   "outputs": [],
   "source": [
    "price['Maçã'] = 8.6"
   ]
  },
  {
   "cell_type": "markdown",
   "metadata": {
    "tags": []
   },
   "source": [
    "# Questão 5\n",
    "Crie uma função que receba os valores do nome, idade e e-mail de uma pessoa e guarde-os em um dicionário com as chaves ‘nome’, ‘idade’ e ‘email’, respectivamente. Sua função deve retornar esse dicionário."
   ]
  },
  {
   "cell_type": "code",
   "execution_count": 7,
   "metadata": {},
   "outputs": [],
   "source": [
    "def register():\n",
    "    name = input('Digite o nome: ')\n",
    "    age = int(input('Digite a idade: '))\n",
    "    email = input('Digite o email: ')\n",
    "    \n",
    "    return {'name':name,'age':age, 'email':email}"
   ]
  },
  {
   "cell_type": "code",
   "execution_count": 8,
   "metadata": {},
   "outputs": [
    {
     "name": "stdin",
     "output_type": "stream",
     "text": [
      "Digite o nome:  B\n",
      "Digite a idade:  22\n",
      "Digite o email:  bruno@mail.com\n"
     ]
    },
    {
     "data": {
      "text/plain": [
       "{'name': 'B', 'age': 22, 'email': 'bruno@mail.com'}"
      ]
     },
     "execution_count": 8,
     "metadata": {},
     "output_type": "execute_result"
    }
   ],
   "source": [
    "register()"
   ]
  },
  {
   "cell_type": "markdown",
   "metadata": {
    "tags": []
   },
   "source": [
    "# Questão 6\n",
    "Como você armazenaria a seguinte tabela usando apenas dicionários? Tente imprimir o valor correspondente da linha Pedro x Coluna B.\n",
    "|       | Coluna A | Coluna B |\n",
    "|-------|:----:|:--------:|\n",
    "| Maria |  1   |        5 |\n",
    "| Pedro |  0.5 |        3 |\n",
    "| João  |  3.2 |        2 |"
   ]
  },
  {
   "cell_type": "code",
   "execution_count": 9,
   "metadata": {},
   "outputs": [],
   "source": [
    "data = {'name':['Maria','Pedro','João'],'column A':[1.0, 0.5, 3.2],'column B':[5,3,2]}"
   ]
  },
  {
   "cell_type": "markdown",
   "metadata": {
    "tags": []
   },
   "source": [
    "# Questão 7\n",
    "Faça um programa que conte quantas vezes cada elemento aparece em uma lista (pode criar uma lista na mão). Esse programa deverá guardar os dados em um dicionário no qual as chaves são os elementos da lista e os valores são a contagem de quantas vezes esse elemento aparece."
   ]
  },
  {
   "cell_type": "code",
   "execution_count": 12,
   "metadata": {},
   "outputs": [
    {
     "name": "stdout",
     "output_type": "stream",
     "text": [
      "{'h': 3, 'e': 6, 'f': 4, 'j': 4, '5': 5, '4': 2, '1': 2, 'a': 4, 's': 4, 'q': 6, 'k': 2, '8': 3, 'v': 3, '9': 3, '3': 6, 'g': 2, '6': 3, 'd': 5, 'r': 2, 't': 3, '2': 2, 'y': 1, 'u': 1, 'i': 2, 'o': 1, 'l': 2, 'n': 2, '7': 1}\n"
     ]
    }
   ],
   "source": [
    "string = 'hefjefe5f41ass54qkqjq8vv93s35g56agdhr98ethe2e9yuii6joqlqknfv23s6a3a3q8r7tdd1d3d5ntjl'\n",
    "lst_str = list(string)\n",
    "count_dict = dict()\n",
    "for key in lst_str:\n",
    "    count_dict[key] = count_dict.get(key,0)+1\n",
    "print(count_dict)"
   ]
  },
  {
   "cell_type": "markdown",
   "metadata": {
    "tags": []
   },
   "source": [
    "# Questão 8\n",
    "Faça um programa que fique pedindo uma resposta do usuário, entre 1, 2 e 3. Se o usuário digitar 1, o programa deve cadastrar um novo usuário e guardar esse cadastro num dicionário cuja chave será o CPF da pessoa. Quando o usuário digitar 2, o programa deve imprimir os usuários cadastrados; e se o usuário digitar 3, o programa deve fechar.\n",
    "\n",
    "Exemplo do dicionário:\n",
    "\n",
    "pri\n",
    "    ‘987.654.321-00’: {‘nome’: Maria, ‘idade’: 20, ‘email’ :  maria@mail.com}n"
   ]
  },
  {
   "cell_type": "code",
   "execution_count": 18,
   "metadata": {},
   "outputs": [
    {
     "name": "stdin",
     "output_type": "stream",
     "text": [
      "Digite 1 para cadastrar novo usuário, 2 para imprimir cadastros e 3 para fechar:  1\n",
      "Digite o CPF:  234.698.987-68\n",
      "Digite o nome:  fulano\n",
      "Digite a idade:  25\n",
      "Digite o email:  fulano@mail.com\n",
      "Digite 1 para cadastrar novo usuário, 2 para imprimir cadastros e 3 para fechar:  1\n",
      "Digite o CPF:  568.987.589-98\n",
      "Digite o nome:  sicrano\n",
      "Digite a idade:  27\n",
      "Digite o email:  sicrano@mail.com\n",
      "Digite 1 para cadastrar novo usuário, 2 para imprimir cadastros e 3 para fechar:  2\n"
     ]
    },
    {
     "name": "stdout",
     "output_type": "stream",
     "text": [
      "{'234.698.987-68': {'name': 'fulano', 'age': 25, 'email': 'fulano@mail.com'}, '568.987.589-98': {'name': 'sicrano', 'age': 27, 'email': 'sicrano@mail.com'}}\n"
     ]
    },
    {
     "name": "stdin",
     "output_type": "stream",
     "text": [
      "Digite 1 para cadastrar novo usuário, 2 para imprimir cadastros e 3 para fechar:  3\n"
     ]
    }
   ],
   "source": [
    "registers = dict()\n",
    "option = 1\n",
    "while 0 < option < 3:\n",
    "    option = int(input('Digite 1 para cadastrar novo usuário, 2 para imprimir cadastros e 3 para fechar: '))\n",
    "    if option == 1:\n",
    "        register = dict()\n",
    "        cpf = input('Digite o CPF: ')\n",
    "        name = input('Digite o nome: ')\n",
    "        register['name'] = name\n",
    "        age = int(input('Digite a idade: '))\n",
    "        register['age'] = age\n",
    "        email = input('Digite o email: ')\n",
    "        register['email'] = email\n",
    "        registers[cpf] = register\n",
    "    elif option == 2:\n",
    "        print(registers)"
   ]
  },
  {
   "cell_type": "markdown",
   "metadata": {
    "tags": []
   },
   "source": [
    "# Questão 9\n",
    "Implemente um sistema de busca para o programa do exercício anterior. Isto é, se o usuário digitar 4, procure um determinado usuário pelo seu CPF."
   ]
  },
  {
   "cell_type": "code",
   "execution_count": null,
   "metadata": {},
   "outputs": [],
   "source": [
    "registers = dict()\n",
    "option = 1\n",
    "while 0 < option < 4:\n",
    "    option = int(input('Digite 1 para cadastrar novo usuário, 2 para imprimir cadastros, 3 para mostrar dados e 4 para fechar: '))\n",
    "    if option == 1:\n",
    "        register = dict()\n",
    "        cpf = input('Digite o CPF: ')\n",
    "        name = input('Digite o nome: ')\n",
    "        register['name'] = name\n",
    "        age = int(input('Digite a idade: '))\n",
    "        register['age'] = age\n",
    "        email = input('Digite o email: ')\n",
    "        register['email'] = email\n",
    "        registers[cpf] = register\n",
    "    elif option == 2:\n",
    "        print(registers)\n",
    "    elif option == 3:\n",
    "        cpf = input('Digite o CPF: ')\n",
    "        print(registers[cpf])"
   ]
  },
  {
   "cell_type": "markdown",
   "metadata": {},
   "source": [
    "# Questão 10\n",
    "\n",
    "Desafio Modifique a função cadastrar_usuario abaixo em que serão coletados as seguintes informações a partir da entrada da pessoa usuária:\n",
    "\n",
    "    CPF (essa será a chave)\n",
    "    Nome\n",
    "    Idade\n",
    "    Sexo\n",
    "    Renda\n",
    "    Estado\n",
    "\n",
    "1-) Agora crie uma função que permita descobrir a idade média de pessoas cadastradas pelo sexo (para manter simples, masculino e feminino, representado por m e f, respectivamente (output: (('m', media_masc), ('f', media_fem))).\n",
    "\n",
    "2-) Crie uma função que mostre a quantidade de pessoas por sexo (output: (('m', qtd_masc), ('f', qtd_fem))).\n",
    "\n",
    "3-) Crie uma função que filtre os dados por estado (output: cadastros filtrado)\n",
    "\n",
    "4-) Crie uma função que permita deletar um cadastro por CPF (output: cadastros)"
   ]
  },
  {
   "cell_type": "code",
   "execution_count": 35,
   "metadata": {},
   "outputs": [],
   "source": [
    "from collections import namedtuple\n",
    "Person = namedtuple('Person',['name','age','sex', 'wage','state'])\n",
    "\n",
    "def cadastrar_usuario():  \n",
    "    option = input('Deseja realizar cadastro? ')\n",
    "    dict_register = {}\n",
    "    while option.lower() in ['s','sim','y','yes']:\n",
    "        data_user = []\n",
    "        cpf = input('CPF: ')\n",
    "        while len(cpf) != 11:\n",
    "            cpf = int(input('CPF inválido. CPF: '))\n",
    "        \n",
    "        name = input('Nome: ')\n",
    "        \n",
    "        age = int(input('Idade: '))\n",
    "        while age < 0:\n",
    "            age = int(input('Valor de idade inválido. Idade: '))\n",
    "        \n",
    "        sex = input('Sexo: ')\n",
    "        while (sex.lower() not in ['m','f','masculino','feminino','male','female']):\n",
    "            sex = input('Entrada Inválida. Sexo: ')\n",
    "        \n",
    "        wage = float(input('Renda: '))\n",
    "        while wage < 0:\n",
    "            wage = input('Entrada Inválida. Renda: ')\n",
    "            \n",
    "        state = input('Estado: ').lower()\n",
    "        \n",
    "        person = Person(name,age,sex,wage,state)\n",
    "        dict_register[cpf] = person\n",
    "        \n",
    "        option = input('Deseja realizar novo cadastro? ')\n",
    "        \n",
    "    return dict_register\n",
    "\n",
    "def calcule_media_idade_por_sexo(registers: dict)-> tuple:\n",
    "    acc_m = 0\n",
    "    count_m = 0\n",
    "    acc_f = 0\n",
    "    count_f = 0\n",
    "    for person in registers.values():\n",
    "        if person.sex in ['m','masculino','male']:\n",
    "            acc_m += person.age\n",
    "            count_m += 1\n",
    "        elif person.sex in ['f','feminino','female']:\n",
    "            acc_f += person.age\n",
    "            count_f += 1\n",
    "    lst = []\n",
    "    if count_m > 0:\n",
    "        lst.append(('m',acc_m/count_m))\n",
    "    if count_f > 0:\n",
    "        lst.append(('f',acc_f/count_f))\n",
    "    return tuple(lst)\n",
    "\n",
    "def calculate_number_per_sex(registers: dict)-> tuple:\n",
    "    count_m = 0\n",
    "    count_f = 0\n",
    "    for person in registers.values():\n",
    "        if person.sex in ['m','masculino','male']:\n",
    "            count_m += 1\n",
    "        elif person.sex in ['f','feminino','female']:\n",
    "            count_f += 1\n",
    "            \n",
    "    return ('m',count_m),('f',count_f)\n",
    "\n",
    "def filter_by_state(registers,state):\n",
    "    return {cpf:person for cpf, person in registers.items() if person.state == state.lower()}\n",
    "\n",
    "def delete_user(registers,cpf):\n",
    "    if cpf in registers.keys():\n",
    "        registers.pop(cpf)\n",
    "    return registers\n",
    "    "
   ]
  },
  {
   "cell_type": "code",
   "execution_count": 23,
   "metadata": {},
   "outputs": [
    {
     "name": "stdin",
     "output_type": "stream",
     "text": [
      "Deseja realizar cadastro?  s\n",
      "CPF:  12345678989\n",
      "Nome:  A\n",
      "Idade:  26\n",
      "Sexo:  m\n",
      "Renda:  168\n",
      "Estado:  rn\n",
      "Deseja realizar novo cadastro?  s\n",
      "CPF:  12378945656\n",
      "Nome:  B\n",
      "Idade:  87\n",
      "Sexo:  f\n",
      "Renda:  16855\n",
      "Estado:  RN\n",
      "Deseja realizar novo cadastro?  s\n",
      "CPF:  78945612323\n",
      "Nome:  C\n",
      "Idade:  45\n",
      "Sexo:  m\n",
      "Renda:  4575\n",
      "Estado:  SP\n",
      "Deseja realizar novo cadastro?  s\n",
      "CPF:  78945632121\n",
      "Nome:  D\n",
      "Idade:  56\n",
      "Sexo:  m\n",
      "Renda:  8576\n",
      "Estado:  SP\n",
      "Deseja realizar novo cadastro?  n\n"
     ]
    }
   ],
   "source": [
    "registers = cadastrar_usuario()"
   ]
  },
  {
   "cell_type": "code",
   "execution_count": 37,
   "metadata": {},
   "outputs": [
    {
     "name": "stdout",
     "output_type": "stream",
     "text": [
      "(('m', 50.5), ('f', 87.0))\n",
      "(('m', 2), ('f', 1))\n",
      "{'12378945656': Person(name='B', age=87, sex='f', wage=16855.0, state='rn')}\n",
      "{'12378945656': Person(name='B', age=87, sex='f', wage=16855.0, state='rn'), '78945612323': Person(name='C', age=45, sex='m', wage=4575.0, state='sp'), '78945632121': Person(name='D', age=56, sex='m', wage=8576.0, state='sp')}\n"
     ]
    }
   ],
   "source": [
    "# registers = cadastrar_usuario()\n",
    "print(calcule_media_idade_por_sexo(registers))\n",
    "print(calculate_number_per_sex(registers))\n",
    "print(filter_by_state(registers,'RN'))\n",
    "print(delete_user(registers,'12345678989'))"
   ]
  },
  {
   "cell_type": "markdown",
   "metadata": {},
   "source": [
    "# Questão 11\n",
    "Escreva um programa que aceite um inteiro (k) e retorne um dicionário em que a chave é um inteiro de 1 até o valor (k) e os valores são o fatorial desses (1!, 2!, ..., k!).\n",
    "\n",
    "Por exemplo:\n",
    "Entrada k=1\n",
    "\n",
    "{1: 1!}\n",
    "\n",
    "Entrada k=2\n",
    "\n",
    "{1: 1!,\n",
    " 2: 2!}\n",
    "\n",
    "Entrada k=5\n",
    "\n",
    "{1: 1!,\n",
    " 2: 2!,\n",
    " 3: 3!,\n",
    " 4: 4!,\n",
    " 5: 5!}"
   ]
  },
  {
   "cell_type": "code",
   "execution_count": 48,
   "metadata": {},
   "outputs": [
    {
     "name": "stdin",
     "output_type": "stream",
     "text": [
      "Digite um número para cálculo de fatorial:  6\n"
     ]
    },
    {
     "name": "stdout",
     "output_type": "stream",
     "text": [
      "{1: 1, 2: 2, 3: 6, 4: 24, 5: 120, 6: 720}\n"
     ]
    }
   ],
   "source": [
    "k = int(input('Digite um número para cálculo de fatorial: '))\n",
    "\n",
    "fatorials = dict()\n",
    "for i in range(1,k+1):\n",
    "    fatorials[i] = fatorials.get(i-1,1) * i\n",
    "\n",
    "print(fatorials)"
   ]
  },
  {
   "cell_type": "markdown",
   "metadata": {},
   "source": [
    "# Questão 12\n",
    "\n",
    "Considere que temos um dicionário de tamanho N.\n",
    "\n",
    "Com os nomes sendo as chaves e as notas sendo os valores\n",
    "\n",
    "{'Alex': [10, 5, 3],\n",
    " 'Maria': [5, 7, 6.5],\n",
    " ...}\n",
    "\n",
    "Escreva um programa que pegue esse dicionário e retorne um novo dicionário com as chaves sendo os nomes dos estudantes e os valores a média de suas notas:\n",
    "\n",
    "{'Alex': 6.0,\n",
    " 'Maria': 6.16\n",
    " ..."
   ]
  },
  {
   "cell_type": "code",
   "execution_count": 44,
   "metadata": {},
   "outputs": [
    {
     "name": "stdin",
     "output_type": "stream",
     "text": [
      "Nome do estudante:  Bruno\n",
      "Notas separadas por vírgula:  5.0,10.0,9.0\n",
      "Nome do estudante:  A\n",
      "Notas separadas por vírgula:  10.0,10.0,6.0\n",
      "Nome do estudante:  C\n",
      "Notas separadas por vírgula:  8.5,9.6,5.9\n"
     ]
    },
    {
     "data": {
      "text/plain": [
       "{'Bruno': 8.0, 'A': 8.666666666666666, 'C': 8.0}"
      ]
     },
     "execution_count": 44,
     "metadata": {},
     "output_type": "execute_result"
    }
   ],
   "source": [
    "import statistics as st\n",
    "N = 3\n",
    "\n",
    "grades_students = {}\n",
    "for i in range(N):\n",
    "    student = input('Nome do estudante: ')\n",
    "    grades = input('Notas separadas por vírgula: ').split(',')\n",
    "    grades = [float(grade) for grade in grades]\n",
    "    grades_students[student] = grades\n",
    "\n",
    "{ k: st.mean(v) for k,v in grades_students.items()}\n"
   ]
  },
  {
   "cell_type": "code",
   "execution_count": 46,
   "metadata": {},
   "outputs": [
    {
     "name": "stdin",
     "output_type": "stream",
     "text": [
      "Nome do estudante:  Bruno\n",
      "Notas separadas por vírgula:  5.0,10.0,9.0\n",
      "Nome do estudante:  A\n",
      "Notas separadas por vírgula:  10.0,10.0,6.0\n",
      "Nome do estudante:  C\n",
      "Notas separadas por vírgula:  8.5,9.6,5.9\n"
     ]
    },
    {
     "data": {
      "text/plain": [
       "{'Bruno': 8.0, 'A': 8.666666666666666, 'C': 8.0}"
      ]
     },
     "execution_count": 46,
     "metadata": {},
     "output_type": "execute_result"
    }
   ],
   "source": [
    "import statistics as st\n",
    "N = 3\n",
    "\n",
    "grades_students = {input('Nome do estudante: ') : [float(grade) for grade in input('Notas separadas por vírgula: ').split(',')] for i in range(N)}\n",
    "\n",
    "{ k: st.mean(v) for k,v in grades_students.items()}"
   ]
  },
  {
   "cell_type": "markdown",
   "metadata": {},
   "source": [
    "# Questão 13\n",
    "Escreva um programa que pergunte uma string para a pessoa usuária e retorne um dicionário cujas chaves são os caracteres da string de entrada e os valores a ocorrência de cada caracter na string.\n",
    "\n",
    "Por exemplo:\n",
    "\n",
    "Na string language o programa deve retornar o dicionário:\n",
    "\n",
    "{'l': 1, 'a': 2, 'n': 1, 'g': 2, 'e': 1}"
   ]
  },
  {
   "cell_type": "code",
   "execution_count": 49,
   "metadata": {},
   "outputs": [
    {
     "name": "stdin",
     "output_type": "stream",
     "text": [
      "Digite uma string:  language\n"
     ]
    },
    {
     "name": "stdout",
     "output_type": "stream",
     "text": [
      "{'l': 1, 'a': 2, 'n': 1, 'g': 2, 'u': 1, 'e': 1}\n"
     ]
    }
   ],
   "source": [
    "string = input('Digite uma string: ')\n",
    "lst_str = list(string)\n",
    "count_dict = dict()\n",
    "for key in lst_str:\n",
    "    count_dict[key] = count_dict.get(key,0)+1\n",
    "print(count_dict)"
   ]
  },
  {
   "cell_type": "code",
   "execution_count": 50,
   "metadata": {},
   "outputs": [
    {
     "data": {
      "text/plain": [
       "['Clarice Barbosa',\n",
       " 'Yuri Aragão',\n",
       " 'Guilherme Lopes',\n",
       " 'Maria Farias',\n",
       " 'Sr. Daniel Pinto',\n",
       " 'Dr. Ian da Conceição',\n",
       " 'Bruna Ferreira',\n",
       " 'Alícia da Luz',\n",
       " 'Sr. Leandro Sales',\n",
       " 'Benício Campos',\n",
       " 'Bianca da Rosa',\n",
       " 'Dra. Marcela Moreira',\n",
       " 'Daniela Alves',\n",
       " 'Enzo Gabriel Melo',\n",
       " 'Yasmin Silveira',\n",
       " 'Francisco Carvalho',\n",
       " 'Sophia Moreira',\n",
       " 'André da Paz',\n",
       " 'Joaquim Barbosa',\n",
       " 'Calebe da Mota',\n",
       " 'Mirella Costela',\n",
       " 'Pedro Lucas Freitas',\n",
       " 'Julia Rocha',\n",
       " 'Sra. Maria Cecília Cavalcanti',\n",
       " 'Sra. Emanuelly da Mota',\n",
       " 'Luna Fogaça']"
      ]
     },
     "execution_count": 50,
     "metadata": {},
     "output_type": "execute_result"
    }
   ],
   "source": [
    "cadastros = {\n",
    "982432: {'name': 'Clarice Barbosa', 'sex': 'F', 'idade': 101},\n",
    " 929103: {'name': 'Yuri Aragão', 'sex': 'M', 'idade': 63},\n",
    " 930428: {'name': 'Kaique Viana', 'sex': 'M', 'idade': 16},\n",
    " 547921: {'name': 'Emilly da Luz', 'sex': 'F', 'idade': 2},\n",
    " 766567: {'name': 'Guilherme Lopes', 'sex': 'M', 'idade': 58},\n",
    " 514041: {'name': 'Igor Peixoto', 'sex': 'M', 'idade': 16},\n",
    " 613153: {'name': 'Lívia Lima', 'sex': 'F', 'idade': 10},\n",
    " 326839: {'name': 'Lucas Pinto', 'sex': 'M', 'idade': 2},\n",
    " 322292: {'name': 'Maria Farias', 'sex': 'F', 'idade': 58},\n",
    " 119132: {'name': 'Sr. Daniel Pinto', 'sex': 'M', 'idade': 51},\n",
    " 436737: {'name': 'Dr. Ian da Conceição', 'sex': 'M', 'idade': 106},\n",
    " 239127: {'name': 'Bruna Ferreira', 'sex': 'F', 'idade': 81},\n",
    " 326000: {'name': 'Alícia da Luz', 'sex': 'F', 'idade': 81},\n",
    " 454248: {'name': 'Sr. Leandro Sales', 'sex': 'M', 'idade': 71},\n",
    " 656414: {'name': 'Benício Campos', 'sex': 'M', 'idade': 93},\n",
    " 740236: {'name': 'Bianca da Rosa', 'sex': 'F', 'idade': 59},\n",
    " 78234: {'name': 'Gabriela Alves', 'sex': 'F', 'idade': 14},\n",
    " 811343: {'name': 'Raul Castro', 'sex': 'M', 'idade': 5},\n",
    " 838719: {'name': 'Srta. Bianca Teixeira', 'sex': 'F', 'idade': 16},\n",
    " 41316: {'name': 'Dra. Marcela Moreira', 'sex': 'F', 'idade': 39},\n",
    " 547931: {'name': 'Daniela Alves', 'sex': 'F', 'idade': 49},\n",
    " 945726: {'name': 'Pedro Lucas Rocha', 'sex': 'M', 'idade': 6},\n",
    " 132689: {'name': 'Enzo Gabriel Melo', 'sex': 'M', 'idade': 110},\n",
    " 368911: {'name': 'Yasmin Silveira', 'sex': 'F', 'idade': 29},\n",
    " 13789: {'name': 'Francisco Carvalho', 'sex': 'M', 'idade': 24},\n",
    " 286652: {'name': 'Vitor Hugo Rezende', 'sex': 'M', 'idade': 16},\n",
    " 696760: {'name': 'Sophia Moreira', 'sex': 'F', 'idade': 44},\n",
    " 5293: {'name': 'André da Paz', 'sex': 'M', 'idade': 71},\n",
    " 452742: {'name': 'Carolina Fogaça', 'sex': 'F', 'idade': 8},\n",
    " 987830: {'name': 'Joaquim Barbosa', 'sex': 'M', 'idade': 18},\n",
    " 219271: {'name': 'Calebe da Mota', 'sex': 'M', 'idade': 95},\n",
    " 583886: {'name': 'Giovanna Ramos', 'sex': 'F', 'idade': 8},\n",
    " 322316: {'name': 'Ana Luiza Cunha', 'sex': 'F', 'idade': 3},\n",
    " 731939: {'name': 'Mirella Costela', 'sex': 'F', 'idade': 76},\n",
    " 396426: {'name': 'Pedro Lucas Freitas', 'sex': 'M', 'idade': 62},\n",
    " 621867: {'name': 'Letícia Santos', 'sex': 'F', 'idade': 14},\n",
    " 147939: {'name': 'Julia Rocha', 'sex': 'F', 'idade': 68},\n",
    " 660287: {'name': 'Sra. Maria Cecília Cavalcanti', 'sex': 'F', 'idade': 66},\n",
    " 680444: {'name': 'Sra. Emanuelly da Mota', 'sex': 'F', 'idade': 93},\n",
    " 790899: {'name': 'Luna Fogaça', 'sex': 'F', 'idade': 100}\n",
    " }\n",
    "[value['name']  for value in cadastros.values() if value['idade'] >= 18]"
   ]
  },
  {
   "cell_type": "code",
   "execution_count": 52,
   "metadata": {},
   "outputs": [
    {
     "data": {
      "text/plain": [
       "[10,\n",
       " 14,\n",
       " 14,\n",
       " 14,\n",
       " 17,\n",
       " 15,\n",
       " 14,\n",
       " 13,\n",
       " 9,\n",
       " 15,\n",
       " 17,\n",
       " 12,\n",
       " 12,\n",
       " 14,\n",
       " 10,\n",
       " 13,\n",
       " 13,\n",
       " 15,\n",
       " 13,\n",
       " 17,\n",
       " 12,\n",
       " 14,\n",
       " 17,\n",
       " 20,\n",
       " 13,\n",
       " 15,\n",
       " 12,\n",
       " 20,\n",
       " 13,\n",
       " 12,\n",
       " 16,\n",
       " 17,\n",
       " 12,\n",
       " 13,\n",
       " 12,\n",
       " 18,\n",
       " 17]"
      ]
     },
     "execution_count": 52,
     "metadata": {},
     "output_type": "execute_result"
    }
   ],
   "source": [
    "nomes = ['Sofia Silva',\n",
    " 'Agatha Ferreira',\n",
    " 'Sra. Sophia Lima',\n",
    " 'Dr. Cauã Costela',\n",
    " 'Carlos Eduardo Melo',\n",
    " 'Ana Beatriz Ramos',\n",
    " 'Camila Silveira',\n",
    " 'Catarina da Paz',\n",
    " 'Laura Melo',\n",
    " 'Valentina Fogaça',\n",
    " 'Eduardo Nascimento',\n",
    " 'Daniel Moraes',\n",
    " 'Maysa Ribeiro',\n",
    " 'Dr. Enzo da Rocha',\n",
    " 'Noah Campos',\n",
    " 'Lavínia Castro',\n",
    " 'Pietra Rezende',\n",
    " 'Ana Beatriz Silva',\n",
    " 'Fernando da Luz',\n",
    " 'Maria Cecília Alves',\n",
    " 'Pietro Aragão',\n",
    " 'Giovanna da Rosa',\n",
    " 'Srta. Mirella Jesus',\n",
    " 'Pedro Henrique Ribeiro',\n",
    " 'Davi Lucca Dias',\n",
    " 'Augusto Oliveira',\n",
    " 'Kaique Mendes',\n",
    " 'Dra. Mirella Gonçalves',\n",
    " 'Helena Barbosa',\n",
    " 'Calebe Farias',\n",
    " 'Gabrielly Cardoso',\n",
    " 'Sr. Kevin Fernandes',\n",
    " 'Kamilly Ramos',\n",
    " 'Cecília da Cruz',\n",
    " 'Pietra Aragão',\n",
    " 'Luiz Gustavo Almeida',\n",
    " 'Letícia Nascimento']\n",
    "\n",
    "[len(''.join(nome.split(' '))) for nome in nomes]"
   ]
  }
 ],
 "metadata": {
  "colab": {
   "authorship_tag": "ABX9TyPumWMDY6pyVM+375M0Q577",
   "collapsed_sections": [],
   "provenance": []
  },
  "kernelspec": {
   "display_name": "Python 3 (ipykernel)",
   "language": "python",
   "name": "python3"
  },
  "language_info": {
   "codemirror_mode": {
    "name": "ipython",
    "version": 3
   },
   "file_extension": ".py",
   "mimetype": "text/x-python",
   "name": "python",
   "nbconvert_exporter": "python",
   "pygments_lexer": "ipython3",
   "version": "3.8.10"
  }
 },
 "nbformat": 4,
 "nbformat_minor": 4
}
