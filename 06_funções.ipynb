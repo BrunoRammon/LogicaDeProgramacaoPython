{
 "cells": [
  {
   "cell_type": "markdown",
   "metadata": {
    "id": "JLVg-HslLTOJ",
    "jp-MarkdownHeadingCollapsed": true,
    "tags": []
   },
   "source": [
    "# Funções\n",
    "Imagine que você fez um programinha para gerar estatísticas sobre vários dados dos funcionários: média dos salários, média de vendas, média de _feedback_ positivo, média de _feedback_ negativo, média de notas atribuídas pelos gestores... Você tem uma lista com os salários, uma lista com o total de vendas de cada funcionário, e assim sucessivamente. Então você fez o seguinte trecho de código:"
   ]
  },
  {
   "cell_type": "code",
   "execution_count": null,
   "metadata": {
    "id": "ekvzDsEUL2Vh"
   },
   "outputs": [],
   "source": [
    "soma = 0\n",
    "for elemento in lista:\n",
    "\tsoma = elemento\n",
    "media = soma/len(lista)"
   ]
  },
  {
   "cell_type": "markdown",
   "metadata": {
    "id": "ctZGwORBL6ZH"
   },
   "source": [
    "Em seguida, você copiou e colou esse trecho de código várias vezes mudando \"lista\" pelo nome de cada lista individual, e \"media\" pelo nome do atributo. Trabalhoso, certo? Imagine que agora você percebeu o erro no trecho acima, e terá que sair corrigindo em todos os lugares onde colou o código errado. Imagina que conveniente se você pudesse arrumar apenas uma vez e todas as ocorrências fossem corrigidas automaticamente...\n",
    "\n",
    "Uma função é um pedacinho de programa. Nós podemos dar um nome para nossa função, e toda vez que precisarmos que esse pedacinho de programa seja executado, nós o chamamos pelo nome. \n",
    "\n",
    "Com isso, podemos evitar repetição de código, tornando nossos códigos mais enxutos e legíveis. Além disso, fica mais fácil corrigir problemas como o ilustrado no início deste capítulo.\n",
    "\n",
    "## Criando funções\n",
    "Em Python, podemos criar funções com o comando _def_, e em seguida damos um nome para nossa função."
   ]
  },
  {
   "cell_type": "code",
   "execution_count": null,
   "metadata": {
    "id": "_gduiOliMFZo"
   },
   "outputs": [],
   "source": [
    "def minha_primeira_funcao():\n",
    "\tprint('Olá Mundo')"
   ]
  },
  {
   "cell_type": "markdown",
   "metadata": {
    "id": "vy9N2_xkMJGL"
   },
   "source": [
    "Se você executar o código acima, o que aparecerá na tela? Nada. Tudo que o código acima faz é **definir** *minha_primeira_funcao*, mas ela só será **executada** quando for chamada pelo nome."
   ]
  },
  {
   "cell_type": "code",
   "execution_count": null,
   "metadata": {
    "id": "kh0wO7MGMQYO"
   },
   "outputs": [],
   "source": [
    "# criando a função\n",
    "def minha_primeira_funcao():\n",
    "\tprint('Olá Mundo')\n",
    "\n",
    "# o programa começa de verdade aqui:\n",
    "minha_primeira_funcao() # chamada para a função"
   ]
  },
  {
   "cell_type": "markdown",
   "metadata": {
    "id": "CmHL-eUEMVEP"
   },
   "source": [
    "Quando **chamamos** uma função, a execução do programa principal é pausada, o fluxo de execução é desviado para a função, e ao final dela ele retornará para o ponto onde parou. Veja o exemplo abaixo:"
   ]
  },
  {
   "cell_type": "code",
   "execution_count": null,
   "metadata": {
    "id": "69QX8C83MX4S"
   },
   "outputs": [],
   "source": [
    "# criando a função\n",
    "def minha_primeira_funcao():\n",
    "\tprint('Olá Mundo')\n",
    "\n",
    "# o programa começa de verdade aqui:\n",
    "print('aaa')\n",
    "minha_primeira_funcao() # chamada para a função\n",
    "print('bbb')"
   ]
  },
  {
   "cell_type": "markdown",
   "metadata": {
    "id": "qhTsz4BdMcWe"
   },
   "source": [
    "### Parâmetros de uma função\n",
    "Nossas funções devem ser tão genéricas quanto possível se quisermos reaproveitá-las ao máximo. \n",
    "\n",
    "Um dos pontos onde devemos tomar cuidado é na entrada de dados da função: se usarmos um _input_ dentro da função, teremos uma função que resolverá um certo problema _desde que o usuário vá digitar os dados do problema_. Mas e se quisermos usar a função em um trecho do programa onde o usuário digita os dados e em outro ponto onde os dados são lidos de um arquivo?\n",
    "\n",
    "Podemos resolver isso fazendo a leitura de dados no programa principal, fora de nossa função, e então **passaremos** os dados para a função. Dados passados para a função são chamados de _parâmetros_ ou _argumentos_ de uma função. Observe o exemplo abaixo:"
   ]
  },
  {
   "cell_type": "code",
   "execution_count": null,
   "metadata": {
    "id": "iCuy7Z4UMjOH"
   },
   "outputs": [],
   "source": [
    "def soma(a, b):\n",
    "\tresultado = a + b\n",
    "\tprint(resultado)\n",
    "\n",
    "soma(3, 2) # resultado na tela: 5\n",
    "soma(4, 7) # resultado na tela: 11\n",
    "x = 5\n",
    "soma(10, x) # resultado na tela: 15"
   ]
  },
  {
   "cell_type": "markdown",
   "metadata": {
    "id": "2IP9U9WhMnFe"
   },
   "source": [
    "Quando colocamos \"a\" e \"b\" entre parênteses na criação da função, estamos especificando que a função recebe 2 parâmetros. O primeiro valor que for **passado** entre parênteses para nossa função será referenciado por \"a\" e o segundo será referenciado por \"b\". É como se \"a\" e \"b\" fossem variáveis que vão receber a cópia dos valores passados para a função. Note que podemos passar valores puros ou variáveis (como fizemos com \"x\" na última linha), e não precisamos criar variáveis \"a\" e \"b\" em nosso programa principal para \"casar\" com os parâmetros da função.\n",
    "\n",
    "### Retorno de uma função\n",
    "Certas funções possuem uma \"resposta\": elas resolvem um problema (por exemplo, uma equação matemática) e nós estamos interessados no resultado. No exemplo anterior, tínhamos uma soma e nós imprimíamos a soma na tela.\n",
    "\n",
    "Porém, ainda pensando na questão da função ser genérica: será que nós sempre queremos o resultado na tela? Imagine que você esteja utilizando a fórmula de Bháskara para resolver uma equação de segundo grau. No meio da fórmula existe uma raiz quadrada. Nós não queremos o resultado da raiz quadrada na tela, nós queremos o resultado dentro do nosso programa em uma variável para jogar em outra equação.\n",
    "\n",
    "Bom, parece fácil: vamos tentar pegar o resultado fora da função... Certo?"
   ]
  },
  {
   "cell_type": "code",
   "execution_count": null,
   "metadata": {
    "id": "ymWb8bQZMqV9"
   },
   "outputs": [],
   "source": [
    "def soma(a, b):\n",
    "\tresultado = a + b\n",
    "\n",
    "media = resultado/2\n",
    "print(media)"
   ]
  },
  {
   "cell_type": "markdown",
   "metadata": {
    "id": "bqybJTgtM1Xo"
   },
   "source": [
    "Se você executar o programa acima, verá uma mensagem de erro dizendo que \"resultado\" não existe. Toda variável criada dentro de uma função é **privada**. Ela só pode ser acessada dentro da função e será destruída ao final da execução da função. Para disponibilizar para o programa um valor que foi gerado dentro da função, utilizamos o comando _return_."
   ]
  },
  {
   "cell_type": "code",
   "execution_count": null,
   "metadata": {
    "id": "M2T0KN4VM0hT"
   },
   "outputs": [],
   "source": [
    "def soma(a, b):\n",
    "\tresultado = a + b\n",
    "\treturn resultado\n",
    "\n",
    "s = soma(10, 5)\n",
    "media = s/2\n",
    "print(media)"
   ]
  },
  {
   "cell_type": "markdown",
   "metadata": {
    "id": "_Yd0z5EyM7gi"
   },
   "source": [
    "Quando fizemos ```s = soma(10, 5)```, a função _soma_ foi chamada, e ao final da execução, _s_ recebeu o valor retornado por ela. Deste ponto em diante podemos utilizar a \"resposta\" da nossa função em nosso programa principal.\n",
    "> O _return_, além de disponibilizar um valor, **encerra** a execução da função. Se a sua função possuir outras linhas após o _return_, elas serão ignoradas.\n",
    "\n",
    "## Recursividade\n",
    "Uma função pode chamar outra função? Sim. Rode o programa abaixo e observe que ele funciona:"
   ]
  },
  {
   "cell_type": "code",
   "execution_count": null,
   "metadata": {
    "id": "1He2YXSRM62d"
   },
   "outputs": [],
   "source": [
    "def soma(a, b):\n",
    "\tresultado = a + b\n",
    "\treturn resultado\n",
    "\n",
    "def media(x, y):\n",
    "\ts = soma(x, y)\n",
    "\tresultado = s/2\n",
    "\treturn resultado\n",
    "\n",
    "m = media(10, 5)\n",
    "print(m)"
   ]
  },
  {
   "cell_type": "markdown",
   "metadata": {
    "id": "_dfQc_tkNDGW"
   },
   "source": [
    "Mas e se uma função referenciasse ela mesma? Isso também funciona, e chama-se **função recursiva**, ou **recursão**. \n",
    "\n",
    "A ideia vem da matemática. Vejamos um exemplo. Considere a função fatorial. O fatorial de um número n qualquer é igual ao produto entre n e todos os seus antecessores inteiros positivos: n! = n x (n-1) x (n-2) x ... x 2 x 1. \n",
    "\n",
    "Considere o fatorial de 5:\n",
    "5! = 5x**4x3x2x1**\n",
    "\n",
    "Pense agora no fatorial de 4:\n",
    "4! = 4x3x2x1\n",
    "\n",
    "Note que temos destacado em negrito a expressão completa do fatorial de 4 dentro do fatorial de 5. Então é possível reescrecer o fatorial de 5 em função do fatorial de 4:\n",
    "\n",
    "5! = 5x(4!)\n",
    "\n",
    "Porém, dentro do fatorial de 4, temos o fatorial de 3, e assim sucessivamente. Podemos generalizar da seguinte maneira:\n",
    "\n",
    "f(n) = \n",
    "* 1, se n = 1\n",
    "* n * f(n-1), se x > 1\n",
    "\n",
    "Ou seja, imagine que você queira calcular f(4). Como 4 > 1, teremos:\n",
    "f(4) = 4 * f(3)\n",
    "\n",
    "Precisamos expandir f(3):\n",
    "f(4) = 4 * (3 * f(2))\n",
    "\n",
    "E assim sucessivamente:\n",
    "f(4) = 4 * (3 * (2 * f(1)))\n",
    "\n",
    "Opa, f(1) nós conhecemos: está definido lá em cima como 1.\n",
    "Portanto:\n",
    "f(4) = 4 * 3 * 2 * 1\n",
    "f(4) = 24\n",
    "\n",
    "Note que nós decompomos um problema em várias instâncias \"menores\" do problema. Quebramos a formulação de uma multiplicação enorme por vários casos de n x f(n-1). Chamamos essa estratégia de _dividir para conquistar_, e ela envolve identificar 2 etapas bastante claras do problema:\n",
    "* Caso base: é um caso para o qual temos um valor conhecido (no exemplo acima, f(1) = 1)\n",
    "* Caso geral: é a chamada recursiva, onde faremos referência à própria função. \n",
    "\n",
    "Note também que esse comportamento tem o comportamento de _pilha_: se colocamos 3 pratos empilhados sobre a mesa, precisamos tirar primeiro o último que colocamos, certo? Caso contrário, a pilha toda tomba. No caso da recursão, para obter f(4) caímos em f(3), depois f(2), depois f(1), depois f(0) e foi para ele que obtivemos a primeira resposta, que em seguida usamos para calcular f(1), depois calcular f(2), depois f(3) e só então chegamos em f(4). O primeiro passo do problema foi o último a ser resolvido.\n",
    "\n",
    "Em Python, nossa função ficaria assim:"
   ]
  },
  {
   "cell_type": "code",
   "execution_count": null,
   "metadata": {
    "id": "Ff-tEWb9NeFT"
   },
   "outputs": [],
   "source": [
    "def fatorial(n):\n",
    "\tif n == 1:\n",
    "\t\treturn 1\n",
    "\telse:\n",
    "\t\treturn n * fatorial (n-1)"
   ]
  },
  {
   "cell_type": "markdown",
   "metadata": {
    "id": "md5VRUkSNn1b"
   },
   "source": [
    "Se chamarmos ```fatorial(4)```, o que acontecerá? O programa começará a executar a função, cairá no _else_ e encontrará a função chamada novamente. Neste caso, ele salva x valendo 4 e salva que a execução foi interrompida nessa linha. Então ele cria um **novo** x valendo 3, cai novamente no _else_ e salva que a execução foi interrompida nessa linha, e assim sucessivamente. \n",
    ">Note que para cada passo recursivo, as variáveis da função são copiadas e também é salvo o ponto onde a execução parou. Ou seja, funções recursivas podem consumir **bastante** memória, além de tempo de processamento para ficar criando cópias. \n",
    ">A vantagem delas é o rigor matemático: podemos transcrever funções matemáticas quase exatamente como elas são, sem criar _loops_ e variáveis para ficar guardando estados.\n",
    "\n",
    "## Documentando funções\n",
    "\n",
    "### _Type hints_\n",
    "O Python utiliza uma abordagem para tipos conhecida como _duck typing_, que é baseada no ditado \"_if it walks like a duck and it quacks like a duck, it's a duck_\", que pode ser traduzido como \"_se ele anda como um pato e grasna como um pato, ele é um pato_\". \n",
    "\n",
    "Isso significa que o Python não se importa muito com o tipo de variáveis. Nossa função soma recebe dois parâmetros e aplica o operador \"+\" entre eles. A gente pode até ter pensado em número ao criar essa função, mas o operador + também funciona entre 2 strings. Ou seja, se alguém chamar ```soma('olá', 'mundo')```, a função irá funcionar.\n",
    "\n",
    "Nem sempre esse comportamento é desejável. Muitas vezes bolamos nossa função com tipos específicos em mente, e a possibilidade de outros tipos serem passados cria o risco da função não executar corretamente, ou de retornar algum tipo de dado que pode causar problemas na integração com outros sistemas.\n",
    "\n",
    "Para evitar esse tipo de problema existe o conceito de _type hint_, onde nós podemos deixar anotado em nossas funções o tipo esperado de cada parâmetro e do retorno. Utilizaremos dois pontos entre o nome do parâmetro e o tipo esperado, e uma setinha após os parênteses para indicar o tipo de retorno:\n"
   ]
  },
  {
   "cell_type": "code",
   "execution_count": null,
   "metadata": {
    "id": "9aBTTu8CNnLe"
   },
   "outputs": [],
   "source": [
    "def soma(a:int, b:int) -> int:\n",
    "\tresultado = a + b\n",
    "\treturn resultado"
   ]
  },
  {
   "cell_type": "markdown",
   "metadata": {
    "id": "72PH_mpYNsNV"
   },
   "source": [
    "Note que **ainda** é possível passar *float*, *str* ou outros tipos para a função, e nesses casos ela também retornará outros tipos. Porém, as *type hints* são uma espécie de anotação, e sempre que um programador começar a digitar uma chamada para essa função, as IDEs mais modernas irão destacar para o programador quais tipos ele **deveria** passar e quais tipos ele **deveria** esperar como retorno.\n",
    "\n",
    "É possível também especificar que uma função não retorna nada:"
   ]
  },
  {
   "cell_type": "code",
   "execution_count": null,
   "metadata": {
    "id": "xzfcgAcyNvrq"
   },
   "outputs": [],
   "source": [
    "def ola_mundo() -> None:\n",
    "\tprint('Olá mundo!')"
   ]
  },
  {
   "cell_type": "markdown",
   "metadata": {
    "id": "KLFWV8MIN0e5"
   },
   "source": [
    "Quando tentamos pegar o retorno de uma função que não retorna nada (ex: ```x = ola_mundo()```), o programa não dará erro. Ele apenas irá armazenar na variável a constante _None_, que é um valor especial em Python que representa justamente a ausência de valor. Uma variável contendo _None_ é uma variável que existe mas não possui valor atribuído. Dessa maneira, ao anotarmos que nossa função \"retorna _None_\", estamos na prática documentando que ela não apresenta retorno.\n",
    "\n",
    "Caso você queira que algum parâmetro ou o retorno seja uma coleção (ex: uma lista), basta utilizar o tipo correspondente à coleção. Porém, não é possível especificar que deve ser uma lista de strings ou uma lista de int, por exemplo, mas simplesmente uma lista."
   ]
  },
  {
   "cell_type": "code",
   "execution_count": null,
   "metadata": {
    "id": "uSQJRyruNzuV"
   },
   "outputs": [],
   "source": [
    "def somatorio(numeros:list) -> int:\n",
    "\tsoma = 0\n",
    "\tfor n in numeros:\n",
    "\t\tsoma += n\n",
    "\treturn soma"
   ]
  },
  {
   "cell_type": "markdown",
   "metadata": {
    "id": "7lcz0t5rN5L6"
   },
   "source": [
    "A partir da versão **3.10** do Python é possível utilizar o operador _pipe_ (a barra vertical: **|**) com o efeito de \"ou\" para indicar que mais de um tipo é permitido. A função abaixo recebe uma lista e promete que pode retornar int ou float:"
   ]
  },
  {
   "cell_type": "code",
   "execution_count": null,
   "metadata": {
    "id": "1Te2XPkDN879"
   },
   "outputs": [],
   "source": [
    "def somatorio(numeros:list) -> int | float:\n",
    "\tsoma = 0\n",
    "\tfor n in numeros:\n",
    "\t\tsoma += n\n",
    "\treturn soma"
   ]
  },
  {
   "cell_type": "markdown",
   "metadata": {
    "id": "6bRxPMo0N_ob"
   },
   "source": [
    "### _Docstrings_\n",
    "Além das _type hints_, podemos também escrever comentários especiais explicando o que as nossas funções fazem. IDEs modernas são capazes de identificar esses comentários e exibi-los em um popup na tela para o programador que irá usar a função. Esses comentários são chamados de _docstrings_.\n",
    "\n",
    "Para criar uma _docstring_, a primeira linha da sua função deve ser uma string envolta em 3 aspas simples ou duplas:"
   ]
  },
  {
   "cell_type": "code",
   "execution_count": null,
   "metadata": {
    "id": "ygnAPdUxN--4"
   },
   "outputs": [],
   "source": [
    "def somatorio(numeros:list) -> int:\n",
    "  '''Recebe uma lista de números e retorna a soma de todos eles'''\n",
    "  soma = 0\n",
    "  for n in numeros:\n",
    "    soma += n\n",
    "  return soma"
   ]
  },
  {
   "cell_type": "markdown",
   "metadata": {
    "id": "_HxDN11SOQn1"
   },
   "source": [
    "Experimente executar a célula acima e em seguida começar a digitar uma chamada para a função em outra célula."
   ]
  },
  {
   "cell_type": "code",
   "execution_count": null,
   "metadata": {
    "id": "Y3cxssg_OZaA"
   },
   "outputs": [],
   "source": [
    "# experimente digitar o nome da função aqui"
   ]
  },
  {
   "cell_type": "markdown",
   "metadata": {
    "id": "T0rP7q_kOrY7"
   },
   "source": [
    "# Exercícios\n",
    "\n",
    "### Nenhum exercício cobrará isso especificamente, mas pratique o uso de type hints e docstrings em suas funções!\n",
    "### A maioria dos exercícios irá pedir apenas uma função. Para verificar se ela funciona, escreva também um pedacinho de programa que a chame e providencie os dados necessários para ela.\n",
    "### Muita atenção aos enunciados: \"recebe\" geralmente significa parâmetro, e \"retorna\" significa retorno. \n",
    "\n",
    "---\n",
    "\n",
    "\n",
    "Faça uma função que lê o nome do usuário do teclado e imprime \"Olá, [nome]\" na tela."
   ]
  },
  {
   "cell_type": "code",
   "execution_count": 6,
   "metadata": {
    "id": "LPhxZNtjP6ST"
   },
   "outputs": [
    {
     "name": "stdout",
     "output_type": "stream",
     "text": [
      "Informe o nome do usuário: Bruno\n",
      "Olá, Bruno\n"
     ]
    }
   ],
   "source": [
    "def greetings():\n",
    "    username = input('Informe o nome do usuário: ')\n",
    "    print(f'Olá, {username}')\n",
    "greetings()"
   ]
  },
  {
   "cell_type": "markdown",
   "metadata": {
    "id": "apzQz1M3P9sL"
   },
   "source": [
    "Faça uma função que recebe um nome e imprime \"Olá, [nome]\" na tela."
   ]
  },
  {
   "cell_type": "code",
   "execution_count": 9,
   "metadata": {
    "id": "bKtTcN9gQBCQ"
   },
   "outputs": [
    {
     "name": "stdout",
     "output_type": "stream",
     "text": [
      "Olá, Bruno\n"
     ]
    }
   ],
   "source": [
    "def greetings(username: str):\n",
    "    print(f'Olá, {username}')\n",
    "greetings('Bruno')"
   ]
  },
  {
   "cell_type": "markdown",
   "metadata": {
    "id": "yNtgkGrxQBQT"
   },
   "source": [
    "Faça uma função que recebe um nome e retorna a string \"Olá, [nome]\"."
   ]
  },
  {
   "cell_type": "code",
   "execution_count": 8,
   "metadata": {
    "id": "6lhNot_tQF82"
   },
   "outputs": [
    {
     "data": {
      "text/plain": [
       "'Olá, Bruno'"
      ]
     },
     "execution_count": 8,
     "metadata": {},
     "output_type": "execute_result"
    }
   ],
   "source": [
    "def greetings(username: str) -> str:\n",
    "    return f'Olá, {username}'\n",
    "greetings('Bruno')"
   ]
  },
  {
   "cell_type": "markdown",
   "metadata": {
    "id": "41oTn2nNQGQE"
   },
   "source": [
    "Faça uma função que recebe um nome e um horário (considere apenas hora, sem minutos ou segundos). Sua função deverá retornar a string:\n",
    "\n",
    "* \"Bom dia, [nome]\" se a hora for inferior a 12.\n",
    "* \"Boa tarde, [nome]\" se a hora for pelo menos 12 e inferior a 18.\n",
    "* \"Boa noite, [nome]\" se a hora for igual ou superior a 18."
   ]
  },
  {
   "cell_type": "code",
   "execution_count": 13,
   "metadata": {
    "id": "nInKm2AQQnSJ"
   },
   "outputs": [
    {
     "data": {
      "text/plain": [
       "'Boa tarde, Bruno'"
      ]
     },
     "execution_count": 13,
     "metadata": {},
     "output_type": "execute_result"
    }
   ],
   "source": [
    "def greetings(name,hour):\n",
    "    if hour < 12:\n",
    "        return f'Bom dia, {name}'\n",
    "    elif hour >= 12 and hour < 18 :\n",
    "        return f'Boa tarde, {name}'\n",
    "    else:\n",
    "        return f'Boa noite, {name}'\n",
    "greetings('Bruno', 17)"
   ]
  },
  {
   "cell_type": "markdown",
   "metadata": {
    "id": "CC1I-McRQnjh"
   },
   "source": [
    "Faça uma função que recebe uma temperatura em graus celsius e retorna a temperatura equivalente em fahrenheit."
   ]
  },
  {
   "cell_type": "code",
   "execution_count": 17,
   "metadata": {
    "id": "68emXWwpQt2q"
   },
   "outputs": [
    {
     "data": {
      "text/plain": [
       "99.86"
      ]
     },
     "execution_count": 17,
     "metadata": {},
     "output_type": "execute_result"
    }
   ],
   "source": [
    "def convert_celsius_fahrenheit(temp):\n",
    "    return  (9*temp + 5*32)/5\n",
    "convert_celsius_fahrenheit(37.7)"
   ]
  },
  {
   "cell_type": "markdown",
   "metadata": {
    "id": "gM-HBCNqQuEg"
   },
   "source": [
    "Modifique a função anterior adicionando um parâmetro booleano \"inverso\". Caso ele receba \"True\", a função irá considerar que a temperatura recebida já está em fahrenheit e deverá retorná-la convertida para celsius."
   ]
  },
  {
   "cell_type": "code",
   "execution_count": 19,
   "metadata": {
    "id": "SM-s6mmyQ4Lv"
   },
   "outputs": [
    {
     "data": {
      "text/plain": [
       "37.77777777777778"
      ]
     },
     "execution_count": 19,
     "metadata": {},
     "output_type": "execute_result"
    }
   ],
   "source": [
    "def convert_celsius_fahrenheit(temp, inverse):\n",
    "    if inverse:\n",
    "        return (temp-32)/1.8\n",
    "    return temp * 1.8 + 32\n",
    "convert_celsius_fahrenheit(100,True)"
   ]
  },
  {
   "cell_type": "markdown",
   "metadata": {
    "id": "1z8PqSrVQ4vL"
   },
   "source": [
    "Modifique a função anterior adicionando mais um parâmetro booleano \"absoluto\". Caso ele seja True:\n",
    "\n",
    "\n",
    "*   Se inverso for True, ele retornará a resposta em kelvin ao invés de celsius.\n",
    "*   Se inverso for False, ele irá considerar a temperatura passada como parâmetro como sendo kelvin ao invés de celsius. O retorno ainda será em fahrenheit.\n",
    "\n"
   ]
  },
  {
   "cell_type": "code",
   "execution_count": 25,
   "metadata": {
    "id": "fsKyERFGRSKT"
   },
   "outputs": [
    {
     "data": {
      "text/plain": [
       "273.0"
      ]
     },
     "execution_count": 25,
     "metadata": {},
     "output_type": "execute_result"
    }
   ],
   "source": [
    "def convert_celsius_fahrenheit_kelvin(temp, inverse = False, absolute = False):\n",
    "    if inverse:\n",
    "        if absolute:\n",
    "            return (temp-32)/1.8 + 273\n",
    "        else:\n",
    "            return (temp-32)/1.8\n",
    "    else:\n",
    "        if absolute:\n",
    "            return temp + 273\n",
    "        else:\n",
    "            return (temp * 1.8 + 32)\n",
    "            \n",
    "\n",
    "convert_celsius_fahrenheit_kelvin(32,True,True)"
   ]
  },
  {
   "cell_type": "markdown",
   "metadata": {
    "id": "BnSEaVp_RSjB"
   },
   "source": [
    "Faça uma função que recebe um número \"n\" e retorna o fatorial de n utilizando loop."
   ]
  },
  {
   "cell_type": "code",
   "execution_count": 28,
   "metadata": {
    "id": "q5zbD5mPRqup"
   },
   "outputs": [
    {
     "data": {
      "text/plain": [
       "1"
      ]
     },
     "execution_count": 28,
     "metadata": {},
     "output_type": "execute_result"
    }
   ],
   "source": [
    "def fatorial(n):\n",
    "    product = 1\n",
    "    for i in range(2,n+1):\n",
    "        product *= i\n",
    "    return product\n",
    "fatorial(0)\n",
    "        "
   ]
  },
  {
   "cell_type": "markdown",
   "metadata": {
    "id": "c84DeCSYRq_u"
   },
   "source": [
    "Faça uma função que recebe um número \"n\" e retorna o fatorial de n utilizando recursão."
   ]
  },
  {
   "cell_type": "code",
   "execution_count": 36,
   "metadata": {
    "id": "8VBjbi-tRuZP"
   },
   "outputs": [
    {
     "data": {
      "text/plain": [
       "120"
      ]
     },
     "execution_count": 36,
     "metadata": {},
     "output_type": "execute_result"
    }
   ],
   "source": [
    "def fatorial_rec(n):\n",
    "    if n <= 1:\n",
    "        return 1\n",
    "    return n * fatorial_rec(n-1)\n",
    "fatorial_rec(5)"
   ]
  },
  {
   "cell_type": "markdown",
   "metadata": {
    "id": "iC_4g6a4RvBh"
   },
   "source": [
    "Algumas linguagens oferecem um recurso chamado de **tail recursion**, ou **recursão de cauda**. Nelas, o resultado de chamadas recursivas recentes é temporariamente armazenado e pode ser reutilizado em outras chamadas. O Python **NÃO** possui recursão de cauda nativamente, mas é possível manipularmos os parâmetros de nossas funções para obter esse tipo de recursão na prática.\n",
    "\n",
    "Isso é útil para evitar que valores já calculados previamente sejam recalculados (muitas vezes em uma mesma chamada inicial da função).\n",
    "\n",
    "Modifique sua função fatorial recursiva para incluir uma estrutura de dados conveniente que preserve os valores já calculados. Em chamadas futuras, ela deverá verificar se um valor já existe antes de calculá-lo.\n"
   ]
  },
  {
   "cell_type": "code",
   "execution_count": 75,
   "metadata": {},
   "outputs": [],
   "source": [
    "tail_list = [1]"
   ]
  },
  {
   "cell_type": "code",
   "execution_count": 76,
   "metadata": {
    "id": "Xi6IyeG-SJPC"
   },
   "outputs": [],
   "source": [
    "def fatorial_tail_rec(n):\n",
    "    if n == len(tail_list):\n",
    "        return tail_list[n-1]\n",
    "    else:\n",
    "        fatorial = n * fatorial_tail_rec(n-1)\n",
    "        tail_list.append(fatorial)\n",
    "        print(tail_list)\n",
    "        return fatorial\n",
    "\n",
    "#     return n * fatorial_tail_rec(n-1)\n"
   ]
  },
  {
   "cell_type": "code",
   "execution_count": 77,
   "metadata": {},
   "outputs": [
    {
     "name": "stdout",
     "output_type": "stream",
     "text": [
      "[1, 2]\n",
      "[1, 2, 6]\n",
      "[1, 2, 6, 24]\n",
      "[1, 2, 6, 24, 120]\n"
     ]
    },
    {
     "data": {
      "text/plain": [
       "120"
      ]
     },
     "execution_count": 77,
     "metadata": {},
     "output_type": "execute_result"
    }
   ],
   "source": [
    "fatorial_tail_rec(5)"
   ]
  },
  {
   "cell_type": "markdown",
   "metadata": {
    "id": "O50SyrO3UAKn"
   },
   "source": [
    "Faça uma função que recebe 2 valores: uma base e um expoente. Sua função deverá calcular o resultado da exponenciação de maneira **recursiva**, sem utilizar o operador `**`."
   ]
  },
  {
   "cell_type": "code",
   "execution_count": 84,
   "metadata": {
    "id": "7JCVjJJzUG6j"
   },
   "outputs": [
    {
     "data": {
      "text/plain": [
       "1"
      ]
     },
     "execution_count": 84,
     "metadata": {},
     "output_type": "execute_result"
    }
   ],
   "source": [
    "def exp(base,expoent):\n",
    "    if expoent == 0 and base == 0:\n",
    "        return 0\n",
    "    if expoent == 0 and base != 0:\n",
    "        return 1\n",
    "    if expoent ==  1:\n",
    "        return base \n",
    "    return base * exp(base,expoent-1)\n",
    "exp(1,5)"
   ]
  },
  {
   "cell_type": "markdown",
   "metadata": {
    "id": "HRX9lMalSJhC"
   },
   "source": [
    "Faça uma função que recebe um número n e retorna o n-ésimo termo de Fibonacci de maneira recursiva."
   ]
  },
  {
   "cell_type": "code",
   "execution_count": null,
   "metadata": {
    "id": "WK9Y1KtjSQM7"
   },
   "outputs": [],
   "source": []
  },
  {
   "cell_type": "markdown",
   "metadata": {
    "id": "Zq0mi7pZSQqI"
   },
   "source": [
    "Modifique sua função anterior para evitar que termos repetidos sejam recalculados. \n",
    "\n",
    "Ex: ao calcular F(6), a função será decomposta em F(5) + F(4). Porém, para calcular F(5), teremos F(4) + F(3), ou seja, F(4) aparece 2 vezes. Ele deverá ser *calculado* apenas uma vez."
   ]
  },
  {
   "cell_type": "code",
   "execution_count": null,
   "metadata": {
    "id": "O7x-7LrhSluD"
   },
   "outputs": [],
   "source": []
  },
  {
   "cell_type": "markdown",
   "metadata": {
    "id": "hMu9oBG1SmZr"
   },
   "source": [
    "Faça uma função que recebe uma lista de números. Sua função deverá calcular e retornar, nesta ordem:\n",
    "\n",
    "\n",
    "*   o valor mínimo\n",
    "*   a média\n",
    "*   a mediana\n",
    "*   a moda\n",
    "*   o desvio padrão\n",
    "*   o valor máximo\n",
    "\n",
    "De modo que ela possa ser chamada da seguinte maneira:\n",
    "\n",
    "`minimo, media, mediana, moda, dp, maximo = estatistica(numeros)`\n",
    "\n"
   ]
  },
  {
   "cell_type": "code",
   "execution_count": null,
   "metadata": {
    "id": "ohC8rsz-TJzE"
   },
   "outputs": [],
   "source": []
  },
  {
   "cell_type": "markdown",
   "metadata": {
    "id": "vawFINb-TPXR"
   },
   "source": [
    "Reescreva seu exercício de **validação de e-mail** da aula de strings. Você irá criar uma função chamada `valida_email`, que deverá retornar True ou False, onde True indica e-mail válido.\n",
    "\n",
    "Você pode, opcionalmente, criar outras funções que serão chamadas a partir dela. Aproveite as facilidades de função para escrever um código mais enxuto e sem diversos condicionais aninhados."
   ]
  },
  {
   "cell_type": "code",
   "execution_count": null,
   "metadata": {
    "id": "-2nwETwhTj8H"
   },
   "outputs": [],
   "source": []
  },
  {
   "cell_type": "markdown",
   "metadata": {
    "id": "OwhtKn4mTkcc"
   },
   "source": [
    "Reescreva seu exercício de **tabela Price** da aula de listas utilizando funções. \n",
    "\n",
    "Crie, pelo menos, 1 função para realizar a leitura (e validação) dos valores iniciais para calcular a tabela, 1 para montar a tabela, 1 para interagir com o usuário verificando quais meses consultar, 1 para formatar os dados que serão exibidos para o usuário e 1 para realizar a consulta na tabela. Você pode criar outras funções se achar conveniente."
   ]
  },
  {
   "cell_type": "code",
   "execution_count": 97,
   "metadata": {
    "id": "ACEPSpVGT6hr"
   },
   "outputs": [],
   "source": [
    "# debit_balance = int(input('Valor de empréstimo: '))\n",
    "# n_months = int(input('Quantidade de meses do investimento: '))\n",
    "# interest_rate = int(input(f'Taxa de juros (% a.m.): '))/100\n",
    "\n",
    "\n",
    "# installment = debit_balance * ((1+interest_rate)**n_months*interest_rate)/((1+interest_rate)**n_months-1)\n",
    "\n",
    "# data_price = []\n",
    "# for i in range(n_months):\n",
    "#     interest_value = debit_balance * interest_rate\n",
    "#     amortization = installment - interest_value\n",
    "#     debit_balance -= amortization\n",
    "#     data_price.append([interest_value, amortization, installment, debit_balance])\n",
    "    \n",
    "# queried_month = 1\n",
    "# while queried_month > 0:\n",
    "#     queried_month = int(input('Qual o mês que você deseja saber as informações do empréstimo? '))\n",
    "    \n",
    "#     if queried_month > n_months:\n",
    "#         print(f'O mês {queried_month} não existe pois o empréstimo é pago em {n_months} prestações.')\n",
    "#         break\n",
    "#     if queried_month > 0:\n",
    "#         index = queried_month -1 \n",
    "#         print(f'Parcela {index+1:02d}: J: R${data_price[index][0]:.2f} | A: R${data_price[index][1]:.2f} | Pgto: R${data_price[index][2]:.2f} | Deve: R${data_price[index][3]:.2f}')\n",
    "\n",
    "def reading_initial_values():\n",
    "    debit_balance = float(input('Valor de empréstimo: '))\n",
    "    n_months = int(input('Quantidade de meses do investimento: '))\n",
    "    interest_rate = float(input(f'Taxa de juros (% a.m.): '))/100\n",
    "    return (debit_balance,n_months,interest_rate)\n",
    "\n",
    "\n",
    "def construct_loan_table_price(debit_balance,n_months,interest_rate):\n",
    "    data_table = []\n",
    "    installment = debit_balance * ((1+interest_rate)**n_months*interest_rate)/((1+interest_rate)**n_months-1)\n",
    "    \n",
    "    interest_values = []\n",
    "    amortizations = []\n",
    "    debit_balances = [debit_balance]\n",
    "    installments = []\n",
    "    for i in range(n_months):\n",
    "        interest_values.append(debit_balances[-1] * interest_rate)\n",
    "        amortizations.append(installment - interest_values[-1])\n",
    "        debit_balances.append(debit_balances[-1] - amortizations[-1])\n",
    "        installments.append(installment)\n",
    "    debit_balances.pop(0)\n",
    "    data_table = [interest_values,amortizations,installments,debit_balances]\n",
    "    return data_table\n",
    "\n",
    "def compute_current_debit(n_months,month,interest_rate,installment):\n",
    "    n = n_months - month \n",
    "    return installment*((1+interest_rate)**n-1)/((1+interest_rate)**n*interest_rate)\n",
    "    \n",
    "def compute_price_month(loan,n_months,month,interest_rate):\n",
    "    installment = loan * ((1+interest_rate)**n_months*interest_rate)/((1+interest_rate)**n_months-1)\n",
    "    amortization1 = installment - loan*interest_rate\n",
    "    amortization_month = amortization1*(1+interest_rate)**(month-1)\n",
    "    current_debit = compute_current_debit(n_months,month,interest_rate,installment)\n",
    "    previous_debit = compute_current_debit(n_months,month-1,interest_rate,installment)\n",
    "    interest_value_month = previous_debit * interest_rate\n",
    "    return [interest_value_month,amortization_month,installment,current_debit]\n",
    "\n",
    "def consult_table_months():\n",
    "    queried_months = int(input('Qual o mês que você deseja saber as informações do empréstimo? '))\n",
    "    queried_months_list = []\n",
    "    while queried_months > 0:\n",
    "        queried_months_list.append(queried_months) \n",
    "        queried_months = int(input('Qual o mês que você deseja saber as informações do empréstimo? '))\n",
    "    return queried_months_list\n",
    "\n",
    "def exhibit_loan_table(months,data_table): \n",
    "    print(  f'| Parcela |     Juros     |   Amortização   |    Pagamento    | Saldo Devedor |')\n",
    "    sep_row=f'|---------|---------------|-----------------|-----------------|---------------|'\n",
    "    \n",
    "    for month in months:\n",
    "        print(sep_row)\n",
    "        index = month -1\n",
    "        print(f'| {month:^7d} | R$ {data_table[0][index]:^10.2f} | R$ {data_table[1][index]:^12.2f} | R$ {data_table[2][index]:^12.2f} | R$ {data_table[3][index]:^11.2f}|')\n",
    "    print(f'|-----------------------------------------------------------------------------|')\n",
    "\n",
    "\n",
    "def consult_table(month):\n",
    "    data_table()[month-1]\n",
    "    \n",
    "    \n"
   ]
  },
  {
   "cell_type": "code",
   "execution_count": 68,
   "metadata": {},
   "outputs": [
    {
     "name": "stdout",
     "output_type": "stream",
     "text": [
      "Valor de empréstimo: 10000\n",
      "Quantidade de meses do investimento: 12\n",
      "Taxa de juros (% a.m.): 1\n",
      "Qual o mês que você deseja saber as informações do empréstimo? 1\n",
      "Qual o mês que você deseja saber as informações do empréstimo? 2\n",
      "Qual o mês que você deseja saber as informações do empréstimo? 3\n",
      "Qual o mês que você deseja saber as informações do empréstimo? 4\n",
      "Qual o mês que você deseja saber as informações do empréstimo? 5\n",
      "Qual o mês que você deseja saber as informações do empréstimo? 6\n",
      "Qual o mês que você deseja saber as informações do empréstimo? -1\n",
      "| Parcela |     Juros     |   Amortização   |    Pagamento    | Saldo Devedor |\n",
      "|---------|---------------|-----------------|-----------------|---------------|\n",
      "|    1    | R$   100.00   | R$    788.49    | R$    888.49    | R$   9211.51  |\n",
      "|---------|---------------|-----------------|-----------------|---------------|\n",
      "|    2    | R$   92.12    | R$    796.37    | R$    888.49    | R$   8415.14  |\n",
      "|---------|---------------|-----------------|-----------------|---------------|\n",
      "|    3    | R$   84.15    | R$    804.34    | R$    888.49    | R$   7610.80  |\n",
      "|---------|---------------|-----------------|-----------------|---------------|\n",
      "|    4    | R$   76.11    | R$    812.38    | R$    888.49    | R$   6798.42  |\n",
      "|---------|---------------|-----------------|-----------------|---------------|\n",
      "|    5    | R$   67.98    | R$    820.50    | R$    888.49    | R$   5977.92  |\n",
      "|---------|---------------|-----------------|-----------------|---------------|\n",
      "|    6    | R$   59.78    | R$    828.71    | R$    888.49    | R$   5149.21  |\n",
      "|-----------------------------------------------------------------------------|\n"
     ]
    }
   ],
   "source": [
    "debit_balance,n_months,interest_rate = reading_initial_values()\n",
    "table_price = construct_loan_table_price(debit_balance,n_months,interest_rate)\n",
    "months = consult_table_months()\n",
    "exhibit_loan_table(months,table_price)\n"
   ]
  },
  {
   "cell_type": "code",
   "execution_count": 96,
   "metadata": {},
   "outputs": [
    {
     "data": {
      "text/plain": [
       "[59.779193391934776, 828.708693391482, 888.4878867834167, 5149.2106458020035]"
      ]
     },
     "execution_count": 96,
     "metadata": {},
     "output_type": "execute_result"
    }
   ],
   "source": [
    "compute_price_month(10000,12,6,0.01)"
   ]
  },
  {
   "cell_type": "code",
   "execution_count": null,
   "metadata": {},
   "outputs": [],
   "source": []
  }
 ],
 "metadata": {
  "colab": {
   "provenance": []
  },
  "kernelspec": {
   "display_name": "Python 3 (ipykernel)",
   "language": "python",
   "name": "python3"
  },
  "language_info": {
   "codemirror_mode": {
    "name": "ipython",
    "version": 3
   },
   "file_extension": ".py",
   "mimetype": "text/x-python",
   "name": "python",
   "nbconvert_exporter": "python",
   "pygments_lexer": "ipython3",
   "version": "3.8.10"
  }
 },
 "nbformat": 4,
 "nbformat_minor": 4
}
