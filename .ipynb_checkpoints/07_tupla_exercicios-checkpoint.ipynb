{
 "cells": [
  {
   "cell_type": "markdown",
   "id": "394cb2eb-a551-4742-93f0-5e85f2669337",
   "metadata": {},
   "source": [
    "Enunciado\n",
    "\n",
    "Modifique a função cadastrar_usuario abaixo em que serão coletados as seguintes informações a partir da entrada da pessoa usuária (input):\n",
    "\n",
    "    - Nome\n",
    "    - Idade\n",
    "    - Sexo\n",
    "\n",
    "Nesse cadastro busque utilizar namedtuple ou tuplas. Além de aceitar múltiplas entradas do usuário (aceite a opção cadastrar, parar, e lide com uma opção invalida)\n",
    "\n",
    "Agora crie uma função que permita descobrir a idade média de pessoas cadastradas pelo sexo (para manter simples, masculino e feminino, representado por m e f, respectivamente).\n",
    "\n",
    "Nessa função, perceba que o sexo pode ter sido cadastrado de forma incorreta, como proceder?\n",
    "\n",
    "Na função calcule_media_idade_por_sexo o retorno deve ser uma tupla de tuplas no formato"
   ]
  },
  {
   "cell_type": "code",
   "execution_count": 3,
   "id": "f620d4e4-59c6-491d-b32d-73b2a67e8423",
   "metadata": {},
   "outputs": [],
   "source": [
    "from collections import namedtuple\n",
    "Person = namedtuple('Person',['name','age','sex'])\n",
    "\n",
    "def cadastrar_usuario():  \n",
    "    option = input('Deseja realizar cadastro? ')\n",
    "    lst_register = []\n",
    "    while option.lower() in ['s','sim','y','yes']:\n",
    "        name = input('Nome: ')\n",
    "        age = int(input('Idade: '))\n",
    "        while age < 0:\n",
    "            age = int(input('Valor de idade inválido. Idade: '))\n",
    "        sex = input('Sexo: ')\n",
    "        while (sex.lower() not in ['m','f','masculino','feminino','male','female']):\n",
    "            sex = input('Entrada Inválida. Sexo: ')\n",
    "        lst_register.append(Person(name,age,sex))\n",
    "        option = input('Deseja realizar novo cadastro? ')\n",
    "        \n",
    "    return tuple(lst_register)\n",
    "def calcule_media_idade_por_sexo():\n",
    "    registers = cadastrar_usuario()\n",
    "    acc_m = 0\n",
    "    count_m = 0\n",
    "    acc_f = 0\n",
    "    count_f = 0\n",
    "    for register in registers:\n",
    "        if register.sex in ['m','masculino','male']:\n",
    "            acc_m += register.age\n",
    "            count_m += 1\n",
    "        elif register.sex in ['f','feminino','female']:\n",
    "            acc_f += register.age\n",
    "            count_f += 1\n",
    "    lst = []\n",
    "    if count_m > 0:\n",
    "        lst.append(('m',acc_m/count_m))\n",
    "    if count_f > 0:\n",
    "        lst.append(('f',acc_f/count_f))\n",
    "    return tuple(lst)\n",
    "    \n",
    "    "
   ]
  },
  {
   "cell_type": "code",
   "execution_count": 4,
   "id": "f8135436-ad0a-4594-b351-96d1415a7c3f",
   "metadata": {},
   "outputs": [
    {
     "name": "stdout",
     "output_type": "stream",
     "text": [
      "Deseja realizar cadastro? s\n",
      "Nome: B\n",
      "Idade: 36\n",
      "Sexo: m\n",
      "Deseja realizar novo cadastro? s\n",
      "Nome: c\n",
      "Idade: 38\n",
      "Sexo: m\n",
      "Deseja realizar novo cadastro? t\n"
     ]
    },
    {
     "data": {
      "text/plain": [
       "(('m', 37.0),)"
      ]
     },
     "execution_count": 4,
     "metadata": {},
     "output_type": "execute_result"
    }
   ],
   "source": [
    "calcule_media_idade_por_sexo()"
   ]
  },
  {
   "cell_type": "code",
   "execution_count": null,
   "id": "e2ad03ef-e669-44f4-ba35-80830b9becad",
   "metadata": {},
   "outputs": [],
   "source": []
  }
 ],
 "metadata": {
  "kernelspec": {
   "display_name": "Python 3 (ipykernel)",
   "language": "python",
   "name": "python3"
  },
  "language_info": {
   "codemirror_mode": {
    "name": "ipython",
    "version": 3
   },
   "file_extension": ".py",
   "mimetype": "text/x-python",
   "name": "python",
   "nbconvert_exporter": "python",
   "pygments_lexer": "ipython3",
   "version": "3.8.10"
  }
 },
 "nbformat": 4,
 "nbformat_minor": 5
}
