{
 "cells": [
  {
   "cell_type": "markdown",
   "metadata": {
    "id": "T8jBDHjIsiwu",
    "jp-MarkdownHeadingCollapsed": true,
    "tags": []
   },
   "source": [
    "# Listas\n",
    "\n",
    "Já fizemos alguns programas para ler 2 ou 3 notas e calcular a média. Inclusive já fomos além e aprendemos a verificar se o aluno passou ou não. Vamos rever um exemplo desses:\n"
   ]
  },
  {
   "cell_type": "code",
   "execution_count": null,
   "metadata": {
    "id": "jM_VPM6OsX-H"
   },
   "outputs": [],
   "source": [
    "nota1 = float(input('Digite a primeira nota: '))\n",
    "nota2 = float(input('Digite a segunda nota: '))\n",
    "\n",
    "media = (nota1 + nota2)/2\n",
    "\n",
    "print(media)"
   ]
  },
  {
   "cell_type": "markdown",
   "metadata": {
    "id": "JvUwQy5usm6F"
   },
   "source": [
    "Simples, certo? Mas e se a regra da escola mudasse, e agora cada professor precisasse aplicar 4 provas? Modificaríamos nosso programa:\n",
    "\n"
   ]
  },
  {
   "cell_type": "code",
   "execution_count": null,
   "metadata": {
    "id": "6cNoz5jfsoR1"
   },
   "outputs": [],
   "source": [
    "nota1 = float(input('Digite a primeira nota: '))\n",
    "nota2 = float(input('Digite a segunda nota: '))\n",
    "nota3 = float(input('Digite a terceira nota: '))\n",
    "nota4 = float(input('Digite a quarta nota: '))\n",
    "\n",
    "media = (nota1 + nota2 + nota3 + nota4)/4\n",
    "\n",
    "print(media)"
   ]
  },
  {
   "cell_type": "markdown",
   "metadata": {
    "id": "Nh2Vya7gssJ6"
   },
   "source": [
    "Até aqui tudo bem. Mas e se o objetivo fosse testar o quanto o professor consegue ensinar? Para isso, poderíamos calcular a média das médias de todos os alunos do professor. Mas e se o professor trabalha em uma faculdade muito grande e suas turmas têm 80 alunos?\n"
   ]
  },
  {
   "cell_type": "code",
   "execution_count": null,
   "metadata": {
    "id": "DnVXTP20srym"
   },
   "outputs": [],
   "source": [
    "aluno1 = float(input('Digite a nota do aluno 1: '))\n",
    "aluno2 = float(input('Digite a nota do aluno 2: '))\n",
    "aluno3 = float(input('Digite a nota do aluno 3: '))\n",
    "aluno4 = float(input('Digite a nota do aluno 4: '))\n",
    "aluno5 = float(input('Digite a nota do aluno 5: '))\n",
    "aluno6 = float(input('Digite a nota do aluno 6: '))\n",
    "aluno7 = float(input('Digite a nota do aluno 7: '))\n",
    "aluno8 = float(input('Digite a nota do aluno 8: '))\n",
    "aluno9 = float(input('Digite a nota do aluno 9: '))\n",
    "aluno10 = float(input('Digite a nota do aluno 10: '))\n",
    "\n",
    "# ..."
   ]
  },
  {
   "cell_type": "markdown",
   "metadata": {
    "id": "CZPy7uACs1T6"
   },
   "source": [
    "Para trabalhar com poucos valores, é fácil e conveniente criar uma variável para cada valor e realizar operações individualmente sobre cada uma. Porém, dizemos que esse tipo de solução não é escalável: o programa não está preparado para lidar com variações no tamanho da base de dados, e modificá-lo para comportá-las pode ser difícil, trabalhoso ou mesmo inviável.\n",
    "\n",
    "Imagine se para cada novo perfil em uma rede social o estagiário precisasse criar uma variável nova para o nome, uma para o e-mail, uma para a data de nascimento, e assim sucessivamente... E depois ainda precisasse de linhas novas de código para ler cada um desses valores do novo usuário!\n",
    "\n",
    "É aí que entram as listas. Listas são coleções de objetos em Python. Falando de maneira simplificada, são variáveis que comportam diversos valores ao mesmo tempo. Vejamos alguns jeitos de criar listas em Python:"
   ]
  },
  {
   "cell_type": "code",
   "execution_count": null,
   "metadata": {
    "id": "lQCnozULs36w"
   },
   "outputs": [],
   "source": [
    "primeira_lista = [] # cria uma lista vazia\n",
    "segunda_lista = list() # cria uma lista vazia\n",
    "terceira_lista = [1, 3.14, 5, 7, 9, 'onze'] # lista com valores"
   ]
  },
  {
   "cell_type": "markdown",
   "metadata": {
    "id": "VQEek59Ds5YY"
   },
   "source": [
    "Note que podemos misturar tipos de dados. A terceira_lista possui 4 int, um float e uma str.\n",
    "\n",
    "Bom, e agora, como fazemos para acessar cada valor? Podemos imaginar a lista da seguinte maneira: imagine que ao invés de ter uma caixa para guardar cada item, temos uma cômoda com várias gavetas. Cada item está em uma gaveta. Não estamos acostumados a dizer que algo está na terceira gaveta do armário? A ideia é a mesma: a lista é uma coleção indexada, ou seja, podemos acessar cada elemento através de índices, que são números indicando a posição. A indexação é automática e começa a partir do zero:\n",
    "\n",
    "```\n",
    "elemento 1 3.14 5 7 9 11\n",
    "índice   0  1   2 3 4 5\n",
    "```\n",
    "\n",
    "Portanto, para acessar o elemento \"7\" da nossa lista, utilizaríamos o índice 3. Informamos o índice entre colchetes:"
   ]
  },
  {
   "cell_type": "code",
   "execution_count": null,
   "metadata": {
    "id": "aPP0Ylk6tOJo"
   },
   "outputs": [],
   "source": [
    "terceira_lista = [1, 3.14, 5, 7, 9, 'onze'] # lista com valores\n",
    "print(terceira_lista[3])"
   ]
  },
  {
   "cell_type": "markdown",
   "metadata": {
    "id": "r77HmAA1tOwb"
   },
   "source": [
    "A lista é mutável. Isso significa que podemos modificar os valores já existentes:\n",
    "\n"
   ]
  },
  {
   "cell_type": "code",
   "execution_count": null,
   "metadata": {
    "id": "bieALlCDtRgU"
   },
   "outputs": [],
   "source": [
    "terceira_lista = [1, 3.14, 5, 7, 9, 'onze'] # lista com valores\n",
    "terceira_lista[3] = 'sete' # troca 7 por 'sete' na lista\n",
    "print(terceira_lista)"
   ]
  },
  {
   "cell_type": "markdown",
   "metadata": {
    "id": "AVnLooiztS31"
   },
   "source": [
    "> É possível utilizar índices negativos. lista[-1] pega o último elemento, lista[-2] o penúltimo, e assim sucessivamente. Mas não é possível acessar índices iguais ou superiores ao tamanho da lista. A tentativa de acessar um índice inexistente resultará em erro.\n",
    "\n",
    "## Slices\n",
    "\n",
    "É possível pegar subconjuntos de nossas listas utilizando o conceito de slices. Ao invés de passar apenas 1 valor entre colchetes (o índice desejado), podemos passar faixas de valores. Veja o exemplo abaixo:"
   ]
  },
  {
   "cell_type": "code",
   "execution_count": null,
   "metadata": {
    "id": "YkYbglgptXuv"
   },
   "outputs": [],
   "source": [
    "impares = [1, 3, 5, 7, 9, 11, 13, 15, 17]\n",
    "meio = impares[3:6]\n",
    "print(meio) # resultado na tela: [7, 9, 11]"
   ]
  },
  {
   "cell_type": "markdown",
   "metadata": {
    "id": "lxN1-0U0tYNf"
   },
   "source": [
    "O primeiro valor é o índice inicial da sublista a ser gerada, e o segundo é o índice final (exclusivo). Podemos omitir um desses valores para indicar que será desde o início ou até o final:\n",
    "\n"
   ]
  },
  {
   "cell_type": "code",
   "execution_count": null,
   "metadata": {
    "id": "CZDdS6m4tZbX"
   },
   "outputs": [],
   "source": [
    "impares = [1, 3, 5, 7, 9, 11, 13, 15, 17, 19]\n",
    "primeira_metade = impares[:5]\n",
    "segunda_metade = impares[5:]\n",
    "print(primeira_metade) # resultado: [1, 3, 5, 7, 9]\n",
    "print(segunda_metade) # resultado: [11, 13, 15, 17, 19]"
   ]
  },
  {
   "cell_type": "markdown",
   "metadata": {
    "id": "u7cpe5ckta9O"
   },
   "source": [
    "Além de índices inicial e final, podemos também passar um passo para os índices. Veja o exemplo abaixo:\n",
    "\n"
   ]
  },
  {
   "cell_type": "code",
   "execution_count": null,
   "metadata": {
    "id": "n99ttgCvtcir"
   },
   "outputs": [],
   "source": [
    "numeros = [0, 1, 2, 3, 4, 5, 6, 7, 8, 9, 10, 11, 12, 13, 14, 15]\n",
    "# múltiplos de 3 abaixo de 10:\n",
    "mult3_sub10 = numeros[3:10:3]\n",
    "print(mult3_sub10) # resultado: [3, 6, 9]"
   ]
  },
  {
   "cell_type": "markdown",
   "metadata": {
    "id": "SibHjanftfXf"
   },
   "source": [
    "Atenção: quando nós atribuímos uma lista a outra variável, a lista não é copiada. Observe o exemplo abaixo:\n",
    "\n"
   ]
  },
  {
   "cell_type": "code",
   "execution_count": null,
   "metadata": {
    "id": "Ki65t5hFtfw9"
   },
   "outputs": [],
   "source": [
    "lista1 = [1, 3, 5]\n",
    "lista2 = lista1\n",
    "lista2.append(7)\n",
    "print(lista1) # resultado: [1, 3, 5, 7]"
   ]
  },
  {
   "cell_type": "markdown",
   "metadata": {
    "id": "782xhjCkthm0"
   },
   "source": [
    "Modificações aplicadas em lista2 também afetarão a lista1. Isso ocorre porque não foi criada uma lista. O Python apenas fez com que ambas as variáveis (lista1 e lista2) referenciassem a mesma estrutura na memória. Quando utilizamos slices, isso não ocorre. O Python cria uma lista contendo os valores restritos pelos índices. Sendo assim, uma estratégia fácil para copiar uma lista para outra é utilizar um slice indo da primeira à última posição:\n",
    "\n"
   ]
  },
  {
   "cell_type": "code",
   "execution_count": null,
   "metadata": {
    "id": "miT1UnYItjJs"
   },
   "outputs": [],
   "source": [
    "lista1 = [1, 3, 5]\n",
    "lista2 = lista1[:]\n",
    "lista2.append(7)\n",
    "print(lista1) # resultado: [1, 3, 5]\n",
    "print(lista2) # resultado: [1, 3, 5, 7]"
   ]
  },
  {
   "cell_type": "markdown",
   "metadata": {
    "id": "lJZFySIgtmBr"
   },
   "source": [
    "## Percorrendo listas\n",
    "Suponha que você queira acessar cada elemento de sua lista individualmente. Digitar todos os índices manualmente cancelaria a escalabilidade do programa, certo? Portanto, podemos usar um loop para gerar os índices:"
   ]
  },
  {
   "cell_type": "code",
   "execution_count": null,
   "metadata": {
    "id": "7FCeiL_vtqec"
   },
   "outputs": [],
   "source": [
    "pares = [0, 2, 4, 6, 8]\n",
    "tamanho = len(pares) # calcula o tamanho da lista\n",
    "\n",
    "# tamanho vale 5, logo índice recebe os valores 0, 1, 2, 3 e 4\n",
    "for indice in range(tamanho):\n",
    "  print(pares[indice])"
   ]
  },
  {
   "cell_type": "markdown",
   "metadata": {
    "id": "UGcnunGOtrvW"
   },
   "source": [
    "Porém, tem um jeito ainda mais fácil de percorrer a lista. O for não serve apenas para gerar sequências numéricas junto do range: ele serve para percorrer coleções. Portanto, podemos trocar o range pela própria lista:\n",
    "\n"
   ]
  },
  {
   "cell_type": "code",
   "execution_count": null,
   "metadata": {
    "id": "UzyUdfVettCe"
   },
   "outputs": [],
   "source": [
    "pares = [0, 2, 4, 6, 8]\n",
    "\n",
    "for elemento in pares:\n",
    "  print(elemento)"
   ]
  },
  {
   "cell_type": "markdown",
   "metadata": {
    "id": "hNe7Z9KMtuFG"
   },
   "source": [
    "Assim como no caso das contagens, \"elemento\" é apenas uma variável que será criada de forma automática e poderia ter qualquer nome. Em cada repetição do loop, um valor diferente da lista será copiado para elemento.\n",
    "\n",
    "> Importante: Como os elementos são copiados, caso você modifique o valor de elemento você não irá modificar o valor na lista, e sim uma cópia dele. Além disso, como este loop serve especificamente para percorrer listas, se dentro dele você fizer operações que alterem o tamanho da lista (append ou remove, por exemplo), o loop poderá executar incorretamente, pulando ou repetindo elementos.\n",
    "\n",
    "> O for serve, primariamente, para percorrer coleções. Ou seja, para iterar coleções. O range age, na prática, como se fosse uma lista contendo os valores determinados por seu parâmetro. Dizemos que a função range gera um iterável, ou seja, um tipo especial de dado que pode ser percorrido através de um loop.\n",
    "\n",
    "## O operador \"in\"\n",
    "Existe um comando que temos visto bastante recentemente: o in. Ele costuma aparecer no for para indicar a lista ou a sequência a ser percorrida. Mas ele também possui outra utilidade.\n",
    "\n",
    "O in pode ser utilizado para informar se um elemento está presente em uma lista ou não. Observe a saída do código abaixo."
   ]
  },
  {
   "cell_type": "code",
   "execution_count": null,
   "metadata": {
    "id": "tJSlp7Q_t1Wc"
   },
   "outputs": [],
   "source": [
    "linguagens = ['Python', 'JavaScript', 'C#', 'Java']\n",
    "\n",
    "existe_html = 'HTML' in linguagens\n",
    "existe_java = 'Java' in linguagens\n",
    "\n",
    "print('HTML:', existe_html) # HTML: False\n",
    "print('Java:', existe_java) # Java: True"
   ]
  },
  {
   "cell_type": "markdown",
   "metadata": {
    "id": "LEP6lJCYt2ce"
   },
   "source": [
    "Normalmente utilizamos esse comando junto de um if quando precisamos checar se um elemento existe:\n",
    "\n"
   ]
  },
  {
   "cell_type": "code",
   "execution_count": null,
   "metadata": {
    "id": "7fRwpPRJt3at"
   },
   "outputs": [],
   "source": [
    "linguagem_desejada = input('Digite a linguagem que você gostaria de aprender: ')\n",
    "\n",
    "linguagens = ['Python', 'JavaScript', 'C#', 'Java']\n",
    "\n",
    "if linguagem_desejada in linguagens:\n",
    "  print('Faça o curso conosco! :)')\n",
    "else:\n",
    "  print('Não temos esse curso disponível no momento :(')"
   ]
  },
  {
   "cell_type": "markdown",
   "metadata": {
    "id": "dx6tuwNvt5UY",
    "jp-MarkdownHeadingCollapsed": true,
    "tags": []
   },
   "source": [
    "# Funções de listas\n",
    "\n",
    "Funções de listas\n",
    "As listas possuem diversas funções prontas bastante úteis. Veremos algumas das mais usadas. Não se preocupe em decorar todas elas: sempre podemos consultar nosso material quando precisarmos de um lembrete! Com tempo e prática você irá aos poucos memorizar algumas delas.\n",
    "\n",
    "## Adicionando elementos\n",
    "Podemos adicionar novos elementos na lista de duas maneiras. A primeira delas, mais simples, é o append. Ele adiciona um elemento ao final da lista. Veja o exemplo abaixo:"
   ]
  },
  {
   "cell_type": "code",
   "execution_count": null,
   "metadata": {
    "id": "wNL0WTGFt-Wk"
   },
   "outputs": [],
   "source": [
    "pares = [0, 2, 4, 6, 8]\n",
    "pares.append(10)\n",
    "print(pares) # resultado: [0, 2, 4, 6, 8, 10]"
   ]
  },
  {
   "cell_type": "markdown",
   "metadata": {
    "id": "i0ePpzqRuBTm"
   },
   "source": [
    "Outra maneira é com o insert: além do elemento, ele recebe a posição do novo elemento. O primeiro parâmetro é a posição, e a segunda é o valor.\n",
    "\n"
   ]
  },
  {
   "cell_type": "code",
   "execution_count": null,
   "metadata": {
    "id": "_IXd4SaHuCk4"
   },
   "outputs": [],
   "source": [
    "pares = [0, 2, 4, 8, 10]\n",
    "pares.insert(3, 6)\n",
    "print(pares) #resultado: [0, 2, 4, 6, 8, 10]"
   ]
  },
  {
   "cell_type": "markdown",
   "metadata": {
    "id": "k-apXhuvuHtX"
   },
   "source": [
    "Note que o valor que ocupava a posição anteriormente não é substituído, mas \"empurrado\" para a próxima posição.\n",
    "\n",
    "## Removendo elementos\n",
    "Podemos remover o elemento de 2 jeitos: por valor e por posição. O remove irá remover o primeiro elemento encontrado na lista com um dado valor. Ex:"
   ]
  },
  {
   "cell_type": "code",
   "execution_count": null,
   "metadata": {
    "id": "JTv0skDIuLB-"
   },
   "outputs": [],
   "source": [
    "impares = [1, 3, 3, 5, 7, 9]\n",
    "impares.remove(3)\n",
    "print(impares) # resultado: [1, 3, 5, 7, 9]"
   ]
  },
  {
   "cell_type": "markdown",
   "metadata": {
    "id": "Yi1XhB3BuLhL"
   },
   "source": [
    "O pop remove o elemento que estiver em uma dada posição, independentemente de seu valor:"
   ]
  },
  {
   "cell_type": "code",
   "execution_count": null,
   "metadata": {
    "id": "xTt8jtJ2uN_c"
   },
   "outputs": [],
   "source": [
    "impares = [1, 3, 5, 7, 8, 9]\n",
    "impares.pop(4)\n",
    "print(impares) # resultado: [1, 3, 5, 7, 9]"
   ]
  },
  {
   "cell_type": "markdown",
   "metadata": {
    "id": "dDIr4hJ8uOi0"
   },
   "source": [
    "Se nenhum valor for passado no pop, ele irá remover necessariamente o último elemento da lista.\n",
    "\n",
    "## Ordenando a lista\n",
    "Podemos ordenar a lista usando o sort."
   ]
  },
  {
   "cell_type": "code",
   "execution_count": null,
   "metadata": {
    "id": "hRgcVO7buR5E"
   },
   "outputs": [],
   "source": [
    "fibonacci = [8, 1, 0, 5, 13, 1, 3, 2]\n",
    "fibonacci.sort()\n",
    "print(fibonacci) # resultado: [0, 1, 1, 2, 3, 5, 8, 13]"
   ]
  },
  {
   "cell_type": "markdown",
   "metadata": {
    "id": "u2wglRuluSaE"
   },
   "source": [
    "Caso desejássemos ordenar em ordem decrescente, podemos passar a opção reverse = True para o sort:\n",
    "\n"
   ]
  },
  {
   "cell_type": "code",
   "execution_count": null,
   "metadata": {
    "id": "sWDx1fmwuTz2"
   },
   "outputs": [],
   "source": [
    "fibonacci = [8, 1, 0, 5, 13, 1, 3, 2]\n",
    "fibonacci.sort(reverse = True)\n",
    "print(fibonacci) # resultado: [13, 8, 5, 3, 2, 1, 1, 0]\n"
   ]
  },
  {
   "cell_type": "markdown",
   "metadata": {
    "id": "8z5oBjgwuulZ"
   },
   "source": [
    "> Importante: o sort só irá funcionar caso sua lista possua apenas elementos que podem ser comparados entre si (apenas strings ou apenas números, por exemplo). Se uma lista contém tanto strings quanto números, o sort não saberá o que vem primeiro.\n",
    "\n",
    "Um problema do sort é que ele irá reordenar a própria lista. Muitas vezes precisamos preservar a lista original, e obter uma nova com a ordenação desejada. Neste caso, podemos utilizar o sorted:"
   ]
  },
  {
   "cell_type": "code",
   "execution_count": null,
   "metadata": {
    "id": "8-W_Nznquv1V"
   },
   "outputs": [],
   "source": [
    "fibonacci = [8, 1, 0, 5, 13, 1, 3, 2]\n",
    "fibonacci_ordenada = sorted(fibonacci)\n",
    "print(fibonacci_ordenada, fibonacci) # resultado: [0, 1, 1, 2, 3, 5, 8, 13] [8, 1, 0, 5, 13, 1, 3, 2]\n"
   ]
  },
  {
   "cell_type": "markdown",
   "metadata": {
    "id": "GeBtWtxvuyJi"
   },
   "source": [
    "O sorted também aceita o parâmetro reverse para aplicar ordem decrescente.\n",
    "\n",
    "Falando em ordem decrescente, é possível simplesmente inverter a ordem dos elementos de uma lista utilizando o reverse:"
   ]
  },
  {
   "cell_type": "code",
   "execution_count": null,
   "metadata": {
    "id": "GRfoVBlxu0k5"
   },
   "outputs": [],
   "source": [
    "lista = [1, 5, 'dois', 4, 3.14]\n",
    "lista.reverse()\n",
    "print(lista) # resultado: [3.14, 4, 'dois', 5, 1]"
   ]
  },
  {
   "cell_type": "markdown",
   "metadata": {
    "id": "7HI0YooWu6xm"
   },
   "source": [
    "## Buscando um elemento\n",
    "Podemos buscar um elemento (descobrir sua posição) utilizando a função index. Ela irá informar a primeira posição onde um elemento for encontrado:"
   ]
  },
  {
   "cell_type": "code",
   "execution_count": null,
   "metadata": {
    "id": "DX2OQBKbu7uB"
   },
   "outputs": [],
   "source": [
    "pi = [3, 1, 4, 1, 5, 9, 2, 6, 5]\n",
    "posicao = pi.index(5)\n",
    "print(posicao) # resultado: 4"
   ]
  },
  {
   "cell_type": "markdown",
   "metadata": {
    "id": "0K_xNqefu87X"
   },
   "source": [
    "> Atenção: caso o elemento buscado não exista, a função index dará erro. Considere utilizar o in para verificar se o elemento existe na lista antes de usar o index.\n",
    "\n",
    "## Informações sobre a lista\n",
    "Podemos obter alguns dados sobre a nossa lista: seu tamanho atual (len), seu maior valor (max) e seu menor valor (min)."
   ]
  },
  {
   "cell_type": "code",
   "execution_count": null,
   "metadata": {
    "id": "zhq6gbSXu-cP"
   },
   "outputs": [],
   "source": [
    "pi = [3, 1, 4, 1, 5, 9, 2, 6]\n",
    "tamanho = len(pi)\n",
    "maior = max(pi)\n",
    "menor = min(pi)\n",
    "print(tamanho, maior, menor) # resultado: 8 9 1"
   ]
  },
  {
   "cell_type": "markdown",
   "metadata": {
    "id": "QNPNw5nwvrmh"
   },
   "source": [
    "## Extra: iterando listas de maneira idiomática\n",
    "\n",
    "### Enumerate\n",
    "\n",
    "\n",
    "Considere um problema qualquer onde o índice importa. Por exemplo, suponha que você possua uma lista de strings e gostaria de exibi-la intercalando uma em letra maiúscula e outra em letra minúscula (assim como frequentemente representamos tabelas intercalando as cores de suas linhas em editores de planilha para melhorar a legibilidade).\n",
    "\n",
    "A lógica desse problema poderia ser resolvida usando índice: \n"
   ]
  },
  {
   "cell_type": "code",
   "execution_count": null,
   "metadata": {
    "id": "_zR2gMdhv0Ag"
   },
   "outputs": [],
   "source": [
    "lista_frutas = ['abacate', 'banana', 'carambola', 'damasco', 'embaúba', 'framboesa', 'goiaba']\n",
    "\n",
    "for indice in range(len(lista_frutas)):\n",
    "    if indice % 2 == 0:\n",
    "        print(lista_frutas[indice].upper())\n",
    "    else:\n",
    "        print(lista_frutas[indice].lower())"
   ]
  },
  {
   "cell_type": "markdown",
   "metadata": {
    "id": "CEj5TlMHv137"
   },
   "source": [
    "Existe uma ferramenta em Python que pode nos ajudar a escrever de maneira mais *pythonica*, sem precisar acessar lista por índice: o **enumerate**. Vamos entender o que ele faz primeiro, e em seguida veremos como deixar o código mais limpo:"
   ]
  },
  {
   "cell_type": "code",
   "execution_count": null,
   "metadata": {
    "id": "yNHnme4tv3X6"
   },
   "outputs": [],
   "source": [
    "for x in enumerate(lista_frutas):\n",
    "    print(x)"
   ]
  },
  {
   "cell_type": "markdown",
   "metadata": {
    "id": "jhz99yxRv6W2"
   },
   "source": [
    "O **enumerate** montou uma estrutura onde cada elemento é uma tupla (uma espécie de lista imutável), sendo o primeiro elemento da tupla um índice da lista, e o segundo o valor associado àquele índice. Ao tratar a tupla como se fosse mais de uma variável, temos o que chamamos de **desempacotamento de tupla**: cada valor da tupla é atribuido para uma variável. \n",
    "\n"
   ]
  },
  {
   "cell_type": "code",
   "execution_count": null,
   "metadata": {
    "id": "e8B8Ko1ewNI4"
   },
   "outputs": [],
   "source": [
    "tupla = (1, 3, 5, 7)\n",
    "\n",
    "a, b, c, d = tupla\n",
    "print(a)\n",
    "print(b)\n",
    "print(c)\n",
    "print(d)"
   ]
  },
  {
   "cell_type": "markdown",
   "metadata": {
    "id": "ojNgCKpzwMcH"
   },
   "source": [
    "\n",
    "Aplicando o desempacotamento de tupla no *for*, podemos ter, simultaneamente, índice e valor em variáveis separadas, na prática percorrendo a lista tanto por índice quanto por valor. Refazendo o exemplo das maiúsculas/minúsculas:"
   ]
  },
  {
   "cell_type": "code",
   "execution_count": null,
   "metadata": {
    "id": "9XYbkcqBwVBG"
   },
   "outputs": [],
   "source": [
    "for indice, valor in enumerate(lista_frutas):\n",
    "    if indice % 2 == 0:\n",
    "        print(valor.upper())\n",
    "    else:\n",
    "        print(valor.lower())"
   ]
  },
  {
   "cell_type": "markdown",
   "metadata": {
    "id": "msYqsmkgwXg0"
   },
   "source": [
    "## Zip\n",
    "\n",
    "Vamos pensar em um problema onde precisamos percorrer duas listas simultaneamente. Por exemplo, considere que temos uma lista com os nomes de todos os alunos de uma turma, e outra com as notas, na mesma ordem. Como faríamos para acessar, simultaneamente, o nome de um aluno e a sua nota?\n",
    "\n",
    "Esse é um problema onde, a princípio, utilizaríamos índice. Se usarmos o mesmo índice nas duas listas, estamos na prática percorrendo ambas as listas simultaneamente:"
   ]
  },
  {
   "cell_type": "code",
   "execution_count": null,
   "metadata": {
    "id": "cl3-s3PVwaEq"
   },
   "outputs": [],
   "source": [
    "alunos = ['Paul', 'John', 'George', 'Ringo']\n",
    "notas = [10, 9.5, 7, 6]\n",
    "\n",
    "for indice in range(len(alunos)):\n",
    "    print(f'Aluno {alunos[indice]}: {notas[indice]}')"
   ]
  },
  {
   "cell_type": "markdown",
   "metadata": {
    "id": "vq2l3_rQwcT6"
   },
   "source": [
    "Vamos ver agora o **zip** em ação para compreender como ele funciona:\n"
   ]
  },
  {
   "cell_type": "code",
   "execution_count": null,
   "metadata": {
    "id": "6uEhCvv7wcpg"
   },
   "outputs": [],
   "source": [
    "for x in zip(alunos, notas):\n",
    "    print(x)"
   ]
  },
  {
   "cell_type": "markdown",
   "metadata": {
    "id": "X-ma2qSFwgA5"
   },
   "source": [
    "Assim como no **enumerate**, o **zip** montou tuplas. Cada tupla representa 1 posição das listas originais, e cada posição dentro da tupla representa o dado de uma das listas. Ou seja, cada elemento do **zip** contém 1 elemento de cada lista original, na ordem que eles apareceram nas listas originais. Logo, ele permite percorrer 2 listas simultaneamente.\n",
    "\n",
    "Novamente podemos aplicar desempacotamento de tuplas em nosso loop acessar os dados de cada lista individualmente de maneira legível:"
   ]
  },
  {
   "cell_type": "code",
   "execution_count": null,
   "metadata": {
    "id": "LPgV_e7Owfen"
   },
   "outputs": [],
   "source": [
    "alunos = ['Paul', 'John', 'George', 'Ringo']\n",
    "notas = [10, 9.5, 7, 6]\n",
    "\n",
    "for aluno, nota in zip(alunos, notas):\n",
    "    print(f'Aluno {aluno}: {nota}')"
   ]
  },
  {
   "cell_type": "markdown",
   "metadata": {
    "id": "6t7MOGVlwvSG"
   },
   "source": [
    "# Exercícios\n",
    "\n",
    "Faça um programa que pede para a usuária digitar dois números, inicio e fim.\n",
    "\n",
    "O seu programa deverá preencher uma lista com todos os números no intervalo (inclusive os valores inicial e final) e exibi-la na tela."
   ]
  },
  {
   "cell_type": "code",
   "execution_count": 2,
   "metadata": {
    "id": "n-yLFdPywxYq"
   },
   "outputs": [
    {
     "name": "stdout",
     "output_type": "stream",
     "text": [
      "Digite o número inicial:1\n",
      "Digite o número final: 10\n",
      "[1, 2, 3, 4, 5, 6, 7, 8, 9, 10]\n"
     ]
    }
   ],
   "source": [
    "initial_number = int(input(\"Digite o número inicial:\"))\n",
    "final_number = int(input(\"Digite o número final: \"))\n",
    "\n",
    "numbers_list = []\n",
    "for i in range(initial_number,final_number+1):\n",
    "    numbers_list.append(i)\n",
    "print(numbers_list)"
   ]
  },
  {
   "cell_type": "markdown",
   "metadata": {
    "id": "hCBvAKZNwxn6"
   },
   "source": [
    "Faça um programa que preenche uma lista inicialmente vazia com 20 números aleatórios entre 0 e 100.\n",
    "\n",
    "Você pode utilizar a biblioteca random para isso. Comece importando-a no início de seu código:\n",
    "\n",
    "import random\n",
    "\n",
    "Para sortear um número, você pode usar a linha abaixo:\n",
    "\n",
    "sorteio = random.randint(0, 100)\n",
    "\n",
    "DICA: em todos os programas desta lista de exercícios onde você tiver que trabalhar com uma lista numérica onde os números não serão digitados pela usuária, você pode replicar o código deste exercício para partir de uma lista já preenchida com valores aleatórios. Isso facilitará os seus testes!"
   ]
  },
  {
   "cell_type": "code",
   "execution_count": 3,
   "metadata": {
    "id": "Brf-pusKw1uC"
   },
   "outputs": [
    {
     "name": "stdout",
     "output_type": "stream",
     "text": [
      "[83, 26, 48, 1, 44, 93, 34, 99, 75, 46, 62, 68, 13, 67, 97, 10, 62, 12, 2, 15]\n"
     ]
    }
   ],
   "source": [
    "import random\n",
    "random_numbers_list = list()\n",
    "\n",
    "for i in range(20):\n",
    "    random_numbers_list.append(random.randint(0, 100))\n",
    "\n",
    "print(random_numbers_list)"
   ]
  },
  {
   "cell_type": "markdown",
   "metadata": {
    "id": "qoBEPmudw13s"
   },
   "source": [
    "Faça um programa que percorre uma lista de números aleatórios (ver exercício 2) e exibe na tela apenas os números pares.\n",
    "\n"
   ]
  },
  {
   "cell_type": "code",
   "execution_count": 6,
   "metadata": {
    "id": "7krfNlYSw3kY"
   },
   "outputs": [
    {
     "name": "stdout",
     "output_type": "stream",
     "text": [
      "26 48 44 34 46 62 68 10 62 12 2 "
     ]
    }
   ],
   "source": [
    "for n in random_numbers_list:\n",
    "    if n % 2 == 0:\n",
    "        print(n, end =' ')"
   ]
  },
  {
   "cell_type": "markdown",
   "metadata": {
    "id": "WUEtHEU1w3rs"
   },
   "source": [
    "Faça um programa que calcula a média dos números de uma lista numérica.\n",
    "\n"
   ]
  },
  {
   "cell_type": "code",
   "execution_count": 10,
   "metadata": {
    "id": "MXAf69XCw5iK"
   },
   "outputs": [
    {
     "name": "stdout",
     "output_type": "stream",
     "text": [
      "Média é 47.85\n"
     ]
    }
   ],
   "source": [
    "mean = sum(random_numbers_list)/len(random_numbers_list)\n",
    "print(f'Média é {mean:.2f}')"
   ]
  },
  {
   "cell_type": "markdown",
   "metadata": {
    "id": "jSskWj4uw7yj"
   },
   "source": [
    "Faça um programa que percorre uma lista de números. Os números abaixo da média dos valores deverão ser inseridos em uma lista, e os valores acima da média deverão ser inseridos em outra lista.\n",
    "\n"
   ]
  },
  {
   "cell_type": "code",
   "execution_count": 11,
   "metadata": {
    "id": "sGejndaow7Iy"
   },
   "outputs": [
    {
     "name": "stdout",
     "output_type": "stream",
     "text": [
      "Lista de número acima da média: [83, 48, 93, 99, 75, 62, 68, 67, 97, 62]\n",
      "Lista de número abaixo da média: [26, 1, 44, 34, 46, 13, 10, 12, 2, 15]\n"
     ]
    }
   ],
   "source": [
    "upper_mean = []\n",
    "lower_mean = []\n",
    "for n in random_numbers_list:\n",
    "    if n > mean:\n",
    "        upper_mean.append(n)\n",
    "    elif n < mean:\n",
    "        lower_mean.append(n)\n",
    "print(f'Lista de número acima da média: {upper_mean}')\n",
    "print(f'Lista de número abaixo da média: {lower_mean}')"
   ]
  },
  {
   "cell_type": "markdown",
   "metadata": {
    "id": "YHptpvDnw9PI"
   },
   "source": [
    "Faça um programa que pergunta o número de atividades avaliativas realizadas pela usuária (no mínimo 4).\n",
    "\n",
    "O programa deverá exibir:\n",
    "\n",
    "* a menor nota\n",
    "* a maior nota\n",
    "* a média calculada desconsiderando a maior e a menor nota"
   ]
  },
  {
   "cell_type": "code",
   "execution_count": 13,
   "metadata": {
    "id": "vMrXvBSqxTvv"
   },
   "outputs": [
    {
     "name": "stdout",
     "output_type": "stream",
     "text": [
      "Qual o número de atividades avaliativas (no mínimo 4)? 4\n",
      "Entre com a nota 1: 10\n",
      "Entre com a nota 2: 10\n",
      "Entre com a nota 3: 8\n",
      "Entre com a nota 4: 4\n",
      "\n",
      "A maior nota é 10.00.\n",
      "A menor nota é 4.00.\n",
      "A média é 8.00.\n"
     ]
    }
   ],
   "source": [
    "n_atividades = int(input('Qual o número de atividades avaliativas (no mínimo 4)? '))\n",
    "while n_atividades < 4:\n",
    "    n_atividades = int(input('São pelo menos 4 notas. Qual o número de atividades avaliativas (no mínimo 4)? '))\n",
    "\n",
    "grade_list = list()\n",
    "for i in range(n_atividades):\n",
    "    grade_list.append(float(input(f'Entre com a nota {i+1}: ')))\n",
    "\n",
    "print()\n",
    "print(f'A maior nota é {max(grade_list):.2f}.')\n",
    "print(f'A menor nota é {min(grade_list):.2f}.')\n",
    "average = sum(grade_list)/len(grade_list)\n",
    "print(f'A média é {average:.2f}.')"
   ]
  },
  {
   "cell_type": "markdown",
   "metadata": {
    "id": "tDSD-fHlxVau"
   },
   "source": [
    "Faça um programa que leia as coordenadas de dois vetores a partir do teclado e armazene-as em listas. Exemplo:\n",
    "\n",
    "```\n",
    "vetor1 = [1, 4, 7]\n",
    "vetor2 = [2, 3, 4]\n",
    "```\n",
    "\n",
    "O seu programa deverá realizar a soma vetorial. No exemplo acima, ela é dada por:\n",
    "\n",
    "`soma = [1+2, 4+3, 7+4] = [3, 7, 11]`\n",
    "\n",
    "Dica: note que os valores a serem somados entre si possuem o mesmo índice em listas diferentes."
   ]
  },
  {
   "cell_type": "code",
   "execution_count": 14,
   "metadata": {
    "id": "vmyEilTwxbFX"
   },
   "outputs": [
    {
     "name": "stdout",
     "output_type": "stream",
     "text": [
      "Qual a dimensão dos vetores? 3\n",
      "Digite a coordenada 1 do primeiro vetor: 7\n",
      "Digite a coordenada 2 do primeiro vetor: 8\n",
      "Digite a coordenada 3 do primeiro vetor: 10\n",
      "Digite a coordenada 1 do segundo vetor: 1\n",
      "Digite a coordenada 2 do segundo vetor: 2\n",
      "Digite a coordenada 3 do segundo vetor: 3\n",
      "A soma vetorial resulta em [8, 10, 13]\n"
     ]
    }
   ],
   "source": [
    "vector_dim = int(input('Qual a dimensão dos vetores? '))\n",
    "\n",
    "vector1 = []\n",
    "for i in range(vector_dim):\n",
    "    vector1.append(int(input(f'Digite a coordenada {i+1} do primeiro vetor: ')))\n",
    "\n",
    "vector2 = []\n",
    "for i in range(vector_dim):\n",
    "    vector2.append(int(input(f'Digite a coordenada {i+1} do segundo vetor: ')))\n",
    "\n",
    "vector_sum = []\n",
    "for c1, c2 in zip(vector1,vector2):\n",
    "    vector_sum.append(c1+c2)\n",
    "\n",
    "print(f'A soma vetorial resulta em {vector_sum}')"
   ]
  },
  {
   "cell_type": "markdown",
   "metadata": {
    "id": "8gWPsq8exbQY"
   },
   "source": [
    "Faça um programa que leia as coordenadas de dois vetores a partir do teclado e armazene-as em listas. Exemplo:\n",
    "\n",
    "```\n",
    "vetor1 = [1, 4, 7]\n",
    "vetor2 = [2, 3, 4]\n",
    "```\n",
    "\n",
    "O seu programa deverá realizar o produto escalar. No exemplo acima, ele é dado por:\n",
    "\n",
    "`produto = 1*2 + 4*3 + 7*4 = 42`\n",
    "\n",
    "Atenção: note que o produto escalar, apesar de ser uma operação entre vetores, possui como resultado um único número."
   ]
  },
  {
   "cell_type": "code",
   "execution_count": 17,
   "metadata": {
    "id": "-yWtFTQVxpZl"
   },
   "outputs": [
    {
     "name": "stdout",
     "output_type": "stream",
     "text": [
      "Qual a dimensão dos vetores? 3\n",
      "Digite a coordenada 1 do primeiro vetor: 7\n",
      "Digite a coordenada 2 do primeiro vetor: 8\n",
      "Digite a coordenada 3 do primeiro vetor: 10\n",
      "Digite a coordenada 1 do segundo vetor: 1\n",
      "Digite a coordenada 2 do segundo vetor: 2\n",
      "Digite a coordenada 3 do segundo vetor: 3\n",
      "O produto interno resulta em 53.\n"
     ]
    }
   ],
   "source": [
    "vector_dim = int(input('Qual a dimensão dos vetores? '))\n",
    "\n",
    "vector1 = []\n",
    "for i in range(vector_dim):\n",
    "    vector1.append(int(input(f'Digite a coordenada {i+1} do primeiro vetor: ')))\n",
    "\n",
    "vector2 = []\n",
    "for i in range(vector_dim):\n",
    "    vector2.append(int(input(f'Digite a coordenada {i+1} do segundo vetor: ')))\n",
    "\n",
    "dot_product = 0\n",
    "for c1, c2 in zip(vector1,vector2):\n",
    "    dot_product += c1*c2\n",
    "\n",
    "print(f'O produto interno resulta em {dot_product}.')"
   ]
  },
  {
   "cell_type": "markdown",
   "metadata": {
    "id": "5FejNfE7xpiY"
   },
   "source": [
    "Crie uma tabela de preços (pode ser fixa no seu código) usando lista de listas.\n",
    "\n",
    "Ela pode ser implementada da seguinte maneira: cada \"lista interna\" é uma lista de 2 elementos: na posição 0 temos o nome do produto, na posição 1 temos o preço.\n",
    "\n",
    "Ex:\n",
    "```\n",
    "produtos = [\n",
    "    ['Chocolate', 5.12],\n",
    "    ['Doritos', 15.25],\n",
    "    ['Fandangos', 7.54],\n",
    "]\n",
    "```\n",
    "\n",
    "Faça um programa que permita consultar valores na lista.\n",
    "\n",
    "Ele deverá perguntar para a usuária o nome do produto que ela deseja consultar. Caso o produto exista na lista, seu preço será exibido. Caso contrário, a mensagem \"produto não encontrado\" será exibida.\n",
    "\n",
    "O programa deverá repetir a pergunta após mostrar o resultado, até que a usuária digite \"sair\"."
   ]
  },
  {
   "cell_type": "code",
   "execution_count": 22,
   "metadata": {
    "id": "UOk-sv6yxtDd"
   },
   "outputs": [
    {
     "name": "stdout",
     "output_type": "stream",
     "text": [
      "Entre com um nome do produto: Chocolate\n",
      "O produto Chocolate custa R$5.12\n",
      "Entre com um nome do produto: Fandangos\n",
      "O produto Fandangos custa R$7.54\n",
      "Entre com um nome do produto: leite\n",
      "Produto não encontrado.\n",
      "Entre com um nome do produto: sair\n"
     ]
    }
   ],
   "source": [
    "produtos = [\n",
    "    ['Chocolate', 5.12],\n",
    "    ['Doritos', 15.25],\n",
    "    ['Fandangos', 7.54],\n",
    "]\n",
    "\n",
    "product_name = input('Entre com um nome do produto: ')\n",
    "\n",
    "while product_name.lower() != 'sair': \n",
    "    \n",
    "    for listed_name, price in produtos:\n",
    "        if listed_name == product_name:\n",
    "            print(f'O produto {listed_name} custa R${price:.2f}')\n",
    "            break\n",
    "    else:\n",
    "        print('Produto não encontrado.')\n",
    "    product_name = input('Entre com um nome do produto: ')"
   ]
  },
  {
   "cell_type": "markdown",
   "metadata": {
    "id": "0AMHl6QAxtR4"
   },
   "source": [
    "Vamos fazer um programa para representar uma aluna em formato amigável para salvar em uma tabela ou banco de dados.\n",
    "\n",
    "Peça para a usuária digitar:\n",
    "\n",
    "* o nome da aluna\n",
    "* o número de matrícula\n",
    "* a quantidade de provas realizadas\n",
    "* a nota de cada uma das provas\n",
    "* o percentual de presenças\n",
    "\n",
    "A aluna deverá ser representada em uma lista obedecendo a seguinte estrutura:\n",
    "\n",
    "* índice 0: número de matrícula\n",
    "* índice 1: nome\n",
    "* índice 2: uma lista com todas as suas notas\n",
    "* índice 3: sua média\n",
    "* índice 4: seu percentual de presenças\n",
    "* índice 5: um booleano indicando se a aluna foi aprovada ou reprovada\n",
    "\n",
    "Considere como critério de aprovação nota maior ou igual a 6.0 e presença igual ou superior a 70%.\n",
    "\n",
    "Ex:\n",
    "\n",
    "`aluna = [22042022, 'Brenda', [10.0, 9.0, 9.0, 10.0], 9.5, 80, True]`"
   ]
  },
  {
   "cell_type": "code",
   "execution_count": 3,
   "metadata": {
    "id": "QFepQl4AyNlc"
   },
   "outputs": [
    {
     "name": "stdout",
     "output_type": "stream",
     "text": [
      "Digite o nome do aluno: Brenda\n",
      "Digite a matrícula do aluno: 22042022\n",
      "A quantidade de provas realizadas: 4\n",
      "Nota 1: 10\n",
      "Nota 2: 9\n",
      "Nota 3: 9\n",
      "Nota 4: 10\n",
      "Percentual de presença: 80\n",
      "['22042022', 'Brenda', [10.0, 9.0, 9.0, 10.0], 9.5, 80.0, True]\n"
     ]
    }
   ],
   "source": [
    "name = input(f'Digite o nome do aluno: ')\n",
    "idt = input(f'Digite a matrícula do aluno: ')\n",
    "n_exams = int(input('A quantidade de provas realizadas: '))\n",
    "\n",
    "grades = []\n",
    "for i in range(n_exams):\n",
    "    grades.append(float(input(f'Nota {i+1}: ')))\n",
    "presence_percent = float(input('Percentual de presença: '))\n",
    "\n",
    "avg_grades = sum(grades)/len(grades)\n",
    "data = [idt, name, grades, avg_grades, presence_percent, True if avg_grades >= 6 and presence_percent > 70 else False]\n",
    "\n",
    "print(data)\n",
    "\n"
   ]
  },
  {
   "cell_type": "markdown",
   "metadata": {
    "id": "sNhKz6sNyNv8"
   },
   "source": [
    "Nesta questão, reaproveite o código da questão avaliada da lista de exercícios anterior!\n",
    "\n",
    "Modifique seu código para, ao invés de exibir a tabela Price na tela, armazenar a tabela utilizando uma lista de listas.\n",
    "\n",
    "Cada \"lista interna\" deve conter juros daquele mês, amortização daquele mês, valor da prestação e saldo devedor.\n",
    "\n",
    "Todas essas listas deverão ser adicionadas, na ordem correta, em uma lista geral, que será nossa tabela.\n",
    "\n",
    "Uma vez criada e calculada toda a tabela, pergunte (em loop) para a usuária qual mês ela deseja consultar e mostre para ela quanto de juros serão pagos, quanto será amortizado e qual será o seu saldo devedor naquele mês. Caso ela digite um mês inválido, informe para ela que aquele mês não existe. Caso ela digite um mês negativo, encerre o programa."
   ]
  },
  {
   "cell_type": "code",
   "execution_count": null,
   "metadata": {
    "id": "ua_viT8lyl3c"
   },
   "outputs": [
    {
     "name": "stdout",
     "output_type": "stream",
     "text": [
      "Valor de empréstimo: 10000\n",
      "Quantidade de meses do investimento: 12\n",
      "Taxa de juros nos 12 meses: 1\n",
      "Qual o mês que você deseja saber as informações do empréstimo? 1\n",
      "Parcela 01: J: R$100.00 | A: R$788.49 | Pgto: R$888.49 | Deve: R$9211.51\n",
      "Qual o mês que você deseja saber as informações do empréstimo? 2\n",
      "Parcela 02: J: R$92.12 | A: R$796.37 | Pgto: R$888.49 | Deve: R$8415.14\n",
      "Qual o mês que você deseja saber as informações do empréstimo? 3\n",
      "Parcela 03: J: R$84.15 | A: R$804.34 | Pgto: R$888.49 | Deve: R$7610.80\n",
      "Qual o mês que você deseja saber as informações do empréstimo? 4\n",
      "Parcela 04: J: R$76.11 | A: R$812.38 | Pgto: R$888.49 | Deve: R$6798.42\n",
      "Qual o mês que você deseja saber as informações do empréstimo? 5\n",
      "Parcela 05: J: R$67.98 | A: R$820.50 | Pgto: R$888.49 | Deve: R$5977.92\n",
      "Qual o mês que você deseja saber as informações do empréstimo? 6\n",
      "Parcela 06: J: R$59.78 | A: R$828.71 | Pgto: R$888.49 | Deve: R$5149.21\n",
      "Qual o mês que você deseja saber as informações do empréstimo? 7\n",
      "Parcela 07: J: R$51.49 | A: R$837.00 | Pgto: R$888.49 | Deve: R$4312.21\n",
      "Qual o mês que você deseja saber as informações do empréstimo? 8\n",
      "Parcela 08: J: R$43.12 | A: R$845.37 | Pgto: R$888.49 | Deve: R$3466.85\n",
      "Qual o mês que você deseja saber as informações do empréstimo? 9\n",
      "Parcela 09: J: R$34.67 | A: R$853.82 | Pgto: R$888.49 | Deve: R$2613.03\n",
      "Qual o mês que você deseja saber as informações do empréstimo? 10\n",
      "Parcela 10: J: R$26.13 | A: R$862.36 | Pgto: R$888.49 | Deve: R$1750.67\n",
      "Qual o mês que você deseja saber as informações do empréstimo? 11\n",
      "Parcela 11: J: R$17.51 | A: R$870.98 | Pgto: R$888.49 | Deve: R$879.69\n",
      "Qual o mês que você deseja saber as informações do empréstimo? 12\n",
      "Parcela 12: J: R$8.80 | A: R$879.69 | Pgto: R$888.49 | Deve: R$0.00\n"
     ]
    }
   ],
   "source": [
    "debit_balance = int(input('Valor de empréstimo: '))\n",
    "n_months = int(input('Quantidade de meses do investimento: '))\n",
    "interest_rate = int(input(f'Taxa de juros nos {n_months} meses: '))/100\n",
    "\n",
    "\n",
    "installment = debit_balance * ((1+interest_rate)**n_months*interest_rate)/((1+interest_rate)**n_months-1)\n",
    "\n",
    "data_price = []\n",
    "for i in range(n_months):\n",
    "    interest_value = debit_balance * interest_rate\n",
    "    amortization = installment - interest_value\n",
    "    debit_balance -= amortization\n",
    "    data_price.append([interest_value, amortization, installment, debit_balance])\n",
    "    \n",
    "queried_month = 1\n",
    "while queried_month > 0:\n",
    "    queried_month = int(input('Qual o mês que você deseja saber as informações do empréstimo? '))\n",
    "    \n",
    "    if queried_month > n_months:\n",
    "        print(f'O mês {queried_month} não existe pois o empréstimo é pago em {n_months} prestações.')\n",
    "        break\n",
    "    if queried_month > 0:\n",
    "        index = queried_month -1 \n",
    "        print(f'Parcela {index+1:02d}: J: R${data_price[index][0]:.2f} | A: R${data_price[index][1]:.2f} | Pgto: R${data_price[index][2]:.2f} | Deve: R${data_price[index][3]:.2f}')\n",
    "\n",
    "    "
   ]
  },
  {
   "cell_type": "code",
   "execution_count": null,
   "metadata": {},
   "outputs": [],
   "source": []
  }
 ],
 "metadata": {
  "colab": {
   "provenance": []
  },
  "kernelspec": {
   "display_name": "Python 3 (ipykernel)",
   "language": "python",
   "name": "python3"
  },
  "language_info": {
   "codemirror_mode": {
    "name": "ipython",
    "version": 3
   },
   "file_extension": ".py",
   "mimetype": "text/x-python",
   "name": "python",
   "nbconvert_exporter": "python",
   "pygments_lexer": "ipython3",
   "version": "3.8.10"
  }
 },
 "nbformat": 4,
 "nbformat_minor": 4
}
