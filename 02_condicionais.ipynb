{
 "cells": [
  {
   "cell_type": "markdown",
   "metadata": {
    "id": "M1oib8-O7Bac",
    "jp-MarkdownHeadingCollapsed": true,
    "tags": []
   },
   "source": [
    "# Operações lógicas\n",
    "\n",
    "## Operações booleanas\n",
    "Quando estudamos variáveis, vimos que existem alguns tipos primitivos: str (texto), int (número inteiro), float (número real) e bool (lógico). Vimos diversas operações aritméticas também, como a soma, a divisão ou a potência, cujos resultados são int ou float. Porém, podemos ter também operações cujo resultado é bool: são operações lógicas.\n",
    "\n",
    "### Comparações\n",
    "Algumas das operações lógicas mais conhecidas são as comparações:\n"
   ]
  },
  {
   "cell_type": "code",
   "execution_count": null,
   "metadata": {
    "id": "dsyk3HNY7RCM"
   },
   "outputs": [],
   "source": [
    "comparacao1 = 5 > 3\n",
    "print(comparacao1)\n",
    "comparacao2 = 5 < 3\n",
    "print(comparacao2)"
   ]
  },
  {
   "cell_type": "markdown",
   "metadata": {
    "id": "b5fSa7x37SBI"
   },
   "source": [
    "Se executarmos o código acima, a saída que teremos na tela será:\n",
    "\n",
    "```\n",
    "True\n",
    "False\n",
    "```\n",
    "\n",
    "Isso ocorre porque 5 é maior que 3. Portanto, comparacao1 recebeu uma expressão cujo valor lógico é verdadeiro, portanto seu resultado foi True, e o oposto ocorreu para comparacao2. O Python possui 6 operadores de comparação:\n",
    "\n",
    "* Maior que: >\n",
    "* Maior ou igual: >=\n",
    "* Menor que: <\n",
    "* Menor ou igual: <=\n",
    "* Igual: ==\n",
    "* Diferente: !=\n",
    "\n",
    "> Note que o operador para comparar se 2 valores são iguais é ==, e não =. Isso ocorre porque o operador = é o nosso operador de atribuição: ele diz que a variável à sua esquerda deve receber o valor da expressão à direita. O operador de == irá testar se o valor à sua esquerda é igual ao valor à sua direita e irá responder True ou False, como todos os outros operadores de comparação.\n",
    "\n",
    "### Negação lógica\n",
    "Outra operação lógica bastante importante é a negação. Ela inverte o resultado de uma expressão lógica. Caso a expressão resulte em True, a sua negação irá resultar em False, e vice-versa.\n",
    "\n",
    "A negação em Python é representada pela palavra not. Vamos modificar o exemplo anterior:"
   ]
  },
  {
   "cell_type": "code",
   "execution_count": null,
   "metadata": {
    "id": "lvtn9JJi7nfS"
   },
   "outputs": [],
   "source": [
    "comparacao1 = not 5 > 3\n",
    "print(comparacao1)\n",
    "comparacao2 = not 5 < 3\n",
    "print(comparacao2)"
   ]
  },
  {
   "cell_type": "markdown",
   "metadata": {
    "id": "dKQiQ4pJ7pSZ"
   },
   "source": [
    "O resultado será:\n",
    "\n",
    "```\n",
    "False\n",
    "True\n",
    "```\n",
    "\n",
    "\n",
    "Podemos resumir o funcionamento do not utilizando uma tabela-verdade. Nela testamos os diferentes valores possíveis para a entrada e anotamos o resultado para cada conjunto de valores:\n",
    "\n",
    "```\n",
    "A     not A\n",
    "True  False\n",
    "False True\n",
    "```\n",
    "\n",
    "### Conjunção lógica\n",
    "Em alguns casos precisamos testar se duas ou mais condições são verdadeiras.\n",
    "\n",
    "Imagine, por exemplo, que o critério de aprovação em uma escola seja a média superior a 6.0 e presença superior a 75%. Neste caso, o aluno precisa atender a ambos os critérios para ser aprovado. Se ele tirou uma ótima nota, mas faltou demais, será reprovado. Se ele compareceu a todas as aulas, mas teve notas baixas, idem.\n",
    "\n",
    "A conjunção lógica, também conhecida como e lógico, é representada em Python pela palavra and.\n",
    "\n",
    "O código abaixo testa se é verdade que o aluno foi aprovado:"
   ]
  },
  {
   "cell_type": "code",
   "execution_count": null,
   "metadata": {
    "id": "P68UJcjA7_dO"
   },
   "outputs": [],
   "source": [
    "media = float(input('Digite a média do aluno: '))\n",
    "presenca = float(input('Digite as presenças do aluno: '))\n",
    "\n",
    "aprovado = media >= 6.0 and presenca >= 0.75\n",
    "print('O aluno foi aprovado?', aprovado)"
   ]
  },
  {
   "cell_type": "markdown",
   "metadata": {
    "id": "HQzisikx8CCF"
   },
   "source": [
    "Execute o código acima e teste algumas combinações diferentes de valores. Note que basta uma das condições ser falsa para que o resultado total seja False.\n",
    "\n",
    "A tabela-verdade para o e lógico entre duas entradas A e B é:\n",
    "```\n",
    "A     B     A and B\n",
    "False False False\n",
    "False True  False\n",
    "True  False False\n",
    "True  True  True\n",
    "```\n",
    "### Disjunção lógica\n",
    "Nem sempre precisamos que ambas as condições sejam verdadeiras. Vários de nós já nos deparamos com promoções de queima de estoque anunciadas da seguinte maneira: \"promoção válida até o dia 15 deste mês ou enquanto durarem os estoques\".\n",
    "\n",
    "Neste caso, para a promoção acabar, não é necessário que ambas as coisas ocorram (atingir o dia 15 e zerar o estoque). Se ainda temos 10 itens no estoque, mas hoje é dia 16, a promoção acabou. Se hoje é dia 5, mas o estoque está zerado, a promoção acabou.\n",
    "\n",
    "A disjunção lógica, também chamada de ou lógico, é representada em Python pela palavra or.\n",
    "\n",
    "O programa abaixo testa se a promoção acabou:"
   ]
  },
  {
   "cell_type": "code",
   "execution_count": null,
   "metadata": {
    "id": "WJ2aa2gA8UET"
   },
   "outputs": [],
   "source": [
    "dia_final = int(input('Digite o dia do mês para encerrar a promoção: '))\n",
    "dia_atual = int(input('Digite o dia do mês atual: '))\n",
    "estoque = int(input('Digite a quantidade de itens no estoque: '))\n",
    "\n",
    "acabou = dia_atual > dia_final or estoque == 0\n",
    "print(acabou)"
   ]
  },
  {
   "cell_type": "markdown",
   "metadata": {
    "id": "U48mm37R8X_Q"
   },
   "source": [
    "Faça alguns testes com o programa acima e note que basta uma condição ser verdadeira para seu resultado ser True.\n",
    "\n",
    "A tabela-verdade para o ou lógico é:\n",
    "\n",
    "```\n",
    "A     B     A and B\n",
    "False False False\n",
    "False True  True\n",
    "True  False True\n",
    "True  True  True\n",
    "```\n",
    "\n",
    "> Resumo:\n",
    "> \n",
    "> * not: inverte a expressão original\n",
    "> * and: verdadeiro apenas se ambas as condições forem verdadeiras\n",
    "> * or: falso apenas se ambas as condições forem falsas\n",
    "\n",
    "## Valores truthy e falsy\n",
    "Valores não-booleanos em Python, como inteiros ou strings, podem ser convertidos para booleanos utilizando a função bool, da mesma maneira que utilizamos int e float em exemplos anteriores para converter entradas de string para número.\n",
    "\n",
    "Certos valores serão convertidos para True, enquanto outros serão convertidos para False. Em certos contextos, como expressões condicionais - que serão estudadas muito em breve - essa conversão ocorre de maneira implícita. Quando um valor pode ser interpretado como True, dizemos que ele é um valor truthy, e quando ele pode ser interpretado como False, ele é conhecido como um valor falsy.\n",
    "\n",
    "Valores Falsy comuns são:\n",
    "\n",
    "* O valor inteiro 0\n",
    "* O valor real 0.0\n",
    "* Strings vazias (strings com 0 caracteres)\n",
    "* Coleções vazias (listas, tuplas, dicionários etc. com 0 elementos)\n",
    "* A constante None, que representa uma variável \"vazia\"\n",
    "\n",
    "Valores Truthy comuns são:\n",
    "\n",
    "* Inteiros diferentes de 0\n",
    "* Reais diferentes de 0.0\n",
    "* Strings contendo ao menos 1 caractere\n",
    "* Coleções (listas, tuplas, dicionários etc.) com pelo menos 1 elemento\n",
    "\n",
    "Não se preocupe se não estiver familiarizado com todos os dados exemplificados aqui. Estudaremos cada um deles em outros momentos."
   ]
  },
  {
   "cell_type": "markdown",
   "metadata": {
    "id": "_sSl9cm39Nea",
    "jp-MarkdownHeadingCollapsed": true,
    "tags": []
   },
   "source": [
    "# Expressões condicionais\n",
    "## Se\n",
    "Os programas do capítulo Operações Lógicas não são \"amigáveis\" para o usuário. Ao invés de mostrar True ou False, por exemplo, seria mais útil exibir se o aluno foi \"Aprovado\" ou \"Reprovado\".\n",
    "\n",
    "Para que possamos escrever na tela as mensagens \"Aprovado\" ou \"Reprovado\", é necessário que haja em algum ponto do código o trecho print('Aprovado') e o trecho print('Reprovado'). Porém, não gostaríamos que ambos fossem exibidos ao mesmo tempo.\n",
    "\n",
    "Precisamos ramificar o fluxo de execução de nosso programa: em certas circunstâncias, o fluxo deve executar algumas linhas de código e ignorar outras.\n",
    "\n",
    "Uma condicional é uma instrução em Python que decide se outras linhas serão ou não executadas dependendo do resultado de uma condição. A condição nada mais é do que uma expressão lógica. Se a condição for verdadeira, as linhas são executadas. Senão, são ignoradas.\n",
    "\n",
    "A condicional mais básica em Python é o if (se):\n"
   ]
  },
  {
   "cell_type": "code",
   "execution_count": null,
   "metadata": {
    "id": "UDQY1_799d5F"
   },
   "outputs": [],
   "source": [
    "\n",
    "nota1 = float(input('Digite a nota 1: '))\n",
    "nota2 = float(input('Digite a nota2: '))\n",
    "\n",
    "media = (nota1 + nota2)/2\n",
    "\n",
    "if media >= 6.0:\n",
    "  print('Aprovado')\n",
    "print('Média: ', media)\n"
   ]
  },
  {
   "cell_type": "markdown",
   "metadata": {
    "id": "5Xwftf4Z9gda"
   },
   "source": [
    "Execute o programa acima. Note que se (if) a média é maior ou igual a 6.0, ele exibe a mensagem \"Aprovado\" e depois a média. Caso contrário, ele apenas exibe a média.\n",
    "\n",
    "> Para dizermos que uma ou mais linhas \"pertencem\" ao nosso if, usamos um símbolo de parágrafo (tecla \"Tab\" no teclado). O programa sabe que o if \"acabou\" quando as linhas param de ter \"tabs\". Esses tabs são chamados de indentação. Tanto no if quanto no restante das estruturas de controle que estudaremos é obrigatório ter pelo menos 1 linha indentada abaixo da linha de controle.\n",
    "\n",
    "## Senão\n",
    "\n",
    "Note que conseguimos fazer nosso programa decidir se ele exibe a mensagem \"Aprovado\" ou não. O próximo passo seria fazer ele decidir entre 2 mensagens diferentes: \"Aprovado\" ou \"Reprovado\". Um primeiro jeito de fazer isso seria um segundo if invertendo a condição:\n"
   ]
  },
  {
   "cell_type": "code",
   "execution_count": null,
   "metadata": {
    "id": "kxmZxK649wQS"
   },
   "outputs": [],
   "source": [
    "nota1 = float(input('Digite a nota 1: '))\n",
    "nota2 = float(input('Digite a nota2: '))\n",
    "\n",
    "media = (nota1 + nota2)/2\n",
    "\n",
    "if media >= 6.0:\n",
    "  print('Aprovado')\n",
    "if media < 6.0:\n",
    "  print('Reprovado')\n",
    "print('Média: ', media)"
   ]
  },
  {
   "cell_type": "markdown",
   "metadata": {
    "id": "E1zdimfb92xA"
   },
   "source": [
    "O programa acima funciona. Porém, conforme nossos programas começam a ficar mais complexos e nossos if começam a ter linhas demais, podemos nos perder e esquecer que esses 2 if são 2 casos mutuamente exclusivos. Pior ainda, podemos vir a acrescentar condições novas em um e esquecer de atualizar no outro.\n",
    "\n",
    "Nos casos em que temos condições mutuamente exclusivas, podemos utilizar um par if/else (se/senão). Se a condição for verdadeira, faça tal coisa. Senão, faça outra coisa."
   ]
  },
  {
   "cell_type": "code",
   "execution_count": null,
   "metadata": {
    "id": "SnHaQ8Hw97_S"
   },
   "outputs": [],
   "source": [
    "nota1 = float(input('Digite a nota 1: '))\n",
    "nota2 = float(input('Digite a nota2: '))\n",
    "\n",
    "media = (nota1 + nota2)/2\n",
    "\n",
    "if media >= 6.0:\n",
    "  print('Aprovado')\n",
    "else:\n",
    "  print('Reprovado')\n",
    "print('Média: ', media)"
   ]
  },
  {
   "cell_type": "markdown",
   "metadata": {
    "id": "DdKkqo1T-Cvz"
   },
   "source": [
    "> Note que o else não possui condição. A condição dele é implícita: é a negação da condição do if. Se o if executar, o else não executa e vice-versa. Consequentemente, o else não pode existir sem um if.\n",
    "\n",
    "## Aninhando condições\n",
    "É possível aninhar condições: ou seja, colocar um novo if dentro de outro if ou else. Imagine que nossa escola não reprova direto o aluno com nota inferior a 6, e sim permite que ele faça uma recuperação. Porém, o aluno precisa ter tirado no mínimo média 3 para que permitam que faça a recuperação. Assim temos:\n",
    "\n",
    "Se nota maior ou igual a 6: \n",
    "* aprovado.\n",
    "\n",
    "Senão:\n",
    "* Se nota entre 6 e 3: \n",
    "* * recuperação.\n",
    "* Senão: \n",
    "* * reprovado. \n",
    "\n",
    "Em Python:"
   ]
  },
  {
   "cell_type": "code",
   "execution_count": null,
   "metadata": {
    "id": "1ppDEwrk-SQi"
   },
   "outputs": [],
   "source": [
    "nota1 = float(input('Digite a nota 1: '))\n",
    "nota2 =float(input('Digite a nota 2: '))\n",
    "\n",
    "media = (nota1 + nota2)/2\n",
    "\n",
    "if media >= 6.0:\n",
    "  print('Aprovado')\n",
    "else:\n",
    "  if media >= 3.0:\n",
    "    print('Recuperação')\n",
    "  else:\n",
    "    print('Reprovado')\n",
    "\n",
    "print('Média: ', media)"
   ]
  },
  {
   "cell_type": "markdown",
   "metadata": {
    "id": "r7f4myFK-iJ6"
   },
   "source": [
    "## Senão-se\n",
    "Note que se começarmos a aninhar muitas condições (if dentro de else dentro de else dentro de else...), nosso código pode começar a ficar confuso, com a aparência de uma \"escadinha\":\n",
    "\n",
    "```\n",
    "Se\n",
    "Senão:\n",
    "    Se\n",
    "    Senão:\n",
    "        Se\n",
    "        Senão:\n",
    "            Se:\n",
    "            Senão:\n",
    "                Se:\n",
    "                 ...\n",
    "```\n",
    "\n",
    "Isso pode tornar o código bastante complexo e difícil de atualizar ou corrigir erros posteriormente. Para quebrar a \"escadinha\", existe a possibilidade de juntarmos o \"se\" do próximo nível com o \"senão\" do nível anterior: o elif: else + if (senão + se).\n",
    "\n",
    "O elif só é executado se um if der errado (ou seja, ele é um else), mas ele também tem uma condição que deve ser respeitada (ou seja, ele também é um if). Podemos reescrever nosso código anterior utilizando um elif:\n"
   ]
  },
  {
   "cell_type": "code",
   "execution_count": null,
   "metadata": {
    "id": "rLAZ2NH6-r29"
   },
   "outputs": [],
   "source": [
    "nota1 = float(input('Digite a nota 1: '))\n",
    "nota2 =float(input('Digite a nota 2: '))\n",
    "\n",
    "media = (nota1 + nota2)/2\n",
    "\n",
    "if media >= 6.0:\n",
    "  print('Aprovado')\n",
    "elif media >= 3.0:\n",
    "  print('Recuperação')\n",
    "else:\n",
    "  print('Reprovado')\n",
    "\n",
    "print('Média: ', media)"
   ]
  },
  {
   "cell_type": "markdown",
   "metadata": {
    "id": "OY0oClfG-3tD"
   },
   "source": [
    "Podemos usar quantos elif nós quisermos. Sempre que um deles der errado, o próximo será testado. Quando algum deles der certo, todo o restante será ignorado.\n",
    "\n",
    "Opcionalmente, podemos ter um else ao final do bloco, que só será executado se o if e todos os elif derem errado.\n",
    "\n",
    "O bloco, obrigatoriamente, deve ser iniciado com um if.\n",
    "\n",
    "**Atenção**\n",
    "> Você lembra dos valores truthy e falsy? Nós conversamos sobre eles no capítulo Operações Lógicas. Uma variável, qualquer que seja seu tipo, pode ser interpretada pelo if como se fosse uma expressão lógica.\n",
    "> \n",
    "> Se x for um inteiro, o bloco if x: será executado caso x seja diferente de zero, por exemplo.\n",
    "> \n",
    "> Uma fonte comum de erros em iniciantes envolve o uso de and ou or em condicionais e a forma como Python lida com valores truthy e falsy. Execute o trecho de código abaixo:"
   ]
  },
  {
   "cell_type": "code",
   "execution_count": null,
   "metadata": {
    "id": "Wr11Zt58-_ZW"
   },
   "outputs": [],
   "source": [
    "seguro = input('Deseja adquirir um seguro opcional (sim/não): ')\n",
    "\n",
    "if seguro != 'sim' and 'não':\n",
    "    print('Você não digitou uma opção válida')"
   ]
  },
  {
   "cell_type": "markdown",
   "metadata": {
    "id": "ZaAX8RiC_B5B"
   },
   "source": [
    "> Você verá que ele nem sempre se comporta como você imaginaria. O Python não irá interpretar a condição do if como \"seguro diferente de 'sim' e seguro diferente de 'não'\", e sim como \"(seguro diferente de 'sim') e ('não')."
   ]
  },
  {
   "cell_type": "markdown",
   "metadata": {
    "id": "i1IB40kJAzWh"
   },
   "source": [
    "# Exercícios\n",
    "\n",
    "Faça um programa que pede para o usuário digitar um número e responde se o número é positivo ou negativo.\n",
    "\n"
   ]
  },
  {
   "cell_type": "code",
   "execution_count": 2,
   "metadata": {
    "id": "xUb8JTuxA4CI"
   },
   "outputs": [
    {
     "name": "stdout",
     "output_type": "stream",
     "text": [
      "Digite um número: 17\n",
      "número positivo\n"
     ]
    }
   ],
   "source": [
    "num = int(input(\"Digite um número: \"))\n",
    "\n",
    "if num > 0:\n",
    "    print(\"número positivo\")\n",
    "else:\n",
    "    print(\"número negativo\")"
   ]
  },
  {
   "cell_type": "markdown",
   "metadata": {
    "id": "OkSL3yxZA4PZ"
   },
   "source": [
    "Faça um programa que pede para a usuária digitar um número e responde se o número é par ou ímpar.\n",
    "\n"
   ]
  },
  {
   "cell_type": "code",
   "execution_count": 3,
   "metadata": {
    "id": "ykf08TYbA7xG"
   },
   "outputs": [
    {
     "name": "stdout",
     "output_type": "stream",
     "text": [
      "Digite um número: 6\n",
      "número par\n"
     ]
    }
   ],
   "source": [
    "num = int(input(\"Digite um número: \"))\n",
    "\n",
    "\n",
    "if num%2 == 0:\n",
    "    print(\"número par\")\n",
    "else:\n",
    "    print(\"número ímpar\")"
   ]
  },
  {
   "cell_type": "code",
   "execution_count": 4,
   "metadata": {},
   "outputs": [
    {
     "name": "stdout",
     "output_type": "stream",
     "text": [
      "Digite um número: 6\n",
      "número par.\n"
     ]
    }
   ],
   "source": [
    "num = int(input(\"Digite um número: \"))\n",
    "\n",
    "print(f\"número {'par' if num%2 == 0 else 'ímpar'}.\")"
   ]
  },
  {
   "cell_type": "markdown",
   "metadata": {
    "id": "ZV7mFcz4A-Dk"
   },
   "source": [
    "Faça um programa que pergunta o nome do usuário e o horário do dia (apenas horas, sem os minutos). O programa deverá responder:\n",
    "\n",
    "* ```Bom dia, [nome]!``` caso o horário esteja entre 4 e 11.\n",
    "* ```Boa tarde, [nome]!``` caso o horário esteja entre 12 e 17.\n",
    "* ```Boa noite, [nome]!``` caso o horário esteja entre 18 e 23 ou 0 e 3.\n",
    "* ```Horário inválido``` caso o horário seja superior a 23 ou inferior a 0."
   ]
  },
  {
   "cell_type": "code",
   "execution_count": 1,
   "metadata": {
    "id": "MqMV_GGbBB91"
   },
   "outputs": [
    {
     "name": "stdout",
     "output_type": "stream",
     "text": [
      "Qual seu nome: Bruno\n",
      "Qual o horário: 17\n",
      "Boa tarde, Bruno\n"
     ]
    }
   ],
   "source": [
    "nome = input(\"Qual seu nome: \")\n",
    "hora = int(input(\"Qual o horário: \"))\n",
    "\n",
    "if  18 < hora <= 23 or 0 < hora <= 3:\n",
    "    print(f\"Boa noite, {nome}\")\n",
    "elif  hora <= 11:\n",
    "    print(f\"Bom dia, {nome}\")\n",
    "elif  hora <= 17:\n",
    "    print(f\"Boa tarde, {nome}\")\n",
    "else:\n",
    "    print(f\"Horário Inválido\")"
   ]
  },
  {
   "cell_type": "markdown",
   "metadata": {
    "id": "BvB2cq8-BCr8"
   },
   "source": [
    "Faça um programa que pergunta o nome e o gênero da pessoa que está utilizando. O programa deverá responder:\n",
    "\n",
    "* ```Seja bem-vindo, [nome]!``` caso o gênero seja igual a 'M'\n",
    "* ```Seja bem-vinda, [nome]!``` caso o gênero seja igual a 'F'\n",
    "* ```Seja bem-vind@, [nome]!``` caso o gênero seja 'Neutro' ou 'Outro'\n",
    "* ```Opção inválida``` caso gênero não possua um dos 3 valores descritos acima."
   ]
  },
  {
   "cell_type": "code",
   "execution_count": 5,
   "metadata": {
    "id": "27-Xu2_xBOME"
   },
   "outputs": [
    {
     "name": "stdout",
     "output_type": "stream",
     "text": [
      "Qual seu nome: Bruno\n",
      "Qual seu gênero: M\n",
      "Seja bem-vindo, Bruno\n"
     ]
    }
   ],
   "source": [
    "nome = input(\"Qual seu nome: \")\n",
    "genero = input(\"Qual seu gênero: \")\n",
    "\n",
    "if  genero == \"M\":\n",
    "    print(f\"Seja bem-vindo, {nome}\")\n",
    "elif  genero == \"F\":\n",
    "    print(f\"Seja bem-vinda, {nome}\")\n",
    "elif  genero == \"Neutro\" or genero == \"Outro\":\n",
    "    print(f\"Seja bem-vind@, {nome}\")\n",
    "else:\n",
    "    print(f\"Opção inválida\")"
   ]
  },
  {
   "cell_type": "markdown",
   "metadata": {
    "id": "GifD2E6LBcmy"
   },
   "source": [
    "Faça um programa que deverá pedir as 2 notas de uma aluna e calcular sua média. Considere que as notas serão de 0 a 100.\n",
    "\n",
    "O programa deverá informar a média da aluna e seu status, obedecendo as regrinhas abaixo:\n",
    "\n",
    "* Aprovada, caso a média seja pelo menos 70.\n",
    "* Exame, caso a média seja pelo menos 30 e menor do que 70.\n",
    "* Reprovada caso a média seja inferior a 30."
   ]
  },
  {
   "cell_type": "code",
   "execution_count": 10,
   "metadata": {
    "id": "iDjI-71fBkw7"
   },
   "outputs": [
    {
     "name": "stdout",
     "output_type": "stream",
     "text": [
      "Qual a sua nota no 1 bimestre? 70\n",
      "Qual a sua nota no 2 bimestre? 80\n",
      "75.0\n",
      "Aprovada\n"
     ]
    }
   ],
   "source": [
    "nota1 = int(input(\"Qual a sua nota no 1 bimestre? \"))\n",
    "nota2 = int(input(\"Qual a sua nota no 2 bimestre? \"))\n",
    "\n",
    "media = (nota1 + nota2)/2\n",
    "print(media)\n",
    "if media >= 70:\n",
    "    print(f\"Aprovada\")\n",
    "elif media >= 30:\n",
    "    print(f\"Exame\")\n",
    "else:\n",
    "    print(f\"Reprovada\")"
   ]
  },
  {
   "cell_type": "markdown",
   "metadata": {
    "id": "jz8k6rr3Bk_M"
   },
   "source": [
    "Modifique o programa das médias do exercício anterior da seguinte maneira:\n",
    "\n",
    "Caso a aluna tenha ficado de exame, pergunte a nota do exame.\n",
    "\n",
    "Uma nova média deve ser calculada entre a média original e a nota do exame:\n",
    "\n",
    "media_exame = (media + exame)/2\n",
    "\n",
    "O programa deve exibir essa nova média junto do novo status:\n",
    "\n",
    "* Aprovada por exame caso a media_exame seja pelo menos 50.\n",
    "* Reprovada caso a media_exame seja inferior a 50."
   ]
  },
  {
   "cell_type": "code",
   "execution_count": 11,
   "metadata": {
    "id": "Hkf--Hp3BqOH"
   },
   "outputs": [
    {
     "name": "stdout",
     "output_type": "stream",
     "text": [
      "Qual a sua nota no 1 bimestre? 70\n",
      "Qual a sua nota no 2 bimestre? 50\n",
      "Ficou de Exame\n",
      "Qual a nota do exame? 80\n",
      "Aprovada\n"
     ]
    }
   ],
   "source": [
    "nota1 = int(input(\"Qual a sua nota no 1 bimestre? \"))\n",
    "nota2 = int(input(\"Qual a sua nota no 2 bimestre? \"))\n",
    "\n",
    "media = (nota1 +  nota2)/2\n",
    "\n",
    "if  media >= 70:\n",
    "    print(f\"Aprovada\")\n",
    "elif  media >= 30:\n",
    "    print(f\"Ficou de Exame\")\n",
    "    media_exame = (media + float(input('Qual a nota do exame? ')))/2\n",
    "    print('Aprovada') if media_exame >= 50 else print('Reprovada')      \n",
    "else:\n",
    "    print(f\"Reprovada\")"
   ]
  },
  {
   "cell_type": "markdown",
   "metadata": {
    "id": "tk5Wn9o9Bqbg"
   },
   "source": [
    "Faça um programa que pergunta o comprimento de cada um dos 3 lados de um triângulo.\n",
    "\n",
    "O programa deverá responder:\n",
    "\n",
    "* É triângulo, caso nenhum dos lados possua comprimento superior à soma dos outros dos lados.\n",
    "\n",
    "* Não é triângulo, caso um dos lados seja possua comprimento superior à soma dos outros dois lados.\n",
    "\n",
    "Exemplos:\n",
    "\n",
    "Se os lados forem 3, 4 e 5, o triângulo existe, pois:\n",
    "\n",
    "* 5 < 3 + 4\n",
    "* 4 < 3 + 5\n",
    "* 3 < 4 + 5\n",
    "\n",
    "Se os lados forem 6, 10 e 6, o triângulo também existe:\n",
    "\n",
    "* 6 < 10 + 6\n",
    "* 6 < 10 + 6\n",
    "* 10 < 6 + 6\n",
    "\n",
    "Já se os supostos lados forem 2, 5 e 2, o triângulo não existe, pois:\n",
    "\n",
    "* 5 > 2 + 2"
   ]
  },
  {
   "cell_type": "code",
   "execution_count": 13,
   "metadata": {
    "id": "6ERJJVrDB1Ab"
   },
   "outputs": [
    {
     "name": "stdout",
     "output_type": "stream",
     "text": [
      "Qual o comprimento do primeiro lado? 3\n",
      "Qual o comprimento do segundo lado? 4\n",
      "Qual o comprimento do terceiro lado? 5\n",
      "Forma um triângulo.\n"
     ]
    }
   ],
   "source": [
    "l1 = int(input('Qual o comprimento do primeiro lado? '))\n",
    "l2 = int(input('Qual o comprimento do segundo lado? '))\n",
    "l3 = int(input('Qual o comprimento do terceiro lado? '))\n",
    "\n",
    "if(l1<l2+l3 and l2<l1+l3 and l3<l2+l1):\n",
    "    print('Forma um triângulo.')\n",
    "else:\n",
    "    print('Não forma um triângulo.')\n"
   ]
  },
  {
   "cell_type": "markdown",
   "metadata": {
    "id": "aNb-sM6AB93z"
   },
   "source": [
    "Modifique o programa dos triângulos do exercício anterior da seguinte maneira:\n",
    "\n",
    "Caso o programa tenha determinado que o triângulo existe, informe também o seu tipo:\n",
    "\n",
    "* Equilátero, caso os 3 lados sejam iguais\n",
    "* Isósceles, caso apenas 2 lados sejam iguais\n",
    "* Escaleno, caso todos os lados sejam diferentes entre si"
   ]
  },
  {
   "cell_type": "code",
   "execution_count": 14,
   "metadata": {
    "id": "MiJjoe92CAeb"
   },
   "outputs": [
    {
     "name": "stdout",
     "output_type": "stream",
     "text": [
      "Qual o comprimento do primeiro lado? 3\n",
      "Qual o comprimento do segund lado? 4\n",
      "Qual o comprimento do terceiro lado? 5\n",
      "Forma um triângulo.\n",
      "Triângulo escaleno.\n"
     ]
    }
   ],
   "source": [
    "l1 = int(input('Qual o comprimento do primeiro lado? '))\n",
    "l2 = int(input('Qual o comprimento do segund lado? '))\n",
    "l3 = int(input('Qual o comprimento do terceiro lado? '))\n",
    "\n",
    "if(l1<l2+l3 and l2<l1+l3 and l3<l2+l1):\n",
    "    print('Forma um triângulo.')\n",
    "\n",
    "    if(l1==l2==l3):\n",
    "        print('Triângulo equilátero.')\n",
    "    elif(l1==l2 or l1==l3 or l2==l3):\n",
    "        print('Triângulo isóceles.')\n",
    "    else:\n",
    "        print('Triângulo escaleno.')\n",
    "else:\n",
    "    print('Não forma um triângulo.')"
   ]
  },
  {
   "cell_type": "markdown",
   "metadata": {
    "id": "NRSL5HT0CBA_"
   },
   "source": [
    "Faça um programa que pede para a usuária digitar, separadamente, os coeficientes a, b e c de uma equação de segundo grau.\n",
    "\n",
    "O programa deverá calcular o valor do discriminante (delta) e:\n",
    "\n",
    "* Caso seja positivo, o programa deverá calcular e exibir na tela os valores de suas duas raizes reais e distintas.\n",
    "\n",
    "* Caso seja zero, o programa deverá calcular e exibir na tela a sua única raiz.\n",
    "\n",
    "* Caso seja negativo, o programa deverá exibir a mensagem Não possui raizes reais.\n",
    "\n",
    "Dica 1: caso precise refrescar a memória com as fórmulas, este site pode ser útil.\n",
    "\n",
    "Dica 2: elevar um número ao expoente meio (1/2 ou 0.5) equivale a calcular sua raiz quadrada. 4 elevado a (1/2) dá 2. 9 elevado a (1/2) dá 3."
   ]
  },
  {
   "cell_type": "code",
   "execution_count": 15,
   "metadata": {
    "id": "-2W_1tHvCFph"
   },
   "outputs": [
    {
     "name": "stdout",
     "output_type": "stream",
     "text": [
      "coeficiente a: 1\n",
      "coeficiente b: 2\n",
      "coeficiente c: 1\n",
      "Existem duas raízes reais iguais a -1.0\n"
     ]
    }
   ],
   "source": [
    "a = int(input(\"coeficiente a: \"))\n",
    "b = int(input(\"coeficiente b: \"))\n",
    "c = int(input(\"coeficiente c: \"))\n",
    "\n",
    "delta = (b**2) - 4*a*c\n",
    "\n",
    "if delta > 0:\n",
    "    raiz1 = (-b + (delta**(1/2))) / (2*a)\n",
    "    raiz2 = (-b - (delta**(1/2))) / (2*a)\n",
    "    print(f\"A primeira raiz é {raiz1}, a segunda raiz é {raiz2}\")\n",
    "elif delta == 0:\n",
    "    raiz = -b / (2*a)\n",
    "    print(f\"Existem duas raízes reais iguais a {raiz}\")\n",
    "elif delta < 0:\n",
    "    print(f\"A primeira raiz é {-b/(2*a):.2f}+{abs(delta) / (2*a):.2f}i, a segunda raiz é {-b/(2*a):.2f}-{abs(delta) / (2*a):.2f}i\")"
   ]
  },
  {
   "cell_type": "markdown",
   "metadata": {
    "id": "GAE4NmFkCFzQ"
   },
   "source": [
    "Faça um programa que pergunta um ano para a usuária e responde se ele é bissexto ou não.\n",
    "\n",
    "A regra geral para determinar se um ano é bissexto é: todo ano divisível por 4, a princípio, é bissexto: 2016, 2020, 2024...\n",
    "\n",
    "Porém existe uma exceção: anos divisíveis por 100 não são bissextos. O ano 2100, por exemplo, é divisível por 4, mas como também é divisível por 100, ele não pode ser bissexto.\n",
    "\n",
    "A exceção possui uma exceção: anos divisíveis por 400 são bissextos. O ano 2000, por exemplo, é divisível por 100. Porém, como ele também é divisível por 400, ele torna-se bissexto."
   ]
  },
  {
   "cell_type": "code",
   "execution_count": 17,
   "metadata": {
    "id": "XJfuJkmWDrn-"
   },
   "outputs": [
    {
     "name": "stdout",
     "output_type": "stream",
     "text": [
      "Qual o ano? 2000\n",
      "É bissexto.\n"
     ]
    }
   ],
   "source": [
    "ano = int(input(\"Qual o ano? \"))\n",
    "\n",
    "if ano%4==0 and not(ano%100==0):\n",
    "    print('É bissexto.')\n",
    "elif ano%4==0 and ano%100==0 and ano%400==0:\n",
    "    print('É bissexto.')\n",
    "else:\n",
    "    print('Não é bissexto.')"
   ]
  },
  {
   "cell_type": "markdown",
   "metadata": {
    "id": "9cPG1rK1Dr5V"
   },
   "source": [
    "Um banco oferece as seguintes opções de aplicação de renda fixa:\n",
    "\n",
    "* Fundo A: aceita aplicações a partir de 50 reais, não possui tempo mínimo de aplicação e rende 10% ao ano.\n",
    "\n",
    "* Fundo B: aceita aplicações a partir de 100 reais, possui tempo mínimo de aplicação de 1 ano e rende 12% ao ano.\n",
    "\n",
    "* Fundo C: aceita aplicações a partir de 500 reais, possui tempo mínimo de aplicação de 2 anos e rende 13% ao ano.\n",
    "\n",
    "* Fundo D: aceita aplicações a partir de 1000 reais, possui tempo mínimo de aplicação de 3 anos e rende 15% ao ano.\n",
    "\n",
    "* Fundo E: aceita aplicações a partir de 3000 reais, possui tempo mínimo de aplicação de 5 anos e rende 18% ao ano.\n",
    "\n",
    "Faça um programa que pergunta para a usuária em qual fundo ela deseja aplicar seu dinheiro, quanto dinheiro ela possui e o tempo que ela pretende deixar o dinheiro aplicado (em anos).\n",
    "\n",
    "Caso o valor e o tempo estejam adequados às regras do fundo selecionado, utilize a fórmula dos juros compostos para informar para ela o valor total que ela irá sacar ao final do período informado por ela.\n",
    "\n",
    "Caso contrário, exiba a mensagem Não é possível realizar essa aplicação."
   ]
  },
  {
   "cell_type": "code",
   "execution_count": 21,
   "metadata": {
    "id": "xNJpc7tZDxpC"
   },
   "outputs": [
    {
     "name": "stdout",
     "output_type": "stream",
     "text": [
      "Qual fundo você deseja aplicar o seu dinheiro? A\n",
      "Qual de dinheiro você irá aplicar? 1000\n",
      "Por quanto tempo você irá aplicar (em ano)? 10\n",
      "O valor total que você irá sacar ao final do periodo será: R$2593.74\n"
     ]
    }
   ],
   "source": [
    "fundo = input(\"Qual fundo você deseja aplicar o seu dinheiro? \")\n",
    "valor = float(input(\"Qual de dinheiro você irá aplicar? \"))\n",
    "tempo = float(input(\"Por quanto tempo você irá aplicar (em ano)? \"))\n",
    "taxa = 0\n",
    "\n",
    "if fundo == \"A\" and valor >= 50:\n",
    "    taxa = 10\n",
    "    valor_final = valor * ( 1 + (taxa/100))**tempo\n",
    "    print(f\"O valor total que você irá sacar ao final do periodo será: R${valor_final:.2f}\")\n",
    "\n",
    "elif fundo == \"B\" and valor >= 100 and tempo >= 1:\n",
    "    taxa = 12\n",
    "    valor_final = valor * ( 1 + (taxa/100))**tempo\n",
    "    print(f\"O valor total que você irá sacar ao final do periodo será: R${valor_final:.2f}\")\n",
    "\n",
    "elif fundo == \"C\" and valor >= 500 and tempo >= 2:\n",
    "    taxa = 13\n",
    "    valor_final = valor * ( 1 + (taxa/100))**tempo\n",
    "    print(f\"O valor total que você irá sacar ao final do periodo será: R${valor_final:.2f}\")\n",
    "\n",
    "elif fundo == \"D\" and valor >= 1000 and tempo >= 3:\n",
    "    taxa = 15\n",
    "    valor_final = valor * ( 1 + (taxa/100))**tempo\n",
    "    print(f\"O valor total que você irá sacar ao final do periodo será: R${valor_final:.2f}\")\n",
    "\n",
    "elif fundo == \"E\" and valor >= 3000 and tempo >= 5:\n",
    "    taxa = 18\n",
    "    valor_final = valor * ( 1 + (taxa/100))**tempo\n",
    "    print(f\"O valor total que você irá sacar ao final do periodo será: R${valor_final:.2f}\")\n",
    "\n",
    "else:\n",
    "    valor_final = 0\n",
    "    print(\"Não é possível realizar essa aplicação.\")\n"
   ]
  },
  {
   "cell_type": "code",
   "execution_count": null,
   "metadata": {},
   "outputs": [],
   "source": []
  }
 ],
 "metadata": {
  "colab": {
   "provenance": []
  },
  "kernelspec": {
   "display_name": "Python 3 (ipykernel)",
   "language": "python",
   "name": "python3"
  },
  "language_info": {
   "codemirror_mode": {
    "name": "ipython",
    "version": 3
   },
   "file_extension": ".py",
   "mimetype": "text/x-python",
   "name": "python",
   "nbconvert_exporter": "python",
   "pygments_lexer": "ipython3",
   "version": "3.8.10"
  },
  "vscode": {
   "interpreter": {
    "hash": "916dbcbb3f70747c44a77c7bcd40155683ae19c65e1c03b4aa3499c5328201f1"
   }
  }
 },
 "nbformat": 4,
 "nbformat_minor": 4
}
