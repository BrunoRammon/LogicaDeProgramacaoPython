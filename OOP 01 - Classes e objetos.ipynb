{
 "cells": [
  {
   "cell_type": "markdown",
   "id": "915ab169",
   "metadata": {
    "id": "915ab169",
    "jp-MarkdownHeadingCollapsed": true,
    "tags": []
   },
   "source": [
    "# Programação Orientada a Objeto\n",
    "\n",
    "## Paradigmas de Programação\n",
    "\n",
    "Temos várias formas diferentes de pensar e organizar o código de um programa. Essas diferentes formas possuem objetivos diferentes, cada qual com suas vantagens e desvantagens, e muitas vezes dependem do suporte da linguagem de programação a ferramentas ou técnicas específicas para permitir sua aplicação. Chamamos essas diferentes formas de **paradigmas de programação**.\n",
    "\n",
    "A primeira forma que tivemos contato nesse curso foi a chamada **programação imperativa**: o programa era uma série de instruções, uma embaixo da outra, sempre sendo executadas sequencialmente. \n",
    "\n",
    "O programa abaixo é um programa imperativo. Ele é constituído por um único bloco de instruções que são executadas sequencialmente. Apesar de ser possível pular uma ou outra instrução (através de if/else) ou repetir instruções dentro de um loop, a tendência geral do programa é sempre seguir sequencialmente, e uma vez encerrado um condicional ou loop, não retornamos mais para ele."
   ]
  },
  {
   "cell_type": "code",
   "execution_count": null,
   "id": "9852b054",
   "metadata": {
    "id": "9852b054",
    "outputId": "8d373a60-acea-487a-e414-647de30d4037"
   },
   "outputs": [
    {
     "name": "stdout",
     "output_type": "stream",
     "text": [
      "Digite a primeira nota: 5\n",
      "Digite a segunda nota: 7\n",
      "Aprovado\n"
     ]
    }
   ],
   "source": [
    "nota1 = float(input('Digite a primeira nota: '))\n",
    "nota2 = float(input('Digite a segunda nota: '))\n",
    "\n",
    "media = (nota1 + nota2)/2\n",
    "\n",
    "if media >= 6:\n",
    "    print('Aprovado')\n",
    "    \n",
    "else:\n",
    "    print('Reprovado')"
   ]
  },
  {
   "cell_type": "markdown",
   "id": "e76d2f04",
   "metadata": {
    "id": "e76d2f04"
   },
   "source": [
    "Outra forma de programação já estudada nesse curso, e bastante relacionada à imperativa, é a **programação procedural**. Ela introduz um certo grau de modularização do programa. \n",
    "\n",
    "Ao invés do programa ser um bloco único de instruções, nós podemos subdividir nossa lógica em \"subprogramas\": as funções. Uma função possui um nome, pode possuir dados de entrada (parâmetros) e de saída (retorno) e pode ser reutilizada múltiplas vezes.\n",
    "\n",
    "Isso evita a repetição desnecessária de código, facilita o reaproveitamento de código e torna o processo de atualização e correção de bugs mais simples e seguro. O programa abaixo é procedural:"
   ]
  },
  {
   "cell_type": "code",
   "execution_count": null,
   "id": "342c3f1c",
   "metadata": {
    "id": "342c3f1c",
    "outputId": "459c6ed4-7fab-4f65-d7aa-d8604eb72a0b"
   },
   "outputs": [
    {
     "name": "stdout",
     "output_type": "stream",
     "text": [
      "1. Somar dois números\n",
      "2. Subtrair dois números\n",
      "3. Multiplicar dois números\n",
      "4. Dividir dois números\n",
      "0. Sair\n",
      "Digite a sua opcao: 0\n"
     ]
    }
   ],
   "source": [
    "def soma(n1, n2):\n",
    "    return n1+n2\n",
    "\n",
    "def subtracao(n1, n2):\n",
    "    return n1-n2\n",
    "\n",
    "def multiplicacao(n1, n2):\n",
    "    return n1*n2\n",
    "\n",
    "def divisao(n1, n2):\n",
    "    return n1/n2\n",
    "\n",
    "def obter_numeros():\n",
    "    n1 = int(input('Digite um número: '))\n",
    "    n2 = int(input('Digite outro número: '))\n",
    "    return n1, n2\n",
    "\n",
    "def menu():\n",
    "    opcao = 1\n",
    "    while opcao != 0:\n",
    "        print('1. Somar dois números')\n",
    "        print('2. Subtrair dois números')\n",
    "        print('3. Multiplicar dois números')\n",
    "        print('4. Dividir dois números')\n",
    "        print('0. Sair')\n",
    "        opcao = int(input('Digite a sua opcao: '))\n",
    "        \n",
    "        if opcao == 1:\n",
    "            num1, num2 = obter_numeros()\n",
    "            print(soma(num1, num2))\n",
    "        elif opcao == 2:\n",
    "            num1, num2 = obter_numeros()\n",
    "            print(subtracao(num1, num2))\n",
    "        elif opcao == 3:\n",
    "            num1, num2 = obter_numeros()\n",
    "            print(multiplicacao(num1, num2))\n",
    "        elif opcao == 4:\n",
    "            num1, num2 = obter_numeros()\n",
    "            print(divisao(num1, num2))\n",
    "        elif opcao != 0:\n",
    "            print('Opção inválida!')\n",
    "            \n",
    "menu()"
   ]
  },
  {
   "cell_type": "markdown",
   "id": "ece9f876",
   "metadata": {
    "id": "ece9f876"
   },
   "source": [
    "A **programação orientada a objeto** também expande a programação imperativa: ainda teremos blocos de instruções. Porém, iremos aumentar e melhorar a nossa modularização.\n",
    "\n",
    "Ela foca em *modelar* o mundo real, ou seja, tentar representar objetos e entidades do mundo real através de código de computação. Ao invés de apenas darmos ordens para o computador, iremos descrever entidades, mapeando suas características, habilidades e interações. O programa irá emergir das interações entre esses modelos."
   ]
  },
  {
   "cell_type": "markdown",
   "id": "efb0d845",
   "metadata": {
    "id": "efb0d845"
   },
   "source": [
    "## Conceitos de programação orientada a objeto\n",
    "\n",
    "### Conceitos básicos: classes e objetos\n",
    "As classes são representações ideais das entidades envolvidas em nossos problemas. Elas irão definir um conjunto de características que as nossas entidades deverão ter e os seus respectivos comportamentos e habilidades.\n",
    "\n",
    "Por exemplo, considere a plataforma de aprendizado da Let's Code: o sistema Class. Sabemos que todo usuário do Class possui um conjunto de informações, como nome, cpf, email, senha, entre outros. Eles também possuem certas habilidades, como conseguir realizar login, ler conteúdos ou se comunicar pelo chat. Podemos criar uma **classe** definindo tudo isso.\n",
    "\n",
    "Os **objetos** são o que chamamos de *instâncias da classe*, ou seja, entidades concretas. Cada um de nós, como alunos ou professores da Let's Code, possuímos nosso próprio conjunto de dados e nossas próprias habilidades. O fato de todos sermos da classe Usuário define que todos teremos os mesmos tipos de informação (nome, cpf etc), mas cada um de nós terá a sua própria versão dessa informação (por exemplo, cada um de nós possui o próprio nome, o próprio cpf etc).\n",
    "\n",
    "```\n",
    "Usuário\n",
    "- nome\n",
    "- cpf\n",
    "- login\n",
    "- senha\n",
    "+ realizar login\n",
    "+ ler conteúdo\n",
    "+ enviar mensagem\n",
    "```\n",
    "\n",
    "### Atributos e métodos\n",
    "As informações que cada objeto possui são chamadas de **atributos** do objeto, e são implementadas como variáveis dentro do objeto.\n",
    "\n",
    "As habilidades e comportamentos do objeto são chamadas de **métodos**, e são implementadas como funções dentro da classe.\n",
    "\n",
    "Todo objeto de uma classe deve ter os atributos e métodos definidos em sua respectiva classe.\n",
    "\n",
    "### Princípios básicos\n",
    "Devemos observar quatro princípios básicos para efetivamente pensar de maneira orientada a objeto:\n",
    "- Encapsulamento: cada classe é responsável pelas suas próprias informações.\n",
    "- Abstração: a complexidade da classe é \"oculta\" e a classe fornece uma interface fácil para interagir com outras classes.\n",
    "- Herança: a capacidade de uma classe transmitir suas características para outra classe.\n",
    "- Polimorfismo: a capacidade de um objeto se comportar como se pertencesse a diferentes classes.\n",
    "\n",
    "Iremos explorar ferramentas e técnicas para aplicar adequadamente cada um desses conceitos ao longo das próximas aulas.\n",
    "\n",
    "### Classes em Python\n",
    "\n",
    "Para criar uma classe em Python devemos utilizar a palavra ```class``` seguida do nome da classe. Dentro da classe, podemos implementar os métodos.\n",
    "\n",
    "Note que todo método possuirá um primeiro parâmetro chamado ```self```. Ele serve para podermos referenciar o objeto que está executando aquela ação e acessar suas informações internas.\n",
    "\n",
    "Note também que classes frequentemente terão um método chamado ```__init__```. Este é o **método construtor**, executado automaticamente sempre que um objeto é criado. Ele é o lugar mais seguro para definirmos os atributos de uma classe."
   ]
  },
  {
   "cell_type": "code",
   "execution_count": null,
   "id": "a94f2f38",
   "metadata": {
    "id": "a94f2f38"
   },
   "outputs": [],
   "source": [
    "import random\n",
    "\n",
    "class Usuario:\n",
    "    # Método construtor\n",
    "    def __init__(self, nome, cpf, email):\n",
    "        # ao fazer self.atributo, estamos acessando um atributo do objeto sendo criado\n",
    "        self.nome = nome\n",
    "        self.cpf = cpf\n",
    "        self.login = email\n",
    "        self.senha = str(random.randint(100000, 999999))\n",
    "    \n",
    "    def fazer_login(self, login, senha):\n",
    "        # ao fazer self.atributo, estamos acessando um atributo do objeto executando a ação\n",
    "        if login == self.login and senha == self.senha:\n",
    "            print(self.nome, 'logado com sucesso!')\n",
    "        else:\n",
    "            print('Erro! Login ou senha incorretos!')"
   ]
  },
  {
   "cell_type": "markdown",
   "id": "5fa7767e",
   "metadata": {
    "id": "5fa7767e"
   },
   "source": [
    "Agora que temos nossa classe definida, podemos criar objetos pertencentes a essa classe. Não iremos chamar o construtor explicitamente. Utilizaremos o nome da classe como se fosse uma função, e o seu retorno será o novo objeto:"
   ]
  },
  {
   "cell_type": "code",
   "execution_count": null,
   "id": "2decb995",
   "metadata": {
    "id": "2decb995"
   },
   "outputs": [],
   "source": [
    "professor1 = Usuario('Rafael', 12345678912, 'rafael@letscode.com.br')\n",
    "professor2 = Usuario('Romero', 98765432198, 'romero@letscode.com.br')"
   ]
  },
  {
   "cell_type": "markdown",
   "id": "136275fd",
   "metadata": {
    "id": "136275fd"
   },
   "source": [
    "Note que não passamos o _self_. Ele é sempre passado implicitamente. \n",
    "\n",
    "Podemos acessar os atributos utilizando o ponto:"
   ]
  },
  {
   "cell_type": "code",
   "execution_count": null,
   "id": "3a04d8ce",
   "metadata": {
    "id": "3a04d8ce",
    "outputId": "9e213296-355c-4e0e-df71-9dd66e6f0fee"
   },
   "outputs": [
    {
     "name": "stdout",
     "output_type": "stream",
     "text": [
      "Rafael\n",
      "romero@letscode.com.br\n"
     ]
    }
   ],
   "source": [
    "print(professor1.nome)\n",
    "print(professor2.login)"
   ]
  },
  {
   "cell_type": "markdown",
   "id": "0f6fbddc",
   "metadata": {
    "id": "0f6fbddc"
   },
   "source": [
    "Podemos também chamar métodos utilizando a sintaxe do ponto. Mas devemos sempre nos lembrar que:\n",
    "\n",
    "1) Métodos são funções. Logo, eles possuem parênteses (e possivelmente parâmetros).\n",
    "\n",
    "2) O _self_ é sempre passado implicitamente e será o objeto à esquerda do pontinho."
   ]
  },
  {
   "cell_type": "code",
   "execution_count": null,
   "id": "192f3869",
   "metadata": {
    "id": "192f3869",
    "outputId": "ac265d5a-8988-44d4-a841-26ceaa799c2d"
   },
   "outputs": [
    {
     "name": "stdout",
     "output_type": "stream",
     "text": [
      "Erro! Login ou senha incorretos!\n"
     ]
    }
   ],
   "source": [
    "professor1.fazer_login('rafael@letscode.com.br', '123456')"
   ]
  },
  {
   "cell_type": "markdown",
   "id": "a2c28a3d",
   "metadata": {
    "id": "a2c28a3d"
   },
   "source": [
    "Note que a sintaxe é familiar. Em Python, \"tudo\" é objeto. Já estamos trabalhando com objetos de várias classes diferentes, como a classe ```str``` e ```list```."
   ]
  },
  {
   "cell_type": "code",
   "execution_count": null,
   "id": "12e6e34b",
   "metadata": {
    "id": "12e6e34b"
   },
   "outputs": [],
   "source": [
    "lista = [1, 3, 5, 7]\n",
    "\n",
    "lista.append(9) # note a sintaxe: append é método da classe list!\n",
    "\n",
    "string1 = 'olá'\n",
    "string2 = string1.upper() # upper é método da classe str!"
   ]
  },
  {
   "cell_type": "markdown",
   "id": "d769830d",
   "metadata": {
    "id": "e468ec90",
    "jp-MarkdownHeadingCollapsed": true,
    "tags": []
   },
   "source": [
    "# Referências adicionais:\n",
    "- a\n",
    "- b"
   ]
  },
  {
   "cell_type": "markdown",
   "id": "ZrjVR4QbwOm7",
   "metadata": {
    "id": "ZrjVR4QbwOm7"
   },
   "source": [
    "# Exercícios\n",
    "\n",
    "Crie uma classe Bola cujos atributos são cor e raio. Crie um método que imprime a cor da bola. Crie um método para calcular a área dessa bola. Crie um método para calcular o volume da bola. Crie um objeto dessa classe e calcule a área e o volume, imprimindo ambos em seguida.\n",
    "\n",
    "Obs.:\n",
    "\n",
    "Área da esfera = `4*3.14*r*r`;\n",
    "\n",
    "Volume da esfera = `4*3.14*r*r*r/3`"
   ]
  },
  {
   "cell_type": "code",
   "execution_count": null,
   "id": "jBI2StBTwQNt",
   "metadata": {
    "id": "jBI2StBTwQNt"
   },
   "outputs": [],
   "source": [
    "class Ball:\n",
    "    def __init__(self,color,radius):\n",
    "        self.color = color\n",
    "        self.radius = radius \n",
    "    \n",
    "    def color(self):\n",
    "        print(self.__color)\n",
    "    \n",
    "    def area(self):\n",
    "        print(4*3.141516*self.__radius**2)\n",
    "    \n",
    "    def volume(self):\n",
    "        print(4*3.141516*self.__radius**3/3)\n",
    "    \n",
    "    def set_color(self,color):\n",
    "        self.__color = color\n",
    "    def get_color(self):\n",
    "        return self.__color\n",
    "    \n",
    "    color = property(set_color,get_color)\n",
    "    \n",
    "    def set_radius(self,radius):\n",
    "        if radius >= 0:\n",
    "            self.__radius = radius\n",
    "        else: \n",
    "            self.__radius = -radius\n",
    "    def get_radius(self):\n",
    "        return self.__radius\n",
    "    \n",
    "    radius = property(set_radius,get_radius)"
   ]
  },
  {
   "cell_type": "markdown",
   "id": "X5KW2ne0wUw4",
   "metadata": {
    "id": "X5KW2ne0wUw4"
   },
   "source": [
    "Crie uma classe Retângulo cujos atributos são lado_a e lado_b. Crie um método para calcular a área desse retângulo. Crie um objeto dessa classe e calcule a área e a imprima em seguida.\n",
    "\n"
   ]
  },
  {
   "cell_type": "code",
   "execution_count": 74,
   "id": "E00nnEHuwWeg",
   "metadata": {
    "id": "E00nnEHuwWeg"
   },
   "outputs": [],
   "source": [
    "class Rectangle:\n",
    "    def __init__(self,b,h):\n",
    "        self.b = b\n",
    "        self.h = h\n",
    "    \n",
    "    def __get_b(self):\n",
    "        return self.__b\n",
    "    def __set_b(self, b):\n",
    "        if b >= 0:\n",
    "            self.__b = b\n",
    "        else:\n",
    "            self.__b = -b\n",
    "    b = property(__get_b,__set_b)\n",
    "    \n",
    "    def __set_h(self,h):\n",
    "        if h >= 0:\n",
    "            self.__h = h\n",
    "        else: \n",
    "            self.__h = -h\n",
    "    def __get_h(self):\n",
    "        return self.__h\n",
    "    h = property(__get_h,__set_h)\n",
    "    \n",
    "    def area():\n",
    "        return self.b*self.h"
   ]
  },
  {
   "cell_type": "code",
   "execution_count": 75,
   "id": "6b8737f6",
   "metadata": {},
   "outputs": [],
   "source": [
    "rtg = Rectangle(2,3)\n",
    "# print(rtg.area())"
   ]
  },
  {
   "cell_type": "markdown",
   "id": "0glIr5ICwW6i",
   "metadata": {
    "id": "0glIr5ICwW6i"
   },
   "source": [
    "Crie uma classe Funcionario cujos atributos são nome e e-mail. Guarde as horas trabalhadas em um dicionário cujas chaves são o mês em questão e, em outro dicionário, guarde o salário por hora relativo ao mês em questão. Crie um método que retorna o salário mensal do funcionário.\n",
    "\n"
   ]
  },
  {
   "cell_type": "code",
   "execution_count": 2,
   "id": "40pnoCt9wYLO",
   "metadata": {
    "id": "40pnoCt9wYLO"
   },
   "outputs": [],
   "source": [
    "class Employ:\n",
    "    def __init__(self,name,email):\n",
    "        self.name = name\n",
    "        self.email = email\n",
    "        \n",
    "        self.__worked_hour = {'January':0.0, 'February':0.0, 'March':0.0 , 'April':0.0 , 'May':0.0, 'June':0.0,\n",
    "                                'July':0.0, 'August': 0.0, 'September':0.0, 'November': 0.0, 'December': 0.0}\n",
    "        self.__salary_per_hour = {'January':0.0, 'February':0.0, 'March':0.0 , 'April':0.0 , 'May':0.0, 'June':0.0,\n",
    "                                'July':0.0, 'August': 0.0, 'September':0.0, 'November': 0.0, 'December': 0.0}\n",
    "    \n",
    "    def __set_name(self,name):\n",
    "        self.__name = name\n",
    "    def __get_name(self):\n",
    "        return self.__name\n",
    "    \n",
    "    name = property(__set_name,__get_name)\n",
    "    \n",
    "    def __set_email(self,email):\n",
    "        self.__email = email\n",
    "    def __get_email(self):\n",
    "        return self.__email\n",
    "    \n",
    "    email = property(__set_email,__get_email)\n",
    "    \n",
    "    def salary(self,month: str):\n",
    "        return self.__salary_per_hour[month]*self.__worked_hour[month]\n",
    "        "
   ]
  },
  {
   "cell_type": "markdown",
   "id": "g9MeziPjwavY",
   "metadata": {
    "id": "g9MeziPjwavY"
   },
   "source": [
    "Crie uma classe Televisor cujos atributos são:\n",
    "\n",
    "a. fabricante;\n",
    "\n",
    "b. modelo;\n",
    "\n",
    "c. canal atual;\n",
    "\n",
    "d. lista de canais; e\n",
    "\n",
    "e. volume.\n",
    "\n",
    "Faça métodos para aumentar/diminuir volume, trocar o canal e sintonizar um novo canal, que adiciona um novo canal à lista de canais (somente se esse canal não estiver nessa lista). No atributo lista de canais, devem estar armazenados todos os canais já sintonizados dessa TV.\n",
    "\n",
    "Obs.: O volume não pode ser menor que zero e maior que cem; só se pode trocar para um canal que já esteja na lista de canais."
   ]
  },
  {
   "cell_type": "code",
   "execution_count": 80,
   "id": "57b0030d",
   "metadata": {
    "id": "hZOUehMowbVM"
   },
   "outputs": [],
   "source": [
    "class Television:\n",
    "    def __init__(self,owner,model,channels_list):\n",
    "        self.owner = owner\n",
    "        self.model = model\n",
    "        self.channels_list = channels_list\n",
    "        self.current_channel = channels_list[0]\n",
    "        self.volume = 10        \n",
    "    \n",
    "    def __set_owner(self,own):\n",
    "        self.__owner = own\n",
    "    def __get_owner(self):\n",
    "        return self.__owner\n",
    "    owner = property(__get_owner,__set_owner)\n",
    "    \n",
    "    def __set_model(self,model):\n",
    "            self.__model = model\n",
    "    def __get_model(self):\n",
    "        return self.__model\n",
    "    model = property(__get_model,__set_model)\n",
    "    \n",
    "    def __set_channels_list(self,channels_list):\n",
    "            self.__channels_list = channels_list\n",
    "    def __get_channels_list(self):\n",
    "        return self.__channels_list\n",
    "    channels_list = property(__get_channels_list,__set_channels_list)\n",
    "    \n",
    "    def __set_current_channel(self,current_channel):\n",
    "            self.__current_channel = current_channel\n",
    "    def __get_current_channel(self):\n",
    "        return self.__current_channel\n",
    "    current_channel = property(__get_current_channel,__set_current_channel)\n",
    "    \n",
    "    def __set_volume(self,volume):\n",
    "        if 0 <= volume <= 100: \n",
    "            self.__volume = volume\n",
    "        elif volume > 100:\n",
    "            self.__volume = 100\n",
    "        else:\n",
    "            self.__volume = 0\n",
    "    def __get_volume(self):\n",
    "        return self.__volume\n",
    "    volume = property(__get_volume,__set_volume)\n",
    "    \n",
    "#     def increase_volume(self):\n",
    "#             self.volume += 1\n",
    "            \n",
    "    def new_channel(self,channel:int):\n",
    "        if channel not in self.channels_list: self.channels_list.append(channel) \n",
    "            \n",
    "    def change_channel(self,channel:int):\n",
    "        if channel in self.__channels_list: self.current_channel = channel"
   ]
  },
  {
   "cell_type": "code",
   "execution_count": 81,
   "id": "yt2oofytwbuX",
   "metadata": {
    "id": "yt2oofytwbuX"
   },
   "outputs": [],
   "source": [
    "tv = Television('Sony','SN1258',[3,5,8,11,13,17,25,27])"
   ]
  },
  {
   "cell_type": "markdown",
   "id": "c3O3Qcmgwdya",
   "metadata": {
    "id": "c3O3Qcmgwdya"
   },
   "source": [
    "Crie uma classe ControleRemoto cujo atributo é televisão (isso é, recebe um objeto da classe do exercício 4). Crie métodos para aumentar/diminuir volume, trocar o canal e sintonizar um novo canal, que adiciona um novo canal à lista de canais (somente se esse canal não estiver nessa lista).\n",
    "\n"
   ]
  },
  {
   "cell_type": "code",
   "execution_count": 83,
   "id": "gGddo2P9weJM",
   "metadata": {
    "id": "gGddo2P9weJM"
   },
   "outputs": [],
   "source": [
    "class RemoteControl:\n",
    "    def __init__(self,television):\n",
    "        self.television = television\n",
    "    \n",
    "    def __set_television(self,television):\n",
    "            self.__television = television\n",
    "    def __get_television(self):\n",
    "        return self.__television\n",
    "    television = property(__get_television,__set_television)\n",
    "    \n",
    "    def increase_volume():\n",
    "        television.volume += 1\n",
    "\n",
    "rc = RemoteControl(tv)"
   ]
  },
  {
   "cell_type": "markdown",
   "id": "ZzjAVVcRwezz",
   "metadata": {
    "id": "ZzjAVVcRwezz"
   },
   "source": [
    "O módulo time possui a função time.sleep(x), que faz seu programa “dormir” por x segundos. Utilizando essa função, crie uma classe Cronômetro e faça um programa que cronometre o tempo.\n",
    "\n"
   ]
  },
  {
   "cell_type": "code",
   "execution_count": null,
   "id": "P3sCGgW0wgrR",
   "metadata": {
    "id": "P3sCGgW0wgrR"
   },
   "outputs": [],
   "source": []
  },
  {
   "cell_type": "markdown",
   "id": "zaGalPSawg_p",
   "metadata": {
    "id": "zaGalPSawg_p"
   },
   "source": [
    "Crie uma modelagem de classes para uma agenda capaz de armazenar contatos. Através dessa agenda é possível incluir, remover, buscar e listar contatos já cadastrados.\n",
    "\n"
   ]
  },
  {
   "cell_type": "code",
   "execution_count": null,
   "id": "NP1AXm0QwiiQ",
   "metadata": {
    "id": "NP1AXm0QwiiQ"
   },
   "outputs": [],
   "source": [
    "class Contacts:\n",
    "    def __init__(self):\n",
    "        self.__contacts = dict()\n",
    "        \n",
    "    def __get_contacts(self):\n",
    "        return self.__contacts\n",
    "    contacts = property(__get_contacts)\n",
    "    \n",
    "    def add_contact(name,number):\n",
    "        contacts[name] = number\n",
    "    \n",
    "    def remove_contact(name):\n",
    "        contacts.remove(name)\n",
    "        \n",
    "    def find_contact(name):\n",
    "        return contacts[name]\n",
    "    \n",
    "    def show_contacts():\n",
    "        for name,number in contacts:\n",
    "            print(f'{name}: {number}')\n",
    "    \n",
    "        "
   ]
  },
  {
   "cell_type": "markdown",
   "id": "0L5TvOKwwix5",
   "metadata": {
    "id": "0L5TvOKwwix5"
   },
   "source": [
    "Crie uma classe Cliente cujos atributos são nome, idade e e-mail. Construa um método que imprima as informações tal como abaixo:\n",
    "```\n",
    "Nome: Fulano de Tal\n",
    "\n",
    "Idade: 40\n",
    "\n",
    "E-mail: fulano@mail.com\n",
    "```"
   ]
  },
  {
   "cell_type": "code",
   "execution_count": 104,
   "id": "_ypP2WqCwnhp",
   "metadata": {
    "id": "_ypP2WqCwnhp"
   },
   "outputs": [],
   "source": [
    "class Customer:\n",
    "    def __init__(self,name,age,email):\n",
    "        self.name = name\n",
    "        self.age = age\n",
    "        self.email = email\n",
    "    \n",
    "    def __set_name(self,name):\n",
    "            self.__name = name\n",
    "    def __get_name(self):\n",
    "        return self.__name\n",
    "    name = property(__get_name,__set_name)\n",
    "    \n",
    "    def __set_age(self,age):\n",
    "            self.__age = age\n",
    "    def __get_age(self):\n",
    "        return self.__age\n",
    "    age = property(__get_age,__set_age)\n",
    "    \n",
    "    def __set_email(self,email):\n",
    "            self.__email = email\n",
    "    def __get_email(self):\n",
    "        return self.__email\n",
    "    email = property(__get_email,__set_email)\n",
    "    \n",
    "    def __str__(self):\n",
    "        return f'Nome: {self.name}\\n\\nIdade: {self.age}\\n\\nEmail: {self.email}'\n",
    "    def __eq__(self,other):\n",
    "        return self.email == other.email\n",
    "        "
   ]
  },
  {
   "cell_type": "code",
   "execution_count": 105,
   "id": "76523e4d",
   "metadata": {},
   "outputs": [
    {
     "name": "stdout",
     "output_type": "stream",
     "text": [
      "Nome: Bruno\n",
      "\n",
      "Idade: 22\n",
      "\n",
      "Email: bruno@email.com\n",
      "True\n",
      "False\n",
      "True\n"
     ]
    }
   ],
   "source": [
    "bruno = Customer('Bruno',22,'bruno@email.com')\n",
    "\n",
    "fulano = Customer('Fulano',40,'fulano@mail.com')\n",
    "print(bruno)\n",
    "customer_list = [bruno,fulano]\n",
    "\n",
    "sicrano = Customer('Sicrano',30,'sicrano@mail.com')\n",
    "\n",
    "fulano2 = Customer('Fulano',40,'fulano@mail.com')\n",
    "\n",
    "print(fulano in customer_list)\n",
    "print(sicrano in customer_list)\n",
    "print(fulano2 in customer_list)"
   ]
  },
  {
   "cell_type": "markdown",
   "id": "BRoi91drwnrK",
   "metadata": {
    "id": "BRoi91drwnrK"
   },
   "source": [
    "Com base no exercício anterior, crie um sistema de cadastro e a classe Cliente. Seu programa deve perguntar se o usuário quer cadastrar um novo cliente, alterar um cadastro ou sair.\n",
    "\n",
    "Dica: Você pode fazer esse exercício criando uma classe Sistema, que irá controlar o sistema de cadastros. Essa classe deve ter o atributo cadastro e os métodos para imprimir os cadastrados, cadastrar um novo cliente, alterar um cadastro ou sair."
   ]
  },
  {
   "cell_type": "code",
   "execution_count": null,
   "id": "sHe0LcVCwoiM",
   "metadata": {
    "id": "sHe0LcVCwoiM"
   },
   "outputs": [],
   "source": [
    "class System:\n",
    "    def __init__(self):\n",
    "        self.__customers = []\n",
    "    \n",
    "    \n",
    "    def __get_customers(self):\n",
    "        return self.__customers     \n",
    "    customers = property(__get_customers)\n",
    "    \n",
    "#     def find_customer(customer):\n",
    "#         return \n",
    "    def costumer_is_registered(customer):\n",
    "        return isinstance(customer,Customer) and (customer in customers)\n",
    "    def new_customer(customer):\n",
    "        if costumer_is_registered(customer):\n",
    "            self.__customers.append(customer) \n",
    "        else:\n",
    "            print('Erro: registro não realizado.')\n",
    "    \n",
    "    def change_costumer_name(costumer,new_name):\n",
    "        if costumer_is_registered(costumer): costumer.name = new_name\n",
    "    \n",
    "    def change_costumer_age(costumer,new_age):\n",
    "        if costumer_is_registered(costumer): costumer.age = new_name\n",
    "    \n",
    "    def change_costumer_email(costumer,new_email):\n",
    "        if costumer_is_registered(costumer): costumer.email = new_email      \n",
    "    \n",
    "    def menu():\n",
    "        option = int(input('''Selecione uma opção:\n",
    "        1 - Cadastrar cliente\n",
    "        2 - Alterar cliente\n",
    "        3 - Imprimir cadastro\n",
    "        '''))\n",
    "        while(0 < option < 4):\n",
    "            option = int(input('''Opção inválida. Digite um número entre 1 a 3: '''))\n",
    "        if option == 1:\n",
    "            name = input('Digite o nome do cliente: ')\n",
    "            age = int(input('Digite a idade do cliente: '))\n",
    "            email = input('Digite o e-mail do cliente: ')\n",
    "            new_customer(Costumer(name,age,email))\n",
    "        elif option == 2:\n",
    "            option = int(input('''Selecione uma opção:\n",
    "            1 - Alterar nome\n",
    "            2 - Alterar idade\n",
    "            3 - Alterar email\n",
    "            '''))\n",
    "            while(0 < option < 4):\n",
    "                option = int(input('''Opção inválida. Digite um número entre 1 a 3: '''))\n",
    "            if option == 1:\n",
    "                costumer.name = input(f'Nome atual {costumer.name}. Alterar para: ')\n",
    "            elif option == 2:\n",
    "                costumer.age = int(input(f'Idade atual {costumer.age}. Alterar para: '))\n",
    "            else:\n",
    "                costumer.email = input(f'Email atual {costumer.email}. Alterar para: ')\n",
    "        elif option == 3:\n",
    "            costumer_email = input('Email do cliente: ')\n",
    "            for costumer in costumers:\n",
    "                if costumer.email == costumer_email:\n",
    "                    query_costumer = costumer\n",
    "                    break\n",
    "            print(query_costumer)\n",
    "            \n",
    "        "
   ]
  },
  {
   "cell_type": "markdown",
   "id": "7Q3GvDGVwqWo",
   "metadata": {
    "id": "7Q3GvDGVwqWo"
   },
   "source": [
    "Crie uma classe ContaCorrente com os atributos cliente (que deve ser um objeto da classe Cliente) e saldo. Crie métodos para depósito, saque e transferência. Os métodos de saque e transferência devem verificar se é possível realizar a transação.\n",
    "\n"
   ]
  },
  {
   "cell_type": "code",
   "execution_count": null,
   "id": "vvfGGslcwqvq",
   "metadata": {
    "id": "vvfGGslcwqvq"
   },
   "outputs": [],
   "source": [
    "class Account:\n",
    "    def __init__(self, costumer):\n",
    "        self.costumer = costumer\n",
    "        self.__balance = 0\n",
    "        \n",
    "    def change_balance(self, dif_value):\n",
    "        self.__balance += dif_value\n",
    "    def check_balance(self):\n",
    "        return self.__balance\n",
    "    \n",
    "    def internal_tranfer(self, other, value):\n",
    "        if(isinstance(other,Account)):\n",
    "            self.change_balance(-value)\n",
    "            other.change_balance(+value)\n",
    "    \n",
    "    def deposit(self, value):\n",
    "        self.change_balance(+value)\n",
    "\n",
    "    def get_cash(self, value):\n",
    "        self.change_balance(-value)\n",
    "    "
   ]
  }
 ],
 "metadata": {
  "colab": {
   "provenance": []
  },
  "kernelspec": {
   "display_name": "Python 3 (ipykernel)",
   "language": "python",
   "name": "python3"
  },
  "language_info": {
   "codemirror_mode": {
    "name": "ipython",
    "version": 3
   },
   "file_extension": ".py",
   "mimetype": "text/x-python",
   "name": "python",
   "nbconvert_exporter": "python",
   "pygments_lexer": "ipython3",
   "version": "3.8.10"
  }
 },
 "nbformat": 4,
 "nbformat_minor": 5
}
