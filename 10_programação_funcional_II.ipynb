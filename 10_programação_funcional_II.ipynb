{
 "cells": [
  {
   "cell_type": "markdown",
   "metadata": {
    "id": "focKkoauo_Zk"
   },
   "source": [
    "## Lógica de programação II - Programação Funcional II\n",
    "\n",
    "Na aula de hoje iremos explorar os seguintes tópicos em Python:\n",
    "\n",
    "- Funções recursivas\n",
    "- Tratamento de exceções\n",
    "- Criando sistemas com programação funcional"
   ]
  },
  {
   "cell_type": "markdown",
   "metadata": {
    "id": "AR2qeD8UpK0t"
   },
   "source": [
    "### Funções Recursivas\n",
    "\n",
    "Quando vamos codificar algo, há dois termos que surgem, **iterativo** e **recursivo**. Ambos os termos referem-se a dois tipos diferentes de estrutura de código, executar uma série de instruções sequenciais de forma repetida.\n",
    "\n",
    "#### O que iteração?\n",
    "Esse é o tipo de código que temos estudado até o momento!\n",
    "\n",
    "O código é estruturado em laços (`loops`) de repetição que executam uma série de instruções. Em outras palavras, a iteração utiliza de **estruturas de repetição**.\n",
    "\n",
    "Para relembrar essa estrutura de código, vamos pensar num algoritmo que irá pegar um livro baseado em uma pilha de livros. Nosso objeto é achar o livro de interesse, então começamos a pegar um livro de cada vez e verificamos uma condição, se achamos o livro de interesse ou não. Se achamos o livro finalizamos o nosso trabalho, caso contrário continuamos a procurar o livro um por um até que a pilha de livros se acabe.\n",
    "\n",
    "O pseudocódigo seria:\n",
    "- Contrua uma pilha de livros a ser procurado\n",
    "- Enquanto houver livros não vasculhados:\n",
    "  - Pegue um livro:\n",
    "    - Se o livro não for o livro de interesse, remova da pilha\n",
    "    - Se o livro for de interesse, finalizamos o trabalho\n",
    "  - Volte para a pilha de livros\n",
    "\n",
    "Um possível código seria:\n",
    "```python\n",
    "pilha_de_livros = [\n",
    "    'Senhor dos aneis', 'Guerra dos mundos', '1984', 'A revolução dos bichos'\n",
    "]\n",
    "\n",
    "livro_de_interesse = '1984'\n",
    "\n",
    "def ache_livro_iterativo(pilha_de_livros, livro_de_interesse):\n",
    "  pilha_livros_busca = pilha_de_livros[::]\n",
    "  while pilha_livros_busca:\n",
    "    livro_da_pilha = pilha_livros_busca.pop()\n",
    "    print('Tamanho da pilha original:', len(pilha_de_livros))\n",
    "    print('Tamanho da pilha de busca:', len(pilha_livros_busca))\n",
    "    print('Analisando o livro da pilha:', livro_da_pilha)\n",
    "    if livro_da_pilha == livro_de_interesse:\n",
    "      return livro_de_interesse\n",
    "    else:\n",
    "      print('Continuando a busca')\n",
    "      pass\n",
    "    print('-'*32)\n",
    "  print('Livro não encontrado')\n",
    "  return 'Livro não encontrado'\n",
    "\n",
    "ache_livro_iterativo(pilha_de_livros, livro_de_interesse)\n",
    "```\n",
    "Nesse caso temos uma busca linear (o `while`) e podemos perceber que no pior caso, o livro de interesse não está presente na pilha, iremos percorrer todos os livros. Esse é um dos motivos de programas iterativos serem de fácil análise de algoritmo, no caso linear.\n",
    "\n",
    "#### Recursão \n",
    "De primeira vista, a recursão pode parecer difícil de entender. \n",
    "\n",
    "De acordo com o dicionário, recursão é: \"Propriedade de função, programa ou afim que se pode invocar a si próprio.\". Ou seja, a recursão ocorre quando uma função chama ela mesma no programa.  Qualquer função que faz a sua própria chamada é conhecida como função recursiva.\n",
    "\n",
    "Porém para evitar uma recursão infinita, a função precisa de **um caso base**. A função recursiva termina uma vez que a condição base é identificada.\n",
    "\n",
    "Voltando para o problema dos livros, podemos reescrever o mesmo de forma recursiva!\n",
    "\n",
    "```\n",
    "pilha_de_livros = [\n",
    "    'Senhor dos aneis', 'Guerra dos mundos', '1984', 'A revolução dos bichos'\n",
    "]\n",
    "\n",
    "livro_de_interesse = 'A pequena sereia'\n",
    "\n",
    "def ache_livro_recursivo(pilha_de_livros, livro_de_interesse):\n",
    "  print(pilha_de_livros)\n",
    "  pilha_livros_busca = pilha_de_livros[::]\n",
    "  if len(pilha_livros_busca) == 0:\n",
    "    return 'Livro não encontrado'\n",
    "  livro_da_pilha = pilha_livros_busca.pop()\n",
    "  if livro_da_pilha == livro_de_interesse:\n",
    "    return livro_de_interesse\n",
    "  else:\n",
    "    return ache_livro_recursivo(pilha_livros_busca, livro_de_interesse)\n",
    "\n",
    "ache_livro_recursivo(pilha_de_livros, livro_de_interesse)\n",
    "```\n",
    "\n",
    "#### **Diferenças entre recursão e iteração**\n",
    "Implementação:\n",
    "- Recursiva: Implementada com uma função chamando ela mesma\n",
    "- Iterativa: Implementada utilizando laços\n",
    "\n",
    "Estado:\n",
    "- Recursiva: Definida por valores armazenadas em uma pilha\n",
    "- Iterativa: Definida por variáveis de controle\n",
    "\n",
    "Sintaxe:\n",
    "- Recursiva: Pelo menos uma condição de terminação é necessária\n",
    "- Iterativa: Inclui inicialização, condicionais, e incremento/decrescimo das variáveis de controle\n",
    "\n",
    "Terminação\n",
    "- Recursiva: Condição definida no corpo da função\n",
    "- Iterativa: Definida dentro laço\n",
    "\n",
    "Tamanho do código:\n",
    "- Recursiva: Menor que iterativa\n",
    "- Iterativa: Maior\n",
    "\n",
    "Velocidade:\n",
    "- Recursiva: Mais devagar devido ao overhead de manter os stacks de função\n",
    "- Iterativa: Mais rápida\n",
    "\n",
    "Complexidade de tempo:\n",
    "- Recursiva: Maior complexidade de tempo\n",
    "- Iterativa: Mais fácil de ser cálculada olhando os loops de execução. Em geral, apresentam menor complexidade de tempo\n",
    "\n",
    "Utilização de memória:\n",
    "- Recursiva: Mais memoria é requerida\n",
    "- Iterativa: Menos memoria é requerida.\n",
    "\n",
    "\n",
    "#### Quando utilizar recursão vs iteração?\n",
    "Essa é uma pergunta que assombra a maior parte das pessoas programadoras. A maior parte dos códigos podem ser escritas tanto de forma recursiva como iterativa. Entretanto, em alguns casos a recursão pode ser mais intuitiva que a iteração. Por exemplo, quando lidamos com estruturas de listas aninhadas (`nested`). \n",
    "\n",
    "Em problemas que temos grafos e/ou optimizações, as funções recursivas podem ser de mais fácil leitura e implementações. Isso ocorre por podemos utilizar o \"dividir para conquistar\" e programação dinâmica.\n",
    "\n",
    "\n",
    "\n",
    "Curiosidade:\n",
    "\n",
    "Em computadores que seguem a arquitetura de Von Neumann, a iteração sempre será mais rápida que a recursão!\n",
    "\n",
    "https://www.geeksforgeeks.org/computer-organization-von-neumann-architecture/\n",
    "\n",
    "Livros de referência:\n",
    "\n",
    "- https://www.amazon.com.br/Entendendo-Algoritmos-Ilustrado-Programadores-Curiosos/dp/8575225634/ref=d_pd_vtp_sccl_3_1/146-3983804-6034225?pd_rd_w=pc75W&content-id=amzn1.sym.69bd698f-3072-4c6e-b264-d487c9414ff0&pf_rd_p=69bd698f-3072-4c6e-b264-d487c9414ff0&pf_rd_r=30HFDW1DVVP5E9F2JXSP&pd_rd_wg=si7XW&pd_rd_r=88a69202-312a-49f8-992a-0b1d11d2bbeb&pd_rd_i=8575225634&psc=1\n",
    "\n",
    "- https://www.amazon.com.br/Introduction-Algorithms-Thomas-H-Cormen/dp/0262033844\n",
    "\n",
    "- https://www.amazon.com/Structures-Algorithms-Python-Michael-Goodrich/dp/1118290275"
   ]
  },
  {
   "cell_type": "code",
   "execution_count": 1,
   "metadata": {
    "colab": {
     "base_uri": "https://localhost:8080/"
    },
    "executionInfo": {
     "elapsed": 9333,
     "status": "ok",
     "timestamp": 1666045977432,
     "user": {
      "displayName": "Gilberto Kaihami",
      "userId": "07651446941847976228"
     },
     "user_tz": 180
    },
    "id": "zNznMiNhgtvz",
    "outputId": "4594913f-28d2-4bab-a492-d7bdfe7fec65"
   },
   "outputs": [
    {
     "name": "stdout",
     "output_type": "stream",
     "text": [
      "Looking in indexes: https://pypi.org/simple, https://us-python.pkg.dev/colab-wheels/public/simple/\n",
      "Collecting ColabTurtle\n",
      "  Downloading ColabTurtle-2.1.0.tar.gz (6.8 kB)\n",
      "Building wheels for collected packages: ColabTurtle\n",
      "  Building wheel for ColabTurtle (setup.py) ... \u001b[?25l\u001b[?25hdone\n",
      "  Created wheel for ColabTurtle: filename=ColabTurtle-2.1.0-py3-none-any.whl size=7657 sha256=febef25b592b195fcfd12ea11fea2cd502a825d184cbe1e083e1756cea155ab9\n",
      "  Stored in directory: /root/.cache/pip/wheels/0d/ab/65/cc4478508751448dfb4ecb20a6533082855c227dfce8c13902\n",
      "Successfully built ColabTurtle\n",
      "Installing collected packages: ColabTurtle\n",
      "Successfully installed ColabTurtle-2.1.0\n"
     ]
    }
   ],
   "source": [
    "!pip3 install ColabTurtle"
   ]
  },
  {
   "cell_type": "code",
   "execution_count": 6,
   "metadata": {
    "executionInfo": {
     "elapsed": 1,
     "status": "ok",
     "timestamp": 1666046376616,
     "user": {
      "displayName": "Gilberto Kaihami",
      "userId": "07651446941847976228"
     },
     "user_tz": 180
    },
    "id": "Z7uAKLVyGaN_"
   },
   "outputs": [],
   "source": []
  },
  {
   "cell_type": "markdown",
   "metadata": {
    "id": "QA4c9qLNG5gm"
   },
   "source": [
    "**Forma iterativa**"
   ]
  },
  {
   "cell_type": "code",
   "execution_count": 4,
   "metadata": {
    "colab": {
     "base_uri": "https://localhost:8080/",
     "height": 174
    },
    "executionInfo": {
     "elapsed": 787,
     "status": "ok",
     "timestamp": 1666046267977,
     "user": {
      "displayName": "Gilberto Kaihami",
      "userId": "07651446941847976228"
     },
     "user_tz": 180
    },
    "id": "xYRrL_vJvOPK",
    "outputId": "c52035de-7266-4652-930c-ab3018ca02d7"
   },
   "outputs": [
    {
     "name": "stdout",
     "output_type": "stream",
     "text": [
      "Tamanho da pilha original: 4\n",
      "Tamanho da pilha de busca: 3\n",
      "Analisando o livro da pilha: A revolução dos bichos\n",
      "Continuando a busca\n",
      "--------------------------------\n",
      "Tamanho da pilha original: 4\n",
      "Tamanho da pilha de busca: 2\n",
      "Analisando o livro da pilha: 1984\n"
     ]
    },
    {
     "data": {
      "application/vnd.google.colaboratory.intrinsic+json": {
       "type": "string"
      },
      "text/plain": [
       "'1984'"
      ]
     },
     "execution_count": 4,
     "metadata": {},
     "output_type": "execute_result"
    }
   ],
   "source": [
    "pilha_de_livros = [\n",
    "    'Senhor dos aneis', 'Guerra dos mundos', '1984', 'A revolução dos bichos'\n",
    "]\n",
    "\n",
    "livro_de_interesse = '1984'\n",
    "\n",
    "def ache_livro_iterativo(pilha_de_livros, livro_de_interesse):\n",
    "  pilha_livros_busca = pilha_de_livros[::]\n",
    "  while pilha_livros_busca:\n",
    "    livro_da_pilha = pilha_livros_busca.pop()\n",
    "    print('Tamanho da pilha original:', len(pilha_de_livros))\n",
    "    print('Tamanho da pilha de busca:', len(pilha_livros_busca))\n",
    "    print('Analisando o livro da pilha:', livro_da_pilha)\n",
    "    if livro_da_pilha == livro_de_interesse:\n",
    "      return livro_de_interesse\n",
    "    else:\n",
    "      print('Continuando a busca')\n",
    "      pass\n",
    "    print('-'*32)\n",
    "  print('Livro não encontrado')\n",
    "  return 'Livro não encontrado'\n",
    "\n",
    "ache_livro_iterativo(pilha_de_livros, livro_de_interesse)"
   ]
  },
  {
   "cell_type": "markdown",
   "metadata": {
    "id": "liF_QQxDG73-"
   },
   "source": [
    "**Forma recursiva**"
   ]
  },
  {
   "cell_type": "code",
   "execution_count": 13,
   "metadata": {
    "colab": {
     "base_uri": "https://localhost:8080/",
     "height": 330
    },
    "executionInfo": {
     "elapsed": 273,
     "status": "ok",
     "timestamp": 1666046884103,
     "user": {
      "displayName": "Gilberto Kaihami",
      "userId": "07651446941847976228"
     },
     "user_tz": 180
    },
    "id": "OxIaJwHRTBNv",
    "outputId": "5c14f7b7-0ace-4dde-faeb-d0dc389f7637"
   },
   "outputs": [
    {
     "name": "stdout",
     "output_type": "stream",
     "text": [
      "['Senhor dos aneis', 'Guerra dos mundos', '1984', 'A revolução dos bichos']\n",
      "Chamando de novo a função de forma recursiva\n",
      "pilha_livros_busca = ['Senhor dos aneis', 'Guerra dos mundos', '1984']\n",
      "--------------------------------\n",
      "['Senhor dos aneis', 'Guerra dos mundos', '1984']\n",
      "Chamando de novo a função de forma recursiva\n",
      "pilha_livros_busca = ['Senhor dos aneis', 'Guerra dos mundos']\n",
      "--------------------------------\n",
      "['Senhor dos aneis', 'Guerra dos mundos']\n",
      "Chamando de novo a função de forma recursiva\n",
      "pilha_livros_busca = ['Senhor dos aneis']\n",
      "--------------------------------\n",
      "['Senhor dos aneis']\n",
      "Chamando de novo a função de forma recursiva\n",
      "pilha_livros_busca = []\n",
      "--------------------------------\n",
      "[]\n"
     ]
    },
    {
     "data": {
      "application/vnd.google.colaboratory.intrinsic+json": {
       "type": "string"
      },
      "text/plain": [
       "'Livro não encontrado'"
      ]
     },
     "execution_count": 13,
     "metadata": {},
     "output_type": "execute_result"
    }
   ],
   "source": [
    "pilha_de_livros = [\n",
    "    'Senhor dos aneis', 'Guerra dos mundos', '1984', 'A revolução dos bichos'\n",
    "]\n",
    "\n",
    "livro_de_interesse = 'A pequena sereia'\n",
    "\n",
    "def ache_livro_recursivo(pilha_de_livros, livro_de_interesse):\n",
    "  print(pilha_de_livros)\n",
    "  pilha_livros_busca = pilha_de_livros[::]\n",
    "  # Caso base\n",
    "  # Se não temos livros na pilha de livros paramos a busca\n",
    "  if len(pilha_livros_busca) == 0:\n",
    "    return 'Livro não encontrado'\n",
    "  \n",
    "  livro_da_pilha = pilha_livros_busca.pop()\n",
    "\n",
    "  # Segundo caso base, achamos o livro de interesse?\n",
    "  if livro_da_pilha == livro_de_interesse:\n",
    "    print(f'Livro de interesse {livro_de_interesse} achado!')\n",
    "    return livro_de_interesse\n",
    "  else:\n",
    "    print('Chamando de novo a função de forma recursiva')\n",
    "    print(f'pilha_livros_busca = {pilha_livros_busca}')\n",
    "    print('-'*32)\n",
    "    return ache_livro_recursivo(pilha_livros_busca, livro_de_interesse)\n",
    "\n",
    "ache_livro_recursivo(pilha_de_livros, livro_de_interesse)"
   ]
  },
  {
   "cell_type": "code",
   "execution_count": 28,
   "metadata": {
    "executionInfo": {
     "elapsed": 1,
     "status": "ok",
     "timestamp": 1666048237416,
     "user": {
      "displayName": "Gilberto Kaihami",
      "userId": "07651446941847976228"
     },
     "user_tz": 180
    },
    "id": "IGFmMfr8o11d"
   },
   "outputs": [],
   "source": [
    "def factorial_iterative(n):\n",
    "  k = 1\n",
    "  resultado = 1\n",
    "  while k <= n:\n",
    "    resultado *= k\n",
    "    print(f\"k={k}, resultado={resultado}\")\n",
    "    k += 1\n",
    "  return resultado"
   ]
  },
  {
   "cell_type": "code",
   "execution_count": 39,
   "metadata": {
    "colab": {
     "base_uri": "https://localhost:8080/"
    },
    "executionInfo": {
     "elapsed": 2,
     "status": "ok",
     "timestamp": 1666048307695,
     "user": {
      "displayName": "Gilberto Kaihami",
      "userId": "07651446941847976228"
     },
     "user_tz": 180
    },
    "id": "LUtsmU7ntdEc",
    "outputId": "8894cfb9-7213-40d4-c913-73a021638522"
   },
   "outputs": [
    {
     "name": "stdout",
     "output_type": "stream",
     "text": [
      "CPU times: user 7 µs, sys: 1e+03 ns, total: 8 µs\n",
      "Wall time: 12.9 µs\n"
     ]
    },
    {
     "data": {
      "text/plain": [
       "3628800"
      ]
     },
     "execution_count": 39,
     "metadata": {},
     "output_type": "execute_result"
    }
   ],
   "source": [
    "%%time\n",
    "factorial_iterative(10)"
   ]
  },
  {
   "cell_type": "code",
   "execution_count": 40,
   "metadata": {
    "executionInfo": {
     "elapsed": 252,
     "status": "ok",
     "timestamp": 1666048317785,
     "user": {
      "displayName": "Gilberto Kaihami",
      "userId": "07651446941847976228"
     },
     "user_tz": 180
    },
    "id": "sQpfWfwgpWko"
   },
   "outputs": [],
   "source": [
    "def factorial_recursivo(n, string=''):\n",
    "  print(f'n={n}')\n",
    "\n",
    "  # Caso base para o fatorial de 0 e 1\n",
    "  if n == 0 or n == 1:\n",
    "    string += ' * 1'\n",
    "    print(string)\n",
    "    return 1\n",
    "  else:\n",
    "    if string == '':\n",
    "      string += f\"{n}\"\n",
    "    else:\n",
    "      string += f\" * {n}\"\n",
    "    return n * factorial_recursivo(n-1, string)\n"
   ]
  },
  {
   "cell_type": "markdown",
   "metadata": {
    "id": "Zjq0QYGzNP8_"
   },
   "source": [
    "`n = 10`  \n",
    "`10 * factorial_recursivo(10-1)`  \n",
    "`10 * 9 * factorial_recursivo(9-1)`"
   ]
  },
  {
   "cell_type": "code",
   "execution_count": 41,
   "metadata": {
    "colab": {
     "base_uri": "https://localhost:8080/"
    },
    "executionInfo": {
     "elapsed": 2,
     "status": "ok",
     "timestamp": 1666048321521,
     "user": {
      "displayName": "Gilberto Kaihami",
      "userId": "07651446941847976228"
     },
     "user_tz": 180
    },
    "id": "ivZrZvdTM0uH",
    "outputId": "31abd48e-350c-4ea8-915b-106dd9738ec1"
   },
   "outputs": [
    {
     "name": "stdout",
     "output_type": "stream",
     "text": [
      "n=10\n",
      "n=9\n",
      "n=8\n",
      "n=7\n",
      "n=6\n",
      "n=5\n",
      "n=4\n",
      "n=3\n",
      "n=2\n",
      "n=1\n",
      "10 * 9 * 8 * 7 * 6 * 5 * 4 * 3 * 2 * 1\n",
      "3628800\n",
      "CPU times: user 3.44 ms, sys: 0 ns, total: 3.44 ms\n",
      "Wall time: 3.3 ms\n"
     ]
    }
   ],
   "source": [
    "%%time\n",
    "valor = factorial_recursivo(10)\n",
    "print(valor)"
   ]
  },
  {
   "cell_type": "code",
   "execution_count": null,
   "metadata": {
    "id": "IBVzX1PUpX1T"
   },
   "outputs": [],
   "source": []
  },
  {
   "cell_type": "markdown",
   "metadata": {
    "id": "_mUCOheeoJ2r"
   },
   "source": [
    "Exemplo mais prático usando o algoritmo depth-first"
   ]
  },
  {
   "cell_type": "code",
   "execution_count": 51,
   "metadata": {
    "colab": {
     "base_uri": "https://localhost:8080/",
     "height": 521
    },
    "executionInfo": {
     "elapsed": 878,
     "status": "ok",
     "timestamp": 1666048838413,
     "user": {
      "displayName": "Gilberto Kaihami",
      "userId": "07651446941847976228"
     },
     "user_tz": 180
    },
    "id": "gsL-GKoSrgh-",
    "outputId": "6a6bf8d4-b1fd-4fc7-9266-cfa2bfed5bc5"
   },
   "outputs": [
    {
     "data": {
      "text/html": [
       "\n",
       "      <svg width=\"800\" height=\"500\">\n",
       "        <rect width=\"100%\" height=\"100%\" fill=\"#ffffff\"/>\n",
       "        <text x=\"10\" y=\"10\" fill=\"black\" text-anchor=\"start\" style=\"font-size:12px;font-family:'Arial';\">Seed: 0</text><line x1=\"350\" y1=\"10\" x2=\"350.0\" y2=\"100.0\" stroke-linecap=\"round\" style=\"stroke:black;stroke-width:12\"/><line x1=\"350.0\" y1=\"100.0\" x2=\"330.589\" y2=\"172.444\" stroke-linecap=\"round\" style=\"stroke:black;stroke-width:10\"/><line x1=\"330.589\" y1=\"172.444\" x2=\"300.589\" y2=\"224.406\" stroke-linecap=\"round\" style=\"stroke:black;stroke-width:8\"/><line x1=\"300.589\" y1=\"224.406\" x2=\"268.769\" y2=\"256.226\" stroke-linecap=\"round\" style=\"stroke:black;stroke-width:6\"/><line x1=\"268.769\" y1=\"256.226\" x2=\"242.788\" y2=\"271.226\" stroke-linecap=\"round\" style=\"stroke:black;stroke-width:4\"/><line x1=\"242.788\" y1=\"271.226\" x2=\"228.299\" y2=\"275.108\" stroke-linecap=\"round\" style=\"stroke:black;stroke-width:2\"/><line x1=\"242.788\" y1=\"271.226\" x2=\"233.146\" y2=\"282.717\" stroke-linecap=\"round\" style=\"stroke:black;stroke-width:2\"/><line x1=\"268.769\" y1=\"256.226\" x2=\"256.09\" y2=\"283.415\" stroke-linecap=\"round\" style=\"stroke:black;stroke-width:4\"/><line x1=\"256.09\" y1=\"283.415\" x2=\"246.448\" y2=\"294.906\" stroke-linecap=\"round\" style=\"stroke:black;stroke-width:2\"/><line x1=\"256.09\" y1=\"283.415\" x2=\"254.783\" y2=\"298.358\" stroke-linecap=\"round\" style=\"stroke:black;stroke-width:2\"/><line x1=\"300.589\" y1=\"224.406\" x2=\"292.775\" y2=\"268.722\" stroke-linecap=\"round\" style=\"stroke:black;stroke-width:6\"/><line x1=\"292.775\" y1=\"268.722\" x2=\"280.096\" y2=\"295.911\" stroke-linecap=\"round\" style=\"stroke:black;stroke-width:4\"/><line x1=\"280.096\" y1=\"295.911\" x2=\"270.454\" y2=\"307.402\" stroke-linecap=\"round\" style=\"stroke:black;stroke-width:2\"/><line x1=\"280.096\" y1=\"295.911\" x2=\"278.789\" y2=\"310.854\" stroke-linecap=\"round\" style=\"stroke:black;stroke-width:2\"/><line x1=\"292.775\" y1=\"268.722\" x2=\"297.984\" y2=\"298.266\" stroke-linecap=\"round\" style=\"stroke:black;stroke-width:4\"/><line x1=\"297.984\" y1=\"298.266\" x2=\"296.677\" y2=\"313.209\" stroke-linecap=\"round\" style=\"stroke:black;stroke-width:2\"/><line x1=\"297.984\" y1=\"298.266\" x2=\"305.484\" y2=\"311.256\" stroke-linecap=\"round\" style=\"stroke:black;stroke-width:2\"/><line x1=\"330.589\" y1=\"172.444\" x2=\"335.818\" y2=\"232.216\" stroke-linecap=\"round\" style=\"stroke:black;stroke-width:8\"/><line x1=\"335.818\" y1=\"232.216\" x2=\"328.004\" y2=\"276.532\" stroke-linecap=\"round\" style=\"stroke:black;stroke-width:6\"/><line x1=\"328.004\" y1=\"276.532\" x2=\"315.325\" y2=\"303.721\" stroke-linecap=\"round\" style=\"stroke:black;stroke-width:4\"/><line x1=\"315.325\" y1=\"303.721\" x2=\"305.683\" y2=\"315.212\" stroke-linecap=\"round\" style=\"stroke:black;stroke-width:2\"/><line x1=\"315.325\" y1=\"303.721\" x2=\"314.018\" y2=\"318.664\" stroke-linecap=\"round\" style=\"stroke:black;stroke-width:2\"/><line x1=\"328.004\" y1=\"276.532\" x2=\"333.213\" y2=\"306.076\" stroke-linecap=\"round\" style=\"stroke:black;stroke-width:4\"/><line x1=\"333.213\" y1=\"306.076\" x2=\"331.906\" y2=\"321.019\" stroke-linecap=\"round\" style=\"stroke:black;stroke-width:2\"/><line x1=\"333.213\" y1=\"306.076\" x2=\"340.713\" y2=\"319.066\" stroke-linecap=\"round\" style=\"stroke:black;stroke-width:2\"/><line x1=\"335.818\" y1=\"232.216\" x2=\"354.836\" y2=\"273.0\" stroke-linecap=\"round\" style=\"stroke:black;stroke-width:6\"/><line x1=\"354.836\" y1=\"273.0\" x2=\"360.045\" y2=\"302.544\" stroke-linecap=\"round\" style=\"stroke:black;stroke-width:4\"/><line x1=\"360.045\" y1=\"302.544\" x2=\"358.738\" y2=\"317.487\" stroke-linecap=\"round\" style=\"stroke:black;stroke-width:2\"/><line x1=\"360.045\" y1=\"302.544\" x2=\"367.545\" y2=\"315.534\" stroke-linecap=\"round\" style=\"stroke:black;stroke-width:2\"/><line x1=\"354.836\" y1=\"273.0\" x2=\"376.049\" y2=\"294.213\" stroke-linecap=\"round\" style=\"stroke:black;stroke-width:4\"/><line x1=\"376.049\" y1=\"294.213\" x2=\"383.549\" y2=\"307.203\" stroke-linecap=\"round\" style=\"stroke:black;stroke-width:2\"/><line x1=\"376.049\" y1=\"294.213\" x2=\"389.644\" y2=\"300.552\" stroke-linecap=\"round\" style=\"stroke:black;stroke-width:2\"/><line x1=\"350.0\" y1=\"100.0\" x2=\"375.652\" y2=\"170.477\" stroke-linecap=\"round\" style=\"stroke:black;stroke-width:10\"/><line x1=\"375.652\" y1=\"170.477\" x2=\"380.881\" y2=\"230.249\" stroke-linecap=\"round\" style=\"stroke:black;stroke-width:8\"/><line x1=\"380.881\" y1=\"230.249\" x2=\"373.067\" y2=\"274.565\" stroke-linecap=\"round\" style=\"stroke:black;stroke-width:6\"/><line x1=\"373.067\" y1=\"274.565\" x2=\"360.388\" y2=\"301.754\" stroke-linecap=\"round\" style=\"stroke:black;stroke-width:4\"/><line x1=\"360.388\" y1=\"301.754\" x2=\"350.746\" y2=\"313.245\" stroke-linecap=\"round\" style=\"stroke:black;stroke-width:2\"/><line x1=\"360.388\" y1=\"301.754\" x2=\"359.081\" y2=\"316.697\" stroke-linecap=\"round\" style=\"stroke:black;stroke-width:2\"/><line x1=\"373.067\" y1=\"274.565\" x2=\"378.276\" y2=\"304.109\" stroke-linecap=\"round\" style=\"stroke:black;stroke-width:4\"/><line x1=\"378.276\" y1=\"304.109\" x2=\"376.969\" y2=\"319.052\" stroke-linecap=\"round\" style=\"stroke:black;stroke-width:2\"/><line x1=\"378.276\" y1=\"304.109\" x2=\"385.776\" y2=\"317.099\" stroke-linecap=\"round\" style=\"stroke:black;stroke-width:2\"/><line x1=\"380.881\" y1=\"230.249\" x2=\"399.899\" y2=\"271.033\" stroke-linecap=\"round\" style=\"stroke:black;stroke-width:6\"/><line x1=\"399.899\" y1=\"271.033\" x2=\"405.108\" y2=\"300.577\" stroke-linecap=\"round\" style=\"stroke:black;stroke-width:4\"/><line x1=\"405.108\" y1=\"300.577\" x2=\"403.801\" y2=\"315.52\" stroke-linecap=\"round\" style=\"stroke:black;stroke-width:2\"/><line x1=\"405.108\" y1=\"300.577\" x2=\"412.608\" y2=\"313.567\" stroke-linecap=\"round\" style=\"stroke:black;stroke-width:2\"/><line x1=\"399.899\" y1=\"271.033\" x2=\"421.112\" y2=\"292.246\" stroke-linecap=\"round\" style=\"stroke:black;stroke-width:4\"/><line x1=\"421.112\" y1=\"292.246\" x2=\"428.612\" y2=\"305.236\" stroke-linecap=\"round\" style=\"stroke:black;stroke-width:2\"/><line x1=\"421.112\" y1=\"292.246\" x2=\"434.707\" y2=\"298.585\" stroke-linecap=\"round\" style=\"stroke:black;stroke-width:2\"/><line x1=\"375.652\" y1=\"170.477\" x2=\"414.219\" y2=\"216.44\" stroke-linecap=\"round\" style=\"stroke:black;stroke-width:8\"/><line x1=\"414.219\" y1=\"216.44\" x2=\"433.237\" y2=\"257.224\" stroke-linecap=\"round\" style=\"stroke:black;stroke-width:6\"/><line x1=\"433.237\" y1=\"257.224\" x2=\"438.446\" y2=\"286.768\" stroke-linecap=\"round\" style=\"stroke:black;stroke-width:4\"/><line x1=\"438.446\" y1=\"286.768\" x2=\"437.139\" y2=\"301.711\" stroke-linecap=\"round\" style=\"stroke:black;stroke-width:2\"/><line x1=\"438.446\" y1=\"286.768\" x2=\"445.946\" y2=\"299.758\" stroke-linecap=\"round\" style=\"stroke:black;stroke-width:2\"/><line x1=\"433.237\" y1=\"257.224\" x2=\"454.45\" y2=\"278.437\" stroke-linecap=\"round\" style=\"stroke:black;stroke-width:4\"/><line x1=\"454.45\" y1=\"278.437\" x2=\"461.95\" y2=\"291.427\" stroke-linecap=\"round\" style=\"stroke:black;stroke-width:2\"/><line x1=\"454.45\" y1=\"278.437\" x2=\"468.045\" y2=\"284.776\" stroke-linecap=\"round\" style=\"stroke:black;stroke-width:2\"/><line x1=\"414.219\" y1=\"216.44\" x2=\"453.19\" y2=\"238.94\" stroke-linecap=\"round\" style=\"stroke:black;stroke-width:6\"/><line x1=\"453.19\" y1=\"238.94\" x2=\"474.403\" y2=\"260.153\" stroke-linecap=\"round\" style=\"stroke:black;stroke-width:4\"/><line x1=\"474.403\" y1=\"260.153\" x2=\"481.903\" y2=\"273.143\" stroke-linecap=\"round\" style=\"stroke:black;stroke-width:2\"/><line x1=\"474.403\" y1=\"260.153\" x2=\"487.998\" y2=\"266.492\" stroke-linecap=\"round\" style=\"stroke:black;stroke-width:2\"/><line x1=\"453.19\" y1=\"238.94\" x2=\"482.734\" y2=\"244.149\" stroke-linecap=\"round\" style=\"stroke:black;stroke-width:4\"/><line x1=\"482.734\" y1=\"244.149\" x2=\"496.329\" y2=\"250.488\" stroke-linecap=\"round\" style=\"stroke:black;stroke-width:2\"/><line x1=\"482.734\" y1=\"244.149\" x2=\"497.506\" y2=\"241.544\" stroke-linecap=\"round\" style=\"stroke:black;stroke-width:2\"/>\n",
       "        <g visibility=hidden transform=\"rotate(440,497.506,241.544) translate(479.506, 223.544)\">\n",
       "<path style=\" stroke:none;fill-rule:evenodd;fill:black;fill-opacity:1;\" d=\"M 18.214844 0.632812 C 16.109375 1.800781 15.011719 4.074219 15.074219 7.132812 L 15.085938 7.652344 L 14.785156 7.496094 C 13.476562 6.824219 11.957031 6.671875 10.40625 7.066406 C 8.46875 7.550781 6.515625 9.15625 4.394531 11.992188 C 3.0625 13.777344 2.679688 14.636719 3.042969 15.027344 L 3.15625 15.152344 L 3.519531 15.152344 C 4.238281 15.152344 4.828125 14.886719 8.1875 13.039062 C 9.386719 12.378906 10.371094 11.839844 10.378906 11.839844 C 10.386719 11.839844 10.355469 11.929688 10.304688 12.035156 C 9.832031 13.09375 9.257812 14.820312 8.96875 16.078125 C 7.914062 20.652344 8.617188 24.53125 11.070312 27.660156 C 11.351562 28.015625 11.363281 27.914062 10.972656 28.382812 C 8.925781 30.84375 7.945312 33.28125 8.238281 35.1875 C 8.289062 35.527344 8.28125 35.523438 8.917969 35.523438 C 10.941406 35.523438 13.074219 34.207031 15.136719 31.6875 C 15.359375 31.417969 15.328125 31.425781 15.5625 31.574219 C 16.292969 32.042969 18.023438 32.964844 18.175781 32.964844 C 18.335938 32.964844 19.941406 32.210938 20.828125 31.71875 C 20.996094 31.625 21.136719 31.554688 21.136719 31.558594 C 21.203125 31.664062 21.898438 32.414062 22.222656 32.730469 C 23.835938 34.300781 25.5625 35.132812 27.582031 35.300781 C 27.90625 35.328125 27.9375 35.308594 28.007812 34.984375 C 28.382812 33.242188 27.625 30.925781 25.863281 28.425781 L 25.542969 27.96875 L 25.699219 27.785156 C 28.945312 23.960938 29.132812 18.699219 26.257812 11.96875 L 26.207031 11.84375 L 27.945312 12.703125 C 31.53125 14.476562 32.316406 14.800781 33.03125 14.800781 C 33.976562 14.800781 33.78125 13.9375 32.472656 12.292969 C 28.519531 7.355469 25.394531 5.925781 21.921875 7.472656 L 21.558594 7.636719 L 21.578125 7.542969 C 21.699219 6.992188 21.761719 5.742188 21.699219 5.164062 C 21.496094 3.296875 20.664062 1.964844 19.003906 0.855469 C 18.480469 0.503906 18.457031 0.5 18.214844 0.632812\"/>\n",
       "</g>\n",
       "      </svg>\n",
       "    "
      ],
      "text/plain": [
       "<IPython.core.display.HTML object>"
      ]
     },
     "metadata": {},
     "output_type": "display_data"
    }
   ],
   "source": [
    "import ColabTurtle.Turtle as lia\n",
    "\n",
    "def draw_branch(start_position, direction, branch_length):\n",
    "    if branch_length < 5:\n",
    "        # BASE CASE\n",
    "        return\n",
    "\n",
    "    # Go to the starting point & direction.\n",
    "    lia.penup()\n",
    "    lia.goto(start_position)\n",
    "    lia.setheading(direction)\n",
    "\n",
    "    # Draw the branch (thickness is 1/7 the length).\n",
    "    lia.pendown()\n",
    "    pen_size = max(branch_length//7, 1)\n",
    "    lia.pensize(pen_size)\n",
    "    lia.forward(branch_length)\n",
    "\n",
    "    # Record the position of the branch's end.\n",
    "    endPosition = lia.position()\n",
    "    leftDirection = direction + LEFT_ANGLE\n",
    "    left_branch_length = branch_length - LEFT_DECREASE\n",
    "    \n",
    "    right_direction = direction - RIGHT_ANGLE\n",
    "    right_branch_length = branch_length - RIGHT_DECREASE\n",
    "\n",
    "    # Recursão para esquerda e direita!\n",
    "    draw_branch(endPosition, leftDirection, left_branch_length)\n",
    "    draw_branch(endPosition, right_direction, right_branch_length)\n",
    "\n",
    "seed = 0\n",
    "\n",
    "# Modificar aqui\n",
    "LEFT_ANGLE     = 15\n",
    "LEFT_DECREASE  = 15\n",
    "RIGHT_ANGLE    = 20\n",
    "RIGHT_DECREASE = 15\n",
    "START_LENGTH   = 90\n",
    "\n",
    "# Write out the seed number.\n",
    "lia.initializeTurtle(initial_speed=13)\n",
    "lia.hideturtle()\n",
    "lia.color('black')\n",
    "lia.pensize(2)\n",
    "lia.bgcolor(\"#FFFFFF\")\n",
    "lia.clear()\n",
    "lia.penup()\n",
    "lia.goto(10, 10)\n",
    "lia.write('Seed: %s' % (seed))\n",
    "\n",
    "# Draw the tree.\n",
    "draw_branch((350, 10), 90, START_LENGTH)\n",
    "# lia.update()\n"
   ]
  },
  {
   "cell_type": "code",
   "execution_count": null,
   "metadata": {
    "id": "v3IUIM0ZQCi-"
   },
   "outputs": [],
   "source": []
  },
  {
   "cell_type": "markdown",
   "metadata": {
    "id": "9SQVrLXm41Wu"
   },
   "source": [
    "### Tratamento de exeções\n",
    "\n",
    "Em diversos momentos geramos alguns erros provocados por operações inválidas nos programas desenvolvidos até o momento.\n",
    "\n",
    "Por exemplo, ao alterar o valor de uma string para inteiro.\n",
    "```\n",
    "string = 'ola'\n",
    "numero = int(string)\n",
    "```\n",
    "Resultando num `ValueError`.\n",
    "\n",
    "Por sua vez, ao tentarmos dividir um valor por zero:\n",
    "```\n",
    "x = 1/0\n",
    "```\n",
    "\n",
    "Resulta num erro de `ZeroDivisionError`.\n",
    "\n",
    "Nos dois casos acima, temos um nome, `ValueError` e `ZeroDivisionError` indicando quais foram os erros levantados.\n",
    "\n",
    "É importante notar que estes não são erros de lógica e de sintaxe, e são conhecidos como **exceções**.\n",
    "\n",
    "Para uma lista completa das exceções temos [a documentação oficial](https://docs.python.org/pt-br/3/library/exceptions.html)"
   ]
  },
  {
   "cell_type": "markdown",
   "metadata": {
    "id": "crq2CDoV52_n"
   },
   "source": [
    "Try/except\n",
    "\n",
    "Para lidar com as exceções podemos criar blocos lógicos do tipo `try`/`except`.\n",
    "\n",
    "Permitindo que a tratativa do erro seja feita de forma correta possibilitando que este seja operacionalizado de forma correta."
   ]
  },
  {
   "cell_type": "code",
   "execution_count": 59,
   "metadata": {
    "colab": {
     "base_uri": "https://localhost:8080/",
     "height": 271
    },
    "executionInfo": {
     "elapsed": 2,
     "status": "error",
     "timestamp": 1666050372281,
     "user": {
      "displayName": "Gilberto Kaihami",
      "userId": "07651446941847976228"
     },
     "user_tz": 180
    },
    "id": "js9JITEpVkDc",
    "outputId": "59479ee0-5a14-4502-dda2-31b63c738295"
   },
   "outputs": [
    {
     "name": "stdout",
     "output_type": "stream",
     "text": [
      "3\n",
      "2\n",
      "1\n",
      "0\n"
     ]
    },
    {
     "ename": "ZeroDivisionError",
     "evalue": "ignored",
     "output_type": "error",
     "traceback": [
      "\u001b[0;31m---------------------------------------------------------------------------\u001b[0m",
      "\u001b[0;31mZeroDivisionError\u001b[0m                         Traceback (most recent call last)",
      "\u001b[0;32m<ipython-input-59-db676a83a2e7>\u001b[0m in \u001b[0;36m<module>\u001b[0;34m\u001b[0m\n\u001b[1;32m      2\u001b[0m \u001b[0;32mfor\u001b[0m \u001b[0mnum\u001b[0m \u001b[0;32min\u001b[0m \u001b[0mrange\u001b[0m\u001b[0;34m(\u001b[0m\u001b[0;36m3\u001b[0m\u001b[0;34m,\u001b[0m \u001b[0;34m-\u001b[0m\u001b[0;36m1\u001b[0m\u001b[0;34m,\u001b[0m \u001b[0;34m-\u001b[0m\u001b[0;36m1\u001b[0m\u001b[0;34m)\u001b[0m\u001b[0;34m:\u001b[0m\u001b[0;34m\u001b[0m\u001b[0;34m\u001b[0m\u001b[0m\n\u001b[1;32m      3\u001b[0m   \u001b[0mprint\u001b[0m\u001b[0;34m(\u001b[0m\u001b[0mnum\u001b[0m\u001b[0;34m)\u001b[0m\u001b[0;34m\u001b[0m\u001b[0;34m\u001b[0m\u001b[0m\n\u001b[0;32m----> 4\u001b[0;31m   \u001b[0mdivisao\u001b[0m \u001b[0;34m=\u001b[0m \u001b[0;36m10\u001b[0m\u001b[0;34m/\u001b[0m\u001b[0mnum\u001b[0m\u001b[0;34m\u001b[0m\u001b[0;34m\u001b[0m\u001b[0m\n\u001b[0m",
      "\u001b[0;31mZeroDivisionError\u001b[0m: division by zero"
     ]
    }
   ],
   "source": [
    "# Gerando um erro de divisão por zero\n",
    "for num in range(3, -1, -1):\n",
    "  print(num)\n",
    "  divisao = 10/num"
   ]
  },
  {
   "cell_type": "markdown",
   "metadata": {
    "id": "BKmNF8i_6fhy"
   },
   "source": [
    "Tratando esse erro, usando o try/except"
   ]
  },
  {
   "cell_type": "code",
   "execution_count": 61,
   "metadata": {
    "colab": {
     "base_uri": "https://localhost:8080/"
    },
    "executionInfo": {
     "elapsed": 219,
     "status": "ok",
     "timestamp": 1666050444920,
     "user": {
      "displayName": "Gilberto Kaihami",
      "userId": "07651446941847976228"
     },
     "user_tz": 180
    },
    "id": "5Tq6FIp852mG",
    "outputId": "e4eb967e-d737-4f5e-f2ac-669aa67f209d"
   },
   "outputs": [
    {
     "name": "stdout",
     "output_type": "stream",
     "text": [
      "10/3 = 3.3333333333333335\n",
      "--------------------------------\n",
      "10/2 = 5.0\n",
      "--------------------------------\n",
      "10/1 = 10.0\n",
      "--------------------------------\n",
      "10/0 = infinito\n",
      "--------------------------------\n"
     ]
    }
   ],
   "source": [
    "# Gerando um erro de divisão por zero\n",
    "for num in range(3, -1, -1):\n",
    "  try:\n",
    "    divisao = 10/num\n",
    "  except:\n",
    "    divisao = 'infinito'\n",
    "  print(f'{10}/{num} = {divisao}')\n",
    "  print('-'*32)"
   ]
  },
  {
   "cell_type": "markdown",
   "metadata": {
    "id": "dirGmlbH64i5"
   },
   "source": [
    "Podemos encadear erros que podem ser tratados e não tratados!"
   ]
  },
  {
   "cell_type": "code",
   "execution_count": 66,
   "metadata": {
    "colab": {
     "base_uri": "https://localhost:8080/",
     "height": 461
    },
    "executionInfo": {
     "elapsed": 282,
     "status": "error",
     "timestamp": 1666050701918,
     "user": {
      "displayName": "Gilberto Kaihami",
      "userId": "07651446941847976228"
     },
     "user_tz": 180
    },
    "id": "ss75IROR619f",
    "outputId": "b90c7f4c-91b1-4d86-9d50-ab2aa63e0ed9"
   },
   "outputs": [
    {
     "name": "stdout",
     "output_type": "stream",
     "text": [
      "1/0 = infinito\n",
      "--------------------------------\n",
      "1/2 = 0.5\n",
      "--------------------------------\n",
      "1/3 = 0.3333333333333333\n",
      "--------------------------------\n"
     ]
    },
    {
     "ename": "TypeError",
     "evalue": "ignored",
     "output_type": "error",
     "traceback": [
      "\u001b[0;31m---------------------------------------------------------------------------\u001b[0m",
      "\u001b[0;31mTypeError\u001b[0m                                 Traceback (most recent call last)",
      "\u001b[0;32m<ipython-input-66-16c0b7509fed>\u001b[0m in \u001b[0;36m<module>\u001b[0;34m\u001b[0m\n\u001b[1;32m      4\u001b[0m \u001b[0;32mfor\u001b[0m \u001b[0mele\u001b[0m \u001b[0;32min\u001b[0m \u001b[0mlista\u001b[0m\u001b[0;34m:\u001b[0m\u001b[0;34m\u001b[0m\u001b[0;34m\u001b[0m\u001b[0m\n\u001b[1;32m      5\u001b[0m   \u001b[0;32mtry\u001b[0m\u001b[0;34m:\u001b[0m\u001b[0;34m\u001b[0m\u001b[0;34m\u001b[0m\u001b[0m\n\u001b[0;32m----> 6\u001b[0;31m     \u001b[0mdiv\u001b[0m \u001b[0;34m=\u001b[0m \u001b[0mdivisao\u001b[0m\u001b[0;34m(\u001b[0m\u001b[0;36m1\u001b[0m\u001b[0;34m,\u001b[0m \u001b[0mele\u001b[0m\u001b[0;34m)\u001b[0m\u001b[0;34m\u001b[0m\u001b[0;34m\u001b[0m\u001b[0m\n\u001b[0m\u001b[1;32m      7\u001b[0m   \u001b[0;32mexcept\u001b[0m \u001b[0mZeroDivisionError\u001b[0m\u001b[0;34m:\u001b[0m\u001b[0;34m\u001b[0m\u001b[0;34m\u001b[0m\u001b[0m\n\u001b[1;32m      8\u001b[0m     \u001b[0mdiv\u001b[0m \u001b[0;34m=\u001b[0m \u001b[0;34m'infinito'\u001b[0m\u001b[0;34m\u001b[0m\u001b[0;34m\u001b[0m\u001b[0m\n",
      "\u001b[0;32m<ipython-input-66-16c0b7509fed>\u001b[0m in \u001b[0;36m<lambda>\u001b[0;34m(a, b)\u001b[0m\n\u001b[0;32m----> 1\u001b[0;31m \u001b[0mdivisao\u001b[0m \u001b[0;34m=\u001b[0m \u001b[0;32mlambda\u001b[0m \u001b[0ma\u001b[0m\u001b[0;34m,\u001b[0m \u001b[0mb\u001b[0m\u001b[0;34m:\u001b[0m \u001b[0ma\u001b[0m\u001b[0;34m/\u001b[0m\u001b[0mb\u001b[0m\u001b[0;34m\u001b[0m\u001b[0;34m\u001b[0m\u001b[0m\n\u001b[0m\u001b[1;32m      2\u001b[0m \u001b[0;34m\u001b[0m\u001b[0m\n\u001b[1;32m      3\u001b[0m \u001b[0mlista\u001b[0m \u001b[0;34m=\u001b[0m \u001b[0;34m[\u001b[0m\u001b[0;36m0\u001b[0m\u001b[0;34m,\u001b[0m \u001b[0;36m2\u001b[0m\u001b[0;34m,\u001b[0m \u001b[0;36m3\u001b[0m\u001b[0;34m,\u001b[0m \u001b[0;34m'a'\u001b[0m\u001b[0;34m,\u001b[0m \u001b[0;36m5\u001b[0m\u001b[0;34m]\u001b[0m\u001b[0;34m\u001b[0m\u001b[0;34m\u001b[0m\u001b[0m\n\u001b[1;32m      4\u001b[0m \u001b[0;32mfor\u001b[0m \u001b[0mele\u001b[0m \u001b[0;32min\u001b[0m \u001b[0mlista\u001b[0m\u001b[0;34m:\u001b[0m\u001b[0;34m\u001b[0m\u001b[0;34m\u001b[0m\u001b[0m\n\u001b[1;32m      5\u001b[0m   \u001b[0;32mtry\u001b[0m\u001b[0;34m:\u001b[0m\u001b[0;34m\u001b[0m\u001b[0;34m\u001b[0m\u001b[0m\n",
      "\u001b[0;31mTypeError\u001b[0m: unsupported operand type(s) for /: 'int' and 'str'"
     ]
    }
   ],
   "source": [
    "divisao = lambda a, b: a/b\n",
    "\n",
    "lista = [0, 2, 3, 'a', 5]\n",
    "for ele in lista:\n",
    "  try:\n",
    "    div = divisao(1, ele)\n",
    "  except ZeroDivisionError:\n",
    "    div = 'infinito'\n",
    "  print(f'{1}/{ele} = {div}')\n",
    "  print('-'*32)"
   ]
  },
  {
   "cell_type": "markdown",
   "metadata": {
    "id": "mJddpwOP7XnS"
   },
   "source": [
    "No exemplo acima temos um erro de `TypeError`.\n",
    "\n",
    "Podemos colocar outro bloco de except permitindo que esse erro não ocorra."
   ]
  },
  {
   "cell_type": "code",
   "execution_count": 67,
   "metadata": {
    "colab": {
     "base_uri": "https://localhost:8080/"
    },
    "executionInfo": {
     "elapsed": 275,
     "status": "ok",
     "timestamp": 1666050733818,
     "user": {
      "displayName": "Gilberto Kaihami",
      "userId": "07651446941847976228"
     },
     "user_tz": 180
    },
    "id": "xCe7myTN52Qp",
    "outputId": "40604049-2eae-48ff-8047-6532bde97e99"
   },
   "outputs": [
    {
     "name": "stdout",
     "output_type": "stream",
     "text": [
      "1/0 = infinito\n",
      "--------------------------------\n",
      "1/2 = 0.5\n",
      "--------------------------------\n",
      "1/3 = 0.3333333333333333\n",
      "--------------------------------\n",
      "1/a = input inválido\n",
      "--------------------------------\n",
      "1/5 = 0.2\n",
      "--------------------------------\n"
     ]
    }
   ],
   "source": [
    "divisao = lambda a, b: a/b\n",
    "\n",
    "lista = [0, 2, 3, 'a', 5]\n",
    "for ele in lista:\n",
    "  try:\n",
    "    div = divisao(1, ele)\n",
    "  except ZeroDivisionError:\n",
    "    div = 'infinito'\n",
    "  except TypeError:\n",
    "    div = 'input inválido'\n",
    "  print(f'{1}/{ele} = {div}')\n",
    "  print('-'*32)"
   ]
  },
  {
   "cell_type": "markdown",
   "metadata": {
    "id": "1ejw1jql7y-L"
   },
   "source": [
    "Por fim podemos inserir um except genêrico para todos os erros finalizando o código!"
   ]
  },
  {
   "cell_type": "code",
   "execution_count": 70,
   "metadata": {
    "colab": {
     "base_uri": "https://localhost:8080/"
    },
    "executionInfo": {
     "elapsed": 2,
     "status": "ok",
     "timestamp": 1666050913229,
     "user": {
      "displayName": "Gilberto Kaihami",
      "userId": "07651446941847976228"
     },
     "user_tz": 180
    },
    "id": "Rn3JCtu_40-A",
    "outputId": "f4da3fc7-0b09-4a98-99f5-24432a8e2de0"
   },
   "outputs": [
    {
     "name": "stdout",
     "output_type": "stream",
     "text": [
      "1/0 = infinito\n",
      "--------------------------------\n",
      "1/2 = 0.5\n",
      "--------------------------------\n",
      "1/3 = 0.3333333333333333\n",
      "--------------------------------\n",
      "1/a = erro desconhecido\n",
      "--------------------------------\n",
      "1/5 = 0.2\n",
      "--------------------------------\n"
     ]
    }
   ],
   "source": [
    "divisao = lambda a, b: a/b\n",
    "\n",
    "lista = [0, 2, 3, 'a', 5]\n",
    "for ele in lista:\n",
    "  try:\n",
    "    div = divisao(1, ele)\n",
    "  except ZeroDivisionError:\n",
    "    div = 'infinito'\n",
    "  # except TypeError:\n",
    "  #   div = 'input inválido'\n",
    "  except Exception:\n",
    "    div = 'erro desconhecido'\n",
    "  print(f'{1}/{ele} = {div}')\n",
    "  print('-'*32)"
   ]
  },
  {
   "cell_type": "markdown",
   "metadata": {
    "id": "PKl_Ablu8TOy"
   },
   "source": [
    "Podemos adicionar um `else` no `try/except`, sendo que o else somente é executado se o bloco `try` não ocorra um erro"
   ]
  },
  {
   "cell_type": "code",
   "execution_count": 82,
   "metadata": {
    "colab": {
     "base_uri": "https://localhost:8080/"
    },
    "executionInfo": {
     "elapsed": 239,
     "status": "ok",
     "timestamp": 1666051438986,
     "user": {
      "displayName": "Gilberto Kaihami",
      "userId": "07651446941847976228"
     },
     "user_tz": 180
    },
    "id": "ioNruRhO8NiU",
    "outputId": "e4a1f8ab-2e0d-4135-85db-c7dcc097b47b"
   },
   "outputs": [
    {
     "name": "stdout",
     "output_type": "stream",
     "text": [
      "ZeroDivisionError\n",
      "infinito\n",
      "--------------------------------\n",
      "Nenhum erro ocorreu\n",
      "1/2 = 0.5\n",
      "--------------------------------\n",
      "Nenhum erro ocorreu\n",
      "1/3 = 0.3333333333333333\n",
      "--------------------------------\n",
      "TypeError\n",
      "input inválido\n",
      "--------------------------------\n",
      "Nenhum erro ocorreu\n",
      "1/5 = 0.2\n",
      "--------------------------------\n"
     ]
    }
   ],
   "source": [
    "divisao = lambda a, b: a/b\n",
    "\n",
    "lista = [0, 2, 3, 'a', 5]\n",
    "for ele in lista:\n",
    "  try:\n",
    "    div = divisao(1, ele)\n",
    "  except ZeroDivisionError as e:\n",
    "    print('ZeroDivisionError')\n",
    "    print('infinito')\n",
    "  except TypeError:\n",
    "    print('TypeError')\n",
    "    print('input inválido')\n",
    "  except Exception:\n",
    "    print(f'erro desconhecido ocorreu')\n",
    "  else:\n",
    "    print('Nenhum erro ocorreu')\n",
    "    print(f'{1}/{ele} = {div}')\n",
    "  print('-'*32)"
   ]
  },
  {
   "cell_type": "markdown",
   "metadata": {
    "id": "UR7zbBCaIqem"
   },
   "source": [
    "Por fim temos o `finally`, ou finalmente, esse bloco sempre é executado independente se ocorreu um erro ou não.\n",
    "\n",
    "Por fim temos:\n",
    "\n",
    "```\n",
    "try:\n",
    "  Tente algum código\n",
    "except:\n",
    "  Caso ocorra um erro no bloco acima\n",
    "else:\n",
    "  Execute caso não tenha excessão\n",
    "finally:\n",
    "  Sempre execute esse código\n",
    "```\n",
    "\n",
    "O `finally` é muito utilizado para fechar arquivos abertos ou conexões (com banco de dados), uma vez que ele sempre será executado"
   ]
  },
  {
   "cell_type": "code",
   "execution_count": 106,
   "metadata": {
    "colab": {
     "base_uri": "https://localhost:8080/"
    },
    "executionInfo": {
     "elapsed": 246,
     "status": "ok",
     "timestamp": 1666052373531,
     "user": {
      "displayName": "Gilberto Kaihami",
      "userId": "07651446941847976228"
     },
     "user_tz": 180
    },
    "id": "okwCgJqBIdeU",
    "outputId": "74075cbf-418f-4e40-db6e-806f743f1263"
   },
   "outputs": [
    {
     "name": "stdout",
     "output_type": "stream",
     "text": [
      "ZeroDivisionError\n",
      "infinito\n",
      "Tenha um bom dia!\n",
      "--------------------------------\n",
      "Nenhum erro ocorreu\n",
      "1/2 = 0.5\n",
      "Tenha um bom dia!\n",
      "--------------------------------\n",
      "Nenhum erro ocorreu\n",
      "1/3 = 0.3333333333333333\n",
      "Tenha um bom dia!\n",
      "--------------------------------\n",
      "TypeError\n",
      "input inválido\n",
      "Tenha um bom dia!\n",
      "--------------------------------\n",
      "Nenhum erro ocorreu\n",
      "1/5 = 0.2\n",
      "Tenha um bom dia!\n",
      "--------------------------------\n"
     ]
    }
   ],
   "source": [
    "divisao = lambda a, b: a/b\n",
    "\n",
    "lista = [0, 2, 3, 'a', 5]\n",
    "for ele in lista:\n",
    "  try:\n",
    "    div = divisao(1, ele)\n",
    "  except ZeroDivisionError as e:\n",
    "    print('ZeroDivisionError')\n",
    "    print('infinito')\n",
    "  except TypeError:\n",
    "    print('TypeError')\n",
    "    print('input inválido')\n",
    "  except Exception:\n",
    "    print(f'erro desconhecido ocorreu')\n",
    "  else:\n",
    "    print('Nenhum erro ocorreu')\n",
    "    print(f'{1}/{ele} = {div}')\n",
    "  finally:\n",
    "    print('Tenha um bom dia!')\n",
    "  print('-'*32)"
   ]
  },
  {
   "cell_type": "markdown",
   "metadata": {
    "id": "cuRuuXD7Jg_O"
   },
   "source": [
    "Apesar de ser muito útil o `try`/`except` para evitar erros, muitas vezes queremos que algum erro ocorra no nosso sistema, indicando um comportamento inesperado!"
   ]
  },
  {
   "cell_type": "code",
   "execution_count": 99,
   "metadata": {
    "colab": {
     "base_uri": "https://localhost:8080/",
     "height": 340
    },
    "executionInfo": {
     "elapsed": 2,
     "status": "error",
     "timestamp": 1666052208793,
     "user": {
      "displayName": "Gilberto Kaihami",
      "userId": "07651446941847976228"
     },
     "user_tz": 180
    },
    "id": "6MhyXydNJghp",
    "outputId": "dbd4b953-01f0-4571-d5b3-0cb1e893bdb1"
   },
   "outputs": [
    {
     "name": "stdout",
     "output_type": "stream",
     "text": [
      "[10]\n"
     ]
    },
    {
     "ename": "ValueError",
     "evalue": "ignored",
     "output_type": "error",
     "traceback": [
      "\u001b[0;31m---------------------------------------------------------------------------\u001b[0m",
      "\u001b[0;31mValueError\u001b[0m                                Traceback (most recent call last)",
      "\u001b[0;32m<ipython-input-99-0bfabe83a983>\u001b[0m in \u001b[0;36m<module>\u001b[0;34m\u001b[0m\n\u001b[1;32m     10\u001b[0m \u001b[0msalarios\u001b[0m \u001b[0;34m=\u001b[0m \u001b[0;34m[\u001b[0m\u001b[0;34m]\u001b[0m\u001b[0;34m\u001b[0m\u001b[0;34m\u001b[0m\u001b[0m\n\u001b[1;32m     11\u001b[0m \u001b[0mprint\u001b[0m\u001b[0;34m(\u001b[0m\u001b[0mcadastrar_salario\u001b[0m\u001b[0;34m(\u001b[0m\u001b[0;36m10\u001b[0m\u001b[0;34m,\u001b[0m \u001b[0msalarios\u001b[0m\u001b[0;34m)\u001b[0m\u001b[0;34m)\u001b[0m\u001b[0;34m\u001b[0m\u001b[0;34m\u001b[0m\u001b[0m\n\u001b[0;32m---> 12\u001b[0;31m \u001b[0mprint\u001b[0m\u001b[0;34m(\u001b[0m\u001b[0mcadastrar_salario\u001b[0m\u001b[0;34m(\u001b[0m\u001b[0;34m-\u001b[0m\u001b[0;36m10\u001b[0m\u001b[0;34m,\u001b[0m \u001b[0msalarios\u001b[0m\u001b[0;34m)\u001b[0m\u001b[0;34m)\u001b[0m\u001b[0;34m\u001b[0m\u001b[0;34m\u001b[0m\u001b[0m\n\u001b[0m",
      "\u001b[0;32m<ipython-input-99-0bfabe83a983>\u001b[0m in \u001b[0;36mcadastrar_salario\u001b[0;34m(salario, salarios)\u001b[0m\n\u001b[1;32m      3\u001b[0m     \u001b[0;32mraise\u001b[0m \u001b[0mTypeError\u001b[0m\u001b[0;34m(\u001b[0m\u001b[0;34mf'Salario deve ser um número, recebido uma <str>, {salario}'\u001b[0m\u001b[0;34m)\u001b[0m\u001b[0;34m\u001b[0m\u001b[0;34m\u001b[0m\u001b[0m\n\u001b[1;32m      4\u001b[0m   \u001b[0;32melif\u001b[0m \u001b[0msalario\u001b[0m \u001b[0;34m<=\u001b[0m \u001b[0;36m0\u001b[0m\u001b[0;34m:\u001b[0m\u001b[0;34m\u001b[0m\u001b[0;34m\u001b[0m\u001b[0m\n\u001b[0;32m----> 5\u001b[0;31m     \u001b[0;32mraise\u001b[0m \u001b[0mValueError\u001b[0m\u001b[0;34m(\u001b[0m\u001b[0;34mf'Salário inválido! O valor deve ser positivo, recebido \"{salario}\"'\u001b[0m\u001b[0;34m)\u001b[0m\u001b[0;34m\u001b[0m\u001b[0;34m\u001b[0m\u001b[0m\n\u001b[0m\u001b[1;32m      6\u001b[0m \u001b[0;34m\u001b[0m\u001b[0m\n\u001b[1;32m      7\u001b[0m   \u001b[0msalarios\u001b[0m\u001b[0;34m.\u001b[0m\u001b[0mappend\u001b[0m\u001b[0;34m(\u001b[0m\u001b[0msalario\u001b[0m\u001b[0;34m)\u001b[0m\u001b[0;34m\u001b[0m\u001b[0;34m\u001b[0m\u001b[0m\n",
      "\u001b[0;31mValueError\u001b[0m: Salário inválido! O valor deve ser positivo, recebido \"-10\""
     ]
    }
   ],
   "source": [
    "def cadastrar_salario(salario, salarios):\n",
    "  if isinstance(salario, str):\n",
    "    raise TypeError(f'Salario deve ser um número, recebido uma <str>, {salario}')\n",
    "  elif salario <= 0:\n",
    "    raise ValueError(f'Salário inválido! O valor deve ser positivo, recebido \"{salario}\"')\n",
    "\n",
    "  salarios.append(salario)\n",
    "  return salarios\n",
    "\n",
    "salarios = []\n",
    "print(cadastrar_salario(10, salarios))\n",
    "print(cadastrar_salario(-10, salarios))"
   ]
  },
  {
   "cell_type": "code",
   "execution_count": 100,
   "metadata": {
    "colab": {
     "base_uri": "https://localhost:8080/",
     "height": 288
    },
    "executionInfo": {
     "elapsed": 2,
     "status": "error",
     "timestamp": 1666052210073,
     "user": {
      "displayName": "Gilberto Kaihami",
      "userId": "07651446941847976228"
     },
     "user_tz": 180
    },
    "id": "87PpTHU4cg-e",
    "outputId": "dff9b7dc-9b76-4cf6-d50f-ee40ed3e5409"
   },
   "outputs": [
    {
     "ename": "TypeError",
     "evalue": "ignored",
     "output_type": "error",
     "traceback": [
      "\u001b[0;31m---------------------------------------------------------------------------\u001b[0m",
      "\u001b[0;31mTypeError\u001b[0m                                 Traceback (most recent call last)",
      "\u001b[0;32m<ipython-input-100-02d7fa9a5c9e>\u001b[0m in \u001b[0;36m<module>\u001b[0;34m\u001b[0m\n\u001b[0;32m----> 1\u001b[0;31m \u001b[0mprint\u001b[0m\u001b[0;34m(\u001b[0m\u001b[0mcadastrar_salario\u001b[0m\u001b[0;34m(\u001b[0m\u001b[0;34m'-10'\u001b[0m\u001b[0;34m,\u001b[0m \u001b[0msalarios\u001b[0m\u001b[0;34m)\u001b[0m\u001b[0;34m)\u001b[0m\u001b[0;34m\u001b[0m\u001b[0;34m\u001b[0m\u001b[0m\n\u001b[0m",
      "\u001b[0;32m<ipython-input-99-0bfabe83a983>\u001b[0m in \u001b[0;36mcadastrar_salario\u001b[0;34m(salario, salarios)\u001b[0m\n\u001b[1;32m      1\u001b[0m \u001b[0;32mdef\u001b[0m \u001b[0mcadastrar_salario\u001b[0m\u001b[0;34m(\u001b[0m\u001b[0msalario\u001b[0m\u001b[0;34m,\u001b[0m \u001b[0msalarios\u001b[0m\u001b[0;34m)\u001b[0m\u001b[0;34m:\u001b[0m\u001b[0;34m\u001b[0m\u001b[0;34m\u001b[0m\u001b[0m\n\u001b[1;32m      2\u001b[0m   \u001b[0;32mif\u001b[0m \u001b[0misinstance\u001b[0m\u001b[0;34m(\u001b[0m\u001b[0msalario\u001b[0m\u001b[0;34m,\u001b[0m \u001b[0mstr\u001b[0m\u001b[0;34m)\u001b[0m\u001b[0;34m:\u001b[0m\u001b[0;34m\u001b[0m\u001b[0;34m\u001b[0m\u001b[0m\n\u001b[0;32m----> 3\u001b[0;31m     \u001b[0;32mraise\u001b[0m \u001b[0mTypeError\u001b[0m\u001b[0;34m(\u001b[0m\u001b[0;34mf'Salario deve ser um número, recebido uma <str>, {salario}'\u001b[0m\u001b[0;34m)\u001b[0m\u001b[0;34m\u001b[0m\u001b[0;34m\u001b[0m\u001b[0m\n\u001b[0m\u001b[1;32m      4\u001b[0m   \u001b[0;32melif\u001b[0m \u001b[0msalario\u001b[0m \u001b[0;34m<=\u001b[0m \u001b[0;36m0\u001b[0m\u001b[0;34m:\u001b[0m\u001b[0;34m\u001b[0m\u001b[0;34m\u001b[0m\u001b[0m\n\u001b[1;32m      5\u001b[0m     \u001b[0;32mraise\u001b[0m \u001b[0mValueError\u001b[0m\u001b[0;34m(\u001b[0m\u001b[0;34mf'Salário inválido! O valor deve ser positivo, recebido \"{salario}\"'\u001b[0m\u001b[0;34m)\u001b[0m\u001b[0;34m\u001b[0m\u001b[0;34m\u001b[0m\u001b[0m\n",
      "\u001b[0;31mTypeError\u001b[0m: Salario deve ser um número, recebido uma <str>, -10"
     ]
    }
   ],
   "source": [
    "print(cadastrar_salario('-10', salarios))"
   ]
  },
  {
   "cell_type": "markdown",
   "metadata": {
    "id": "SoHd9mP-K082"
   },
   "source": [
    "Criando exceções customizadas"
   ]
  },
  {
   "cell_type": "code",
   "execution_count": 107,
   "metadata": {
    "executionInfo": {
     "elapsed": 1,
     "status": "ok",
     "timestamp": 1666052408275,
     "user": {
      "displayName": "Gilberto Kaihami",
      "userId": "07651446941847976228"
     },
     "user_tz": 180
    },
    "id": "8IeFInxGK0Kc"
   },
   "outputs": [],
   "source": [
    "class SalarioInvalido(Exception):\n",
    "  \"\"\"Erro acontece quando a pessoa usuária inserir um valor menor ou igual a zero\n",
    "  \"\"\"\n",
    "  pass"
   ]
  },
  {
   "cell_type": "code",
   "execution_count": 122,
   "metadata": {
    "executionInfo": {
     "elapsed": 263,
     "status": "ok",
     "timestamp": 1666052922522,
     "user": {
      "displayName": "Gilberto Kaihami",
      "userId": "07651446941847976228"
     },
     "user_tz": 180
    },
    "id": "dNHkXWgWKKHk"
   },
   "outputs": [],
   "source": [
    "def input_salario():\n",
    "  # Separando as responsabilidades\n",
    "  salario = float(input('Informe o salário: '))\n",
    "  if salario <= 0:\n",
    "    raise SalarioInvalido(f'Salário inválido! O valor deve ser positivo, recebido {salario}')\n",
    "  return salario\n",
    "\n",
    "def cadastrar_salario():\n",
    "  valido = False\n",
    "  while not valido:\n",
    "    try:\n",
    "      salario = input_salario()\n",
    "      valido = True\n",
    "    except SalarioInvalido:\n",
    "      print('Salário invalido! Insira um valor positivo')\n",
    "    except ValueError:\n",
    "      print('Salário inválido! Insira um número')\n",
    "    except Exception:\n",
    "      raise Exception('Um erro inesperado ocorreu')\n",
    "    \n",
    "  return salario"
   ]
  },
  {
   "cell_type": "code",
   "execution_count": 121,
   "metadata": {
    "colab": {
     "base_uri": "https://localhost:8080/",
     "height": 305
    },
    "executionInfo": {
     "elapsed": 2370,
     "status": "error",
     "timestamp": 1666052880597,
     "user": {
      "displayName": "Gilberto Kaihami",
      "userId": "07651446941847976228"
     },
     "user_tz": 180
    },
    "id": "ftOU12tbMF4Y",
    "outputId": "270858cc-ee69-4ed8-c0c1-d7e3067290d8"
   },
   "outputs": [
    {
     "name": "stdout",
     "output_type": "stream",
     "text": [
      "Informe o salário: 20\n"
     ]
    },
    {
     "ename": "SalarioInvalido",
     "evalue": "ignored",
     "output_type": "error",
     "traceback": [
      "\u001b[0;31m---------------------------------------------------------------------------\u001b[0m",
      "\u001b[0;31mSalarioInvalido\u001b[0m                           Traceback (most recent call last)",
      "\u001b[0;32m<ipython-input-121-d3a2ae23830d>\u001b[0m in \u001b[0;36m<module>\u001b[0;34m\u001b[0m\n\u001b[0;32m----> 1\u001b[0;31m \u001b[0minput_salario\u001b[0m\u001b[0;34m(\u001b[0m\u001b[0;34m)\u001b[0m\u001b[0;34m\u001b[0m\u001b[0;34m\u001b[0m\u001b[0m\n\u001b[0m",
      "\u001b[0;32m<ipython-input-120-a23e3bcb4d19>\u001b[0m in \u001b[0;36minput_salario\u001b[0;34m()\u001b[0m\n\u001b[1;32m      3\u001b[0m   \u001b[0msalario\u001b[0m \u001b[0;34m=\u001b[0m \u001b[0mfloat\u001b[0m\u001b[0;34m(\u001b[0m\u001b[0minput\u001b[0m\u001b[0;34m(\u001b[0m\u001b[0;34m'Informe o salário: '\u001b[0m\u001b[0;34m)\u001b[0m\u001b[0;34m)\u001b[0m\u001b[0;34m\u001b[0m\u001b[0;34m\u001b[0m\u001b[0m\n\u001b[1;32m      4\u001b[0m   \u001b[0;32mif\u001b[0m \u001b[0msalario\u001b[0m \u001b[0;34m>\u001b[0m \u001b[0;36m0\u001b[0m\u001b[0;34m:\u001b[0m\u001b[0;34m\u001b[0m\u001b[0;34m\u001b[0m\u001b[0m\n\u001b[0;32m----> 5\u001b[0;31m     \u001b[0;32mraise\u001b[0m \u001b[0mSalarioInvalido\u001b[0m\u001b[0;34m(\u001b[0m\u001b[0;34mf'Salário inválido! O valor deve ser positivo, recebido {salario}'\u001b[0m\u001b[0;34m)\u001b[0m\u001b[0;34m\u001b[0m\u001b[0;34m\u001b[0m\u001b[0m\n\u001b[0m\u001b[1;32m      6\u001b[0m   \u001b[0;32mreturn\u001b[0m \u001b[0msalario\u001b[0m\u001b[0;34m\u001b[0m\u001b[0;34m\u001b[0m\u001b[0m\n\u001b[1;32m      7\u001b[0m \u001b[0;34m\u001b[0m\u001b[0m\n",
      "\u001b[0;31mSalarioInvalido\u001b[0m: Salário inválido! O valor deve ser positivo, recebido 20.0"
     ]
    }
   ],
   "source": [
    "input_salario()"
   ]
  },
  {
   "cell_type": "code",
   "execution_count": 119,
   "metadata": {
    "colab": {
     "base_uri": "https://localhost:8080/"
    },
    "executionInfo": {
     "elapsed": 27529,
     "status": "ok",
     "timestamp": 1666052810995,
     "user": {
      "displayName": "Gilberto Kaihami",
      "userId": "07651446941847976228"
     },
     "user_tz": 180
    },
    "id": "AN2WJ6kwKplv",
    "outputId": "54e89407-8f50-49d6-95b1-b38b1076e750"
   },
   "outputs": [
    {
     "name": "stdout",
     "output_type": "stream",
     "text": [
      "Informe o salário: 20,532.35\n",
      "Salário inválido! Insira um número\n",
      "Informe o salário: a\n",
      "Salário inválido! Insira um número\n",
      "Informe o salário: 20354a\n",
      "Salário inválido! Insira um número\n",
      "Informe o salário: -20\n",
      "Salário invalido! Insira um valor positivo\n",
      "Informe o salário: 20\n"
     ]
    },
    {
     "data": {
      "text/plain": [
       "20.0"
      ]
     },
     "execution_count": 119,
     "metadata": {},
     "output_type": "execute_result"
    }
   ],
   "source": [
    "cadastrar_salario()"
   ]
  },
  {
   "cell_type": "markdown",
   "metadata": {
    "id": "UDvglJ6fo5AR"
   },
   "source": [
    "### Criando sistemas com programação funcional"
   ]
  },
  {
   "cell_type": "code",
   "execution_count": 123,
   "metadata": {
    "executionInfo": {
     "elapsed": 1,
     "status": "ok",
     "timestamp": 1666053342793,
     "user": {
      "displayName": "Gilberto Kaihami",
      "userId": "07651446941847976228"
     },
     "user_tz": 180
    },
    "id": "8NDP2UXQokIL"
   },
   "outputs": [],
   "source": [
    "def soma(a, b):\n",
    "  return a+b\n",
    "\n",
    "def multiplicacao(a,b):\n",
    "  return a*b\n",
    "\n",
    "def divisao(a,b):\n",
    "  return a/b\n",
    "\n",
    "def subtracao(a,b):\n",
    "  return a-b\n",
    "\n",
    "def calculadora(a, b, operacao):\n",
    "  # Registrando as funções\n",
    "  operacao_switcher = {\n",
    "      'soma': soma,\n",
    "      'subtracao': subtracao,\n",
    "      'divisao': divisao,\n",
    "      'multiplicacao': multiplicacao,\n",
    "      '+': soma,\n",
    "      '-': subtracao,\n",
    "      '/': divisao,\n",
    "      '*': multiplicacao,\n",
    "  }\n",
    "  if operacao not in operacao_switcher.keys():\n",
    "    raise KeyError(f'Operacao desconhecida! Recebido \"{operacao}\", insira uma operacao valida dentro de {list(operacao_switcher.keys())}')\n",
    "\n",
    "  funcao = operacao_switcher[operacao]\n",
    "  print(funcao)\n",
    "  resultado = funcao(a, b)\n",
    "  return resultado\n"
   ]
  },
  {
   "cell_type": "markdown",
   "metadata": {
    "id": "udo13XdWQsxl"
   },
   "source": [
    "**Desafio**  \n",
    "Modifique a função cadastrar_usuario abaixo em que serão coletados as seguintes informações a partir da entrada da pessoa usuária:\n",
    "\n",
    "- CPF (essa será a chave)\n",
    "- Nome\n",
    "- Idade\n",
    "- Sexo\n",
    "- Renda\n",
    "- Estado\n",
    "\n",
    "1-) Agora crie uma função que permita descobrir a idade média de pessoas cadastradas pelo sexo (para manter simples, masculino e feminino, representado por m e f, respectivamente (output: (('m', media_masc), ('f', media_fem))).\n",
    "\n",
    "2-) Crie uma função que mostre a quantidade de pessoas por sexo (output: (('m', media_masc), ('f', media_fem))).\n",
    "\n",
    "\n",
    "3-) Crie uma função que filtre os dados por estado (output: cadastros filtrado)\n",
    "\n",
    "4-) Crie uma função que permita deletar um cadastro por CPF (output: cadastros)\n",
    "\n",
    "\n",
    "```\n",
    "\n",
    "def cadastrar_usuario():\n",
    "  continuar_cadastro = True\n",
    "\n",
    "  cadastros = {}\n",
    "  while continuar_cadastro:\n",
    "    ...\n",
    "\n",
    "def calcule_media_idade_por_sexo():\n",
    "  ...\n",
    "\n",
    "def conte_quantidade_por_sexo():\n",
    "  ...\n",
    "\n",
    "def filtre_dados():\n",
    "  ...\n",
    "\n",
    "def delete_cadastro():\n",
    "  ...\n",
    "```"
   ]
  },
  {
   "cell_type": "code",
   "execution_count": 21,
   "metadata": {
    "id": "ZegHyxaEjiTT"
   },
   "outputs": [],
   "source": [
    "from collections import namedtuple\n",
    "from functools import reduce\n",
    "import statistics\n",
    "Person = namedtuple('Person',['name','age','sex', 'wage','state'])\n",
    "\n",
    "def cadastrar_usuario():  \n",
    "    option = input('Deseja realizar cadastro? ')\n",
    "    dict_register = {}\n",
    "    while option.lower() in ['s','sim','y','yes']:\n",
    "        data_user = []\n",
    "        cpf = input('CPF: ')\n",
    "        while len(cpf) != 11:\n",
    "            cpf = int(input('CPF inválido. CPF: '))\n",
    "        \n",
    "        name = input('Nome: ')\n",
    "        \n",
    "        age = int(input('Idade: '))\n",
    "        while age < 0:\n",
    "            age = int(input('Valor de idade inválido. Idade: '))\n",
    "        \n",
    "        sex = input('Sexo: ')\n",
    "        while (sex.lower() not in ['m','f','masculino','feminino','male','female']):\n",
    "            sex = input('Entrada Inválida. Sexo: ')\n",
    "        \n",
    "        if sex in ['m','masculino','male']: \n",
    "            sex = 'm'\n",
    "        else:\n",
    "            sex = 'f'\n",
    "       \n",
    "        wage = float(input('Renda: '))\n",
    "        while wage < 0:\n",
    "            wage = input('Entrada Inválida. Renda: ')\n",
    "            \n",
    "        state = input('Estado: ').lower()\n",
    "        \n",
    "        person = Person(name,age,sex,wage,state)\n",
    "        dict_register[cpf] = person\n",
    "        \n",
    "        option = input('Deseja realizar novo cadastro? ')\n",
    "        \n",
    "    return dict_register\n",
    "def get_ages_by_sex(registers,sex):\n",
    "    return [person.age for person in dic.values() if person.sex == sex]\n",
    "    \n",
    "def calcule_media_idade_por_sexo(registers: dict)-> tuple:\n",
    "\n",
    "    mean_age_m = statistics.mean(get_ages_by_sex(registers,'m'))\n",
    "    mean_age_f = statistics.mean(get_ages_by_sex(registers,'f'))\n",
    "    \n",
    "    return tuple(('m',mean_age_m),('f',mean_age_f))\n",
    "\n",
    "def calculate_number_per_sex(registers: dict)-> tuple:\n",
    "    soma_m = lambda resultado,person: (1 if person.sex == 'm' else 0) + resultado\n",
    "    soma_f = lambda resultado,person: (1 if person.sex == 'f' else 0) + resultado\n",
    "    count_m = reduce(soma_m,registers.values(),0)\n",
    "    count_f = reduce(soma_f,registers.values(),0)\n",
    "            \n",
    "    return ('m',count_m),('f',count_f)\n",
    "\n",
    "def filter_by_state(registers,state):\n",
    "    return {cpf:person for cpf, person in registers.items() if person.state == state.lower()}\n",
    "\n",
    "def delete_user(registers,cpf):\n",
    "    from copy import deepcopy\n",
    "    registers = deepcopy(registers)\n",
    "    if cpf in registers.keys():\n",
    "        registers.pop(cpf)\n",
    "    return registers\n",
    "    "
   ]
  },
  {
   "cell_type": "code",
   "execution_count": 18,
   "metadata": {
    "id": "sgcCbY0kQzXZ"
   },
   "outputs": [
    {
     "name": "stdout",
     "output_type": "stream",
     "text": [
      "[101   2]\n",
      "[87  1]\n"
     ]
    }
   ],
   "source": [
    "dic = {'12378945656': Person(name='B', age=87, sex='f', wage=16855.0, state='rn'), '78945612323': Person(name='C', age=45, sex='m', wage=4575.0, state='sp'), '78945632121': Person(name='D', age=56, sex='m', wage=8576.0, state='sp')}\n",
    "soma_m = lambda resultado,person: (np.array([person.age,1]) if person.sex in ['m','masculino','male'] else np.array([0,0])) + resultado\n",
    "soma_f = lambda resultado,person: (np.array([person.age,1]) if person.sex in ['f','feminino','female'] else np.array([0,0])) + resultado\n",
    "acc_age_m = reduce(soma_m,dic.values(),np.array([0,0]))\n",
    "acc_age_f = reduce(soma_f,dic.values(),np.array([0,0]))\n",
    "print(acc_age_m)\n",
    "print(acc_age_f)"
   ]
  },
  {
   "cell_type": "code",
   "execution_count": 20,
   "metadata": {},
   "outputs": [
    {
     "name": "stdout",
     "output_type": "stream",
     "text": [
      "50.5\n",
      "87\n"
     ]
    }
   ],
   "source": [
    "import statistics\n",
    "statistics.mean([person.age for person in dic.values() if person.sex in ['m','masculino','male']])\n",
    "statistics.mean([person.age for person in dic.values() if person.sex in ['f','feminino','female']])"
   ]
  },
  {
   "cell_type": "code",
   "execution_count": 10,
   "metadata": {},
   "outputs": [
    {
     "data": {
      "text/plain": [
       "array([1, 3])"
      ]
     },
     "execution_count": 10,
     "metadata": {},
     "output_type": "execute_result"
    }
   ],
   "source": [
    "import numpy as np\n",
    "a = np.array([0,1])\n",
    "b = np.array([1,2])\n",
    "c = a+b\n",
    "c"
   ]
  },
  {
   "cell_type": "code",
   "execution_count": 1,
   "metadata": {},
   "outputs": [
    {
     "ename": "KeyError",
     "evalue": "'a'",
     "output_type": "error",
     "traceback": [
      "\u001b[0;31m---------------------------------------------------------------------------\u001b[0m",
      "\u001b[0;31mKeyError\u001b[0m                                  Traceback (most recent call last)",
      "Input \u001b[0;32mIn [1]\u001b[0m, in \u001b[0;36m<cell line: 2>\u001b[0;34m()\u001b[0m\n\u001b[1;32m      1\u001b[0m a \u001b[38;5;241m=\u001b[39m \u001b[38;5;28mdict\u001b[39m()\n\u001b[0;32m----> 2\u001b[0m \u001b[43ma\u001b[49m\u001b[38;5;241;43m.\u001b[39;49m\u001b[43mpop\u001b[49m\u001b[43m(\u001b[49m\u001b[38;5;124;43m'\u001b[39;49m\u001b[38;5;124;43ma\u001b[39;49m\u001b[38;5;124;43m'\u001b[39;49m\u001b[43m)\u001b[49m\n",
      "\u001b[0;31mKeyError\u001b[0m: 'a'"
     ]
    }
   ],
   "source": [
    "a = dict()\n",
    "a.pop('a')"
   ]
  },
  {
   "cell_type": "code",
   "execution_count": null,
   "metadata": {},
   "outputs": [],
   "source": []
  }
 ],
 "metadata": {
  "colab": {
   "authorship_tag": "ABX9TyN9NOgZlkYG+0mpWdHdBmMP",
   "collapsed_sections": [],
   "provenance": []
  },
  "kernelspec": {
   "display_name": "Python 3 (ipykernel)",
   "language": "python",
   "name": "python3"
  },
  "language_info": {
   "codemirror_mode": {
    "name": "ipython",
    "version": 3
   },
   "file_extension": ".py",
   "mimetype": "text/x-python",
   "name": "python",
   "nbconvert_exporter": "python",
   "pygments_lexer": "ipython3",
   "version": "3.8.10"
  }
 },
 "nbformat": 4,
 "nbformat_minor": 4
}
